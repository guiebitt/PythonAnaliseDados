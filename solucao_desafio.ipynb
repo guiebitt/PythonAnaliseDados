{
  "cells": [
    {
      "cell_type": "code",
      "source": [
        "import numpy as np\r\n",
        "import pandas as pd"
      ],
      "outputs": [],
      "execution_count": 1,
      "metadata": {
        "collapsed": true,
        "jupyter": {
          "source_hidden": false,
          "outputs_hidden": false
        },
        "nteract": {
          "transient": {
            "deleting": false
          }
        },
        "gather": {
          "logged": 1606591542837
        }
      }
    },
    {
      "cell_type": "code",
      "source": [
        "#importando arquivo excel\r\n",
        "frame = pd.read_excel('datasets/univille/chamada.xlsx', 'Sheet1')\r\n",
        "frame.head()"
      ],
      "outputs": [
        {
          "output_type": "execute_result",
          "execution_count": 2,
          "data": {
            "text/plain": "   ID      Hora de início    Coluna1  Coluna2   Hora de conclusão      Email  \\\n0   1 2020-08-25 18:07:40 2020-08-25        3 2020-08-25 18:08:23  anonymous   \n1   2 2020-08-25 18:07:49 2020-08-25        3 2020-08-25 18:08:33  anonymous   \n2   3 2020-08-25 18:07:50 2020-08-25        3 2020-08-25 18:08:36  anonymous   \n3   4 2020-08-25 18:07:59 2020-08-25        3 2020-08-25 18:08:46  anonymous   \n4   5 2020-08-25 18:07:46 2020-08-25        3 2020-08-25 18:08:49  anonymous   \n\n   Nome Nome completo e legível2  \\\n0   NaN                  Arthur    \n1   NaN                  Nathan    \n2   NaN                 Patrick    \n3   NaN                  Raiana    \n4   NaN                  Haniel    \n\n                                               Curso    Série  \\\n0  Bacharelado em Sistemas de Informação da UNIVILLE  2 Série   \n1  Bacharelado em Sistemas de Informação da UNIVILLE  2 Série   \n2  Bacharelado em Engenharia de Software  da UNIV...  1 Série   \n3  Bacharelado em Engenharia de Software  da UNIV...  2 Série   \n4  Bacharelado em Engenharia de Software  da UNIV...  2 Série   \n\n  Seu E-mail da UNIVILLE2 O curso foi relevante para sua formação?  \\\n0      Arthur@univille.br                      Concordo totalmente   \n1        Nathan@gmail.com                      Concordo totalmente   \n2     Patrick@univille.br                      Concordo totalmente   \n3      Raiana@univille.br                      Concordo totalmente   \n4      Haniel@univille.br                      Concordo totalmente   \n\n  Você gostou do curso que participou?  \\\n0                  Concordo totalmente   \n1                  Concordo totalmente   \n2                  Concordo totalmente   \n3                  Concordo totalmente   \n4                  Concordo totalmente   \n\n  O instrutor tinha domínio sobre o assunto lecionado?  \\\n0                                Concordo totalmente     \n1                                Concordo totalmente     \n2                                Concordo totalmente     \n3                                Concordo totalmente     \n4                                Concordo totalmente     \n\n  Você faria esse curso novamente?  \n0              Concordo totalmente  \n1              Concordo totalmente  \n2              Concordo totalmente  \n3              Concordo totalmente  \n4              Concordo totalmente  ",
            "text/html": "<div>\n<style scoped>\n    .dataframe tbody tr th:only-of-type {\n        vertical-align: middle;\n    }\n\n    .dataframe tbody tr th {\n        vertical-align: top;\n    }\n\n    .dataframe thead th {\n        text-align: right;\n    }\n</style>\n<table border=\"1\" class=\"dataframe\">\n  <thead>\n    <tr style=\"text-align: right;\">\n      <th></th>\n      <th>ID</th>\n      <th>Hora de início</th>\n      <th>Coluna1</th>\n      <th>Coluna2</th>\n      <th>Hora de conclusão</th>\n      <th>Email</th>\n      <th>Nome</th>\n      <th>Nome completo e legível2</th>\n      <th>Curso</th>\n      <th>Série</th>\n      <th>Seu E-mail da UNIVILLE2</th>\n      <th>O curso foi relevante para sua formação?</th>\n      <th>Você gostou do curso que participou?</th>\n      <th>O instrutor tinha domínio sobre o assunto lecionado?</th>\n      <th>Você faria esse curso novamente?</th>\n    </tr>\n  </thead>\n  <tbody>\n    <tr>\n      <th>0</th>\n      <td>1</td>\n      <td>2020-08-25 18:07:40</td>\n      <td>2020-08-25</td>\n      <td>3</td>\n      <td>2020-08-25 18:08:23</td>\n      <td>anonymous</td>\n      <td>NaN</td>\n      <td>Arthur</td>\n      <td>Bacharelado em Sistemas de Informação da UNIVILLE</td>\n      <td>2 Série</td>\n      <td>Arthur@univille.br</td>\n      <td>Concordo totalmente</td>\n      <td>Concordo totalmente</td>\n      <td>Concordo totalmente</td>\n      <td>Concordo totalmente</td>\n    </tr>\n    <tr>\n      <th>1</th>\n      <td>2</td>\n      <td>2020-08-25 18:07:49</td>\n      <td>2020-08-25</td>\n      <td>3</td>\n      <td>2020-08-25 18:08:33</td>\n      <td>anonymous</td>\n      <td>NaN</td>\n      <td>Nathan</td>\n      <td>Bacharelado em Sistemas de Informação da UNIVILLE</td>\n      <td>2 Série</td>\n      <td>Nathan@gmail.com</td>\n      <td>Concordo totalmente</td>\n      <td>Concordo totalmente</td>\n      <td>Concordo totalmente</td>\n      <td>Concordo totalmente</td>\n    </tr>\n    <tr>\n      <th>2</th>\n      <td>3</td>\n      <td>2020-08-25 18:07:50</td>\n      <td>2020-08-25</td>\n      <td>3</td>\n      <td>2020-08-25 18:08:36</td>\n      <td>anonymous</td>\n      <td>NaN</td>\n      <td>Patrick</td>\n      <td>Bacharelado em Engenharia de Software  da UNIV...</td>\n      <td>1 Série</td>\n      <td>Patrick@univille.br</td>\n      <td>Concordo totalmente</td>\n      <td>Concordo totalmente</td>\n      <td>Concordo totalmente</td>\n      <td>Concordo totalmente</td>\n    </tr>\n    <tr>\n      <th>3</th>\n      <td>4</td>\n      <td>2020-08-25 18:07:59</td>\n      <td>2020-08-25</td>\n      <td>3</td>\n      <td>2020-08-25 18:08:46</td>\n      <td>anonymous</td>\n      <td>NaN</td>\n      <td>Raiana</td>\n      <td>Bacharelado em Engenharia de Software  da UNIV...</td>\n      <td>2 Série</td>\n      <td>Raiana@univille.br</td>\n      <td>Concordo totalmente</td>\n      <td>Concordo totalmente</td>\n      <td>Concordo totalmente</td>\n      <td>Concordo totalmente</td>\n    </tr>\n    <tr>\n      <th>4</th>\n      <td>5</td>\n      <td>2020-08-25 18:07:46</td>\n      <td>2020-08-25</td>\n      <td>3</td>\n      <td>2020-08-25 18:08:49</td>\n      <td>anonymous</td>\n      <td>NaN</td>\n      <td>Haniel</td>\n      <td>Bacharelado em Engenharia de Software  da UNIV...</td>\n      <td>2 Série</td>\n      <td>Haniel@univille.br</td>\n      <td>Concordo totalmente</td>\n      <td>Concordo totalmente</td>\n      <td>Concordo totalmente</td>\n      <td>Concordo totalmente</td>\n    </tr>\n  </tbody>\n</table>\n</div>"
          },
          "metadata": {}
        }
      ],
      "execution_count": 2,
      "metadata": {
        "gather": {
          "logged": 1606591543019
        }
      }
    },
    {
      "cell_type": "code",
      "source": [
        "#removendo colunas desnecessárias\r\n",
        "frame = frame.drop(['Coluna1','Coluna2','Hora de conclusão','Email','Nome'], axis=1)"
      ],
      "outputs": [],
      "execution_count": 3,
      "metadata": {
        "collapsed": true,
        "jupyter": {
          "source_hidden": false,
          "outputs_hidden": false
        },
        "nteract": {
          "transient": {
            "deleting": false
          }
        },
        "gather": {
          "logged": 1606591543074
        }
      }
    },
    {
      "cell_type": "code",
      "source": [
        "frame[:10]"
      ],
      "outputs": [
        {
          "output_type": "execute_result",
          "execution_count": 4,
          "data": {
            "text/plain": "   ID      Hora de início Nome completo e legível2  \\\n0   1 2020-08-25 18:07:40                  Arthur    \n1   2 2020-08-25 18:07:49                  Nathan    \n2   3 2020-08-25 18:07:50                 Patrick    \n3   4 2020-08-25 18:07:59                  Raiana    \n4   5 2020-08-25 18:07:46                  Haniel    \n5   6 2020-08-25 18:09:16                 Roberto    \n6   7 2020-08-25 18:11:31                  Daniel    \n7   8 2020-08-25 18:07:42                Djonatan    \n8   9 2020-08-25 18:13:44                Vinicius    \n9  10 2020-08-25 18:09:08                 Nicolly    \n\n                                               Curso    Série  \\\n0  Bacharelado em Sistemas de Informação da UNIVILLE  2 Série   \n1  Bacharelado em Sistemas de Informação da UNIVILLE  2 Série   \n2  Bacharelado em Engenharia de Software  da UNIV...  1 Série   \n3  Bacharelado em Engenharia de Software  da UNIV...  2 Série   \n4  Bacharelado em Engenharia de Software  da UNIV...  2 Série   \n5  Bacharelado em Engenharia de Software  da UNIV...  1 Série   \n6  Bacharelado em Engenharia de Software  da UNIV...  1 Série   \n7  Bacharelado em Engenharia de Software  da UNIV...  1 Série   \n8  Bacharelado em Engenharia de Software  da UNIV...  2 Série   \n9  Bacharelado em Sistemas de Informação da UNIVILLE  2 Série   \n\n  Seu E-mail da UNIVILLE2 O curso foi relevante para sua formação?  \\\n0      Arthur@univille.br                      Concordo totalmente   \n1        Nathan@gmail.com                      Concordo totalmente   \n2     Patrick@univille.br                      Concordo totalmente   \n3      Raiana@univille.br                      Concordo totalmente   \n4      Haniel@univille.br                      Concordo totalmente   \n5     Roberto@univille.br                      Concordo totalmente   \n6                 Daniel@                      Concordo totalmente   \n7    Djonatan@univille.br                      Concordo totalmente   \n8    Vinicius@univille.br                      Concordo totalmente   \n9     Nicolly@univille.br                      Concordo totalmente   \n\n  Você gostou do curso que participou?  \\\n0                  Concordo totalmente   \n1                  Concordo totalmente   \n2                  Concordo totalmente   \n3                  Concordo totalmente   \n4                  Concordo totalmente   \n5                  Concordo totalmente   \n6                  Concordo totalmente   \n7                  Concordo totalmente   \n8                  Concordo totalmente   \n9                  Concordo totalmente   \n\n  O instrutor tinha domínio sobre o assunto lecionado?  \\\n0                                Concordo totalmente     \n1                                Concordo totalmente     \n2                                Concordo totalmente     \n3                                Concordo totalmente     \n4                                Concordo totalmente     \n5                                Concordo totalmente     \n6                                Concordo totalmente     \n7                                Concordo totalmente     \n8                                Concordo totalmente     \n9                                Concordo totalmente     \n\n  Você faria esse curso novamente?  \n0              Concordo totalmente  \n1              Concordo totalmente  \n2              Concordo totalmente  \n3              Concordo totalmente  \n4              Concordo totalmente  \n5              Concordo totalmente  \n6              Concordo totalmente  \n7              Concordo totalmente  \n8                      Indiferente  \n9              Concordo totalmente  ",
            "text/html": "<div>\n<style scoped>\n    .dataframe tbody tr th:only-of-type {\n        vertical-align: middle;\n    }\n\n    .dataframe tbody tr th {\n        vertical-align: top;\n    }\n\n    .dataframe thead th {\n        text-align: right;\n    }\n</style>\n<table border=\"1\" class=\"dataframe\">\n  <thead>\n    <tr style=\"text-align: right;\">\n      <th></th>\n      <th>ID</th>\n      <th>Hora de início</th>\n      <th>Nome completo e legível2</th>\n      <th>Curso</th>\n      <th>Série</th>\n      <th>Seu E-mail da UNIVILLE2</th>\n      <th>O curso foi relevante para sua formação?</th>\n      <th>Você gostou do curso que participou?</th>\n      <th>O instrutor tinha domínio sobre o assunto lecionado?</th>\n      <th>Você faria esse curso novamente?</th>\n    </tr>\n  </thead>\n  <tbody>\n    <tr>\n      <th>0</th>\n      <td>1</td>\n      <td>2020-08-25 18:07:40</td>\n      <td>Arthur</td>\n      <td>Bacharelado em Sistemas de Informação da UNIVILLE</td>\n      <td>2 Série</td>\n      <td>Arthur@univille.br</td>\n      <td>Concordo totalmente</td>\n      <td>Concordo totalmente</td>\n      <td>Concordo totalmente</td>\n      <td>Concordo totalmente</td>\n    </tr>\n    <tr>\n      <th>1</th>\n      <td>2</td>\n      <td>2020-08-25 18:07:49</td>\n      <td>Nathan</td>\n      <td>Bacharelado em Sistemas de Informação da UNIVILLE</td>\n      <td>2 Série</td>\n      <td>Nathan@gmail.com</td>\n      <td>Concordo totalmente</td>\n      <td>Concordo totalmente</td>\n      <td>Concordo totalmente</td>\n      <td>Concordo totalmente</td>\n    </tr>\n    <tr>\n      <th>2</th>\n      <td>3</td>\n      <td>2020-08-25 18:07:50</td>\n      <td>Patrick</td>\n      <td>Bacharelado em Engenharia de Software  da UNIV...</td>\n      <td>1 Série</td>\n      <td>Patrick@univille.br</td>\n      <td>Concordo totalmente</td>\n      <td>Concordo totalmente</td>\n      <td>Concordo totalmente</td>\n      <td>Concordo totalmente</td>\n    </tr>\n    <tr>\n      <th>3</th>\n      <td>4</td>\n      <td>2020-08-25 18:07:59</td>\n      <td>Raiana</td>\n      <td>Bacharelado em Engenharia de Software  da UNIV...</td>\n      <td>2 Série</td>\n      <td>Raiana@univille.br</td>\n      <td>Concordo totalmente</td>\n      <td>Concordo totalmente</td>\n      <td>Concordo totalmente</td>\n      <td>Concordo totalmente</td>\n    </tr>\n    <tr>\n      <th>4</th>\n      <td>5</td>\n      <td>2020-08-25 18:07:46</td>\n      <td>Haniel</td>\n      <td>Bacharelado em Engenharia de Software  da UNIV...</td>\n      <td>2 Série</td>\n      <td>Haniel@univille.br</td>\n      <td>Concordo totalmente</td>\n      <td>Concordo totalmente</td>\n      <td>Concordo totalmente</td>\n      <td>Concordo totalmente</td>\n    </tr>\n    <tr>\n      <th>5</th>\n      <td>6</td>\n      <td>2020-08-25 18:09:16</td>\n      <td>Roberto</td>\n      <td>Bacharelado em Engenharia de Software  da UNIV...</td>\n      <td>1 Série</td>\n      <td>Roberto@univille.br</td>\n      <td>Concordo totalmente</td>\n      <td>Concordo totalmente</td>\n      <td>Concordo totalmente</td>\n      <td>Concordo totalmente</td>\n    </tr>\n    <tr>\n      <th>6</th>\n      <td>7</td>\n      <td>2020-08-25 18:11:31</td>\n      <td>Daniel</td>\n      <td>Bacharelado em Engenharia de Software  da UNIV...</td>\n      <td>1 Série</td>\n      <td>Daniel@</td>\n      <td>Concordo totalmente</td>\n      <td>Concordo totalmente</td>\n      <td>Concordo totalmente</td>\n      <td>Concordo totalmente</td>\n    </tr>\n    <tr>\n      <th>7</th>\n      <td>8</td>\n      <td>2020-08-25 18:07:42</td>\n      <td>Djonatan</td>\n      <td>Bacharelado em Engenharia de Software  da UNIV...</td>\n      <td>1 Série</td>\n      <td>Djonatan@univille.br</td>\n      <td>Concordo totalmente</td>\n      <td>Concordo totalmente</td>\n      <td>Concordo totalmente</td>\n      <td>Concordo totalmente</td>\n    </tr>\n    <tr>\n      <th>8</th>\n      <td>9</td>\n      <td>2020-08-25 18:13:44</td>\n      <td>Vinicius</td>\n      <td>Bacharelado em Engenharia de Software  da UNIV...</td>\n      <td>2 Série</td>\n      <td>Vinicius@univille.br</td>\n      <td>Concordo totalmente</td>\n      <td>Concordo totalmente</td>\n      <td>Concordo totalmente</td>\n      <td>Indiferente</td>\n    </tr>\n    <tr>\n      <th>9</th>\n      <td>10</td>\n      <td>2020-08-25 18:09:08</td>\n      <td>Nicolly</td>\n      <td>Bacharelado em Sistemas de Informação da UNIVILLE</td>\n      <td>2 Série</td>\n      <td>Nicolly@univille.br</td>\n      <td>Concordo totalmente</td>\n      <td>Concordo totalmente</td>\n      <td>Concordo totalmente</td>\n      <td>Concordo totalmente</td>\n    </tr>\n  </tbody>\n</table>\n</div>"
          },
          "metadata": {}
        }
      ],
      "execution_count": 4,
      "metadata": {
        "collapsed": true,
        "jupyter": {
          "source_hidden": false,
          "outputs_hidden": false
        },
        "nteract": {
          "transient": {
            "deleting": false
          }
        },
        "gather": {
          "logged": 1606591543252
        }
      }
    },
    {
      "cell_type": "code",
      "source": [
        "#trocando o nome das colunas para valores mais simples\r\n",
        "frame.rename(columns={'ID':'id', \"Hora de início\":'data',\"Nome completo e legível2\":'nome','Curso':'curso',\"Série\":'serie','Seu E-mail da UNIVILLE2':'email','O curso foi relevante para sua formação?':'curso_relevante','Você gostou do curso que participou?':'participou','O instrutor tinha domínio sobre o assunto lecionado?':'inst_dominio','Você faria esse curso novamente?':'faria_novamente'}, inplace=True)"
      ],
      "outputs": [],
      "execution_count": 5,
      "metadata": {
        "collapsed": true,
        "jupyter": {
          "source_hidden": false,
          "outputs_hidden": false
        },
        "nteract": {
          "transient": {
            "deleting": false
          }
        },
        "gather": {
          "logged": 1606591543388
        }
      }
    },
    {
      "cell_type": "code",
      "source": [
        "frame.head()"
      ],
      "outputs": [
        {
          "output_type": "execute_result",
          "execution_count": 6,
          "data": {
            "text/plain": "   id                data      nome  \\\n0   1 2020-08-25 18:07:40   Arthur    \n1   2 2020-08-25 18:07:49   Nathan    \n2   3 2020-08-25 18:07:50  Patrick    \n3   4 2020-08-25 18:07:59   Raiana    \n4   5 2020-08-25 18:07:46   Haniel    \n\n                                               curso    serie  \\\n0  Bacharelado em Sistemas de Informação da UNIVILLE  2 Série   \n1  Bacharelado em Sistemas de Informação da UNIVILLE  2 Série   \n2  Bacharelado em Engenharia de Software  da UNIV...  1 Série   \n3  Bacharelado em Engenharia de Software  da UNIV...  2 Série   \n4  Bacharelado em Engenharia de Software  da UNIV...  2 Série   \n\n                 email      curso_relevante           participou  \\\n0   Arthur@univille.br  Concordo totalmente  Concordo totalmente   \n1     Nathan@gmail.com  Concordo totalmente  Concordo totalmente   \n2  Patrick@univille.br  Concordo totalmente  Concordo totalmente   \n3   Raiana@univille.br  Concordo totalmente  Concordo totalmente   \n4   Haniel@univille.br  Concordo totalmente  Concordo totalmente   \n\n          inst_dominio      faria_novamente  \n0  Concordo totalmente  Concordo totalmente  \n1  Concordo totalmente  Concordo totalmente  \n2  Concordo totalmente  Concordo totalmente  \n3  Concordo totalmente  Concordo totalmente  \n4  Concordo totalmente  Concordo totalmente  ",
            "text/html": "<div>\n<style scoped>\n    .dataframe tbody tr th:only-of-type {\n        vertical-align: middle;\n    }\n\n    .dataframe tbody tr th {\n        vertical-align: top;\n    }\n\n    .dataframe thead th {\n        text-align: right;\n    }\n</style>\n<table border=\"1\" class=\"dataframe\">\n  <thead>\n    <tr style=\"text-align: right;\">\n      <th></th>\n      <th>id</th>\n      <th>data</th>\n      <th>nome</th>\n      <th>curso</th>\n      <th>serie</th>\n      <th>email</th>\n      <th>curso_relevante</th>\n      <th>participou</th>\n      <th>inst_dominio</th>\n      <th>faria_novamente</th>\n    </tr>\n  </thead>\n  <tbody>\n    <tr>\n      <th>0</th>\n      <td>1</td>\n      <td>2020-08-25 18:07:40</td>\n      <td>Arthur</td>\n      <td>Bacharelado em Sistemas de Informação da UNIVILLE</td>\n      <td>2 Série</td>\n      <td>Arthur@univille.br</td>\n      <td>Concordo totalmente</td>\n      <td>Concordo totalmente</td>\n      <td>Concordo totalmente</td>\n      <td>Concordo totalmente</td>\n    </tr>\n    <tr>\n      <th>1</th>\n      <td>2</td>\n      <td>2020-08-25 18:07:49</td>\n      <td>Nathan</td>\n      <td>Bacharelado em Sistemas de Informação da UNIVILLE</td>\n      <td>2 Série</td>\n      <td>Nathan@gmail.com</td>\n      <td>Concordo totalmente</td>\n      <td>Concordo totalmente</td>\n      <td>Concordo totalmente</td>\n      <td>Concordo totalmente</td>\n    </tr>\n    <tr>\n      <th>2</th>\n      <td>3</td>\n      <td>2020-08-25 18:07:50</td>\n      <td>Patrick</td>\n      <td>Bacharelado em Engenharia de Software  da UNIV...</td>\n      <td>1 Série</td>\n      <td>Patrick@univille.br</td>\n      <td>Concordo totalmente</td>\n      <td>Concordo totalmente</td>\n      <td>Concordo totalmente</td>\n      <td>Concordo totalmente</td>\n    </tr>\n    <tr>\n      <th>3</th>\n      <td>4</td>\n      <td>2020-08-25 18:07:59</td>\n      <td>Raiana</td>\n      <td>Bacharelado em Engenharia de Software  da UNIV...</td>\n      <td>2 Série</td>\n      <td>Raiana@univille.br</td>\n      <td>Concordo totalmente</td>\n      <td>Concordo totalmente</td>\n      <td>Concordo totalmente</td>\n      <td>Concordo totalmente</td>\n    </tr>\n    <tr>\n      <th>4</th>\n      <td>5</td>\n      <td>2020-08-25 18:07:46</td>\n      <td>Haniel</td>\n      <td>Bacharelado em Engenharia de Software  da UNIV...</td>\n      <td>2 Série</td>\n      <td>Haniel@univille.br</td>\n      <td>Concordo totalmente</td>\n      <td>Concordo totalmente</td>\n      <td>Concordo totalmente</td>\n      <td>Concordo totalmente</td>\n    </tr>\n  </tbody>\n</table>\n</div>"
          },
          "metadata": {}
        }
      ],
      "execution_count": 6,
      "metadata": {
        "collapsed": true,
        "jupyter": {
          "source_hidden": false,
          "outputs_hidden": false
        },
        "nteract": {
          "transient": {
            "deleting": false
          }
        },
        "gather": {
          "logged": 1606591544059
        }
      }
    },
    {
      "cell_type": "code",
      "source": [
        "#convertendo a columa de data de texto para datetime\r\n",
        "frame['data'] = pd.to_datetime(frame['data'])"
      ],
      "outputs": [],
      "execution_count": 7,
      "metadata": {
        "collapsed": true,
        "jupyter": {
          "source_hidden": false,
          "outputs_hidden": false
        },
        "nteract": {
          "transient": {
            "deleting": false
          }
        },
        "gather": {
          "logged": 1606591544111
        }
      }
    },
    {
      "cell_type": "code",
      "source": [
        "frame['dia_semana'] = frame['data'].dt.dayofweek"
      ],
      "outputs": [],
      "execution_count": 8,
      "metadata": {
        "collapsed": true,
        "jupyter": {
          "source_hidden": false,
          "outputs_hidden": false
        },
        "nteract": {
          "transient": {
            "deleting": false
          }
        },
        "gather": {
          "logged": 1606591544236
        }
      }
    },
    {
      "cell_type": "code",
      "source": [
        "frame['nome'] = frame['nome'].str.lower()\r\n",
        "frame['nome'] = frame['nome'].str.normalize('NFKD').str.encode('ascii', errors='ignore').str.decode('utf-8')\r\n",
        "frame[:100]"
      ],
      "outputs": [
        {
          "output_type": "execute_result",
          "execution_count": 9,
          "data": {
            "text/plain": "     id                data        nome  \\\n0     1 2020-08-25 18:07:40     arthur    \n1     2 2020-08-25 18:07:49     nathan    \n2     3 2020-08-25 18:07:50    patrick    \n3     4 2020-08-25 18:07:59     raiana    \n4     5 2020-08-25 18:07:46     haniel    \n..  ...                 ...         ...   \n95   96 2020-09-02 18:00:12    patrick    \n96   97 2020-09-02 18:01:05  guilherme    \n97   98 2020-09-02 18:01:05    gabriel    \n98   99 2020-09-02 18:12:48     raiana    \n99  100 2020-09-02 18:52:23   vinicius    \n\n                                                curso    serie  \\\n0   Bacharelado em Sistemas de Informação da UNIVILLE  2 Série   \n1   Bacharelado em Sistemas de Informação da UNIVILLE  2 Série   \n2   Bacharelado em Engenharia de Software  da UNIV...  1 Série   \n3   Bacharelado em Engenharia de Software  da UNIV...  2 Série   \n4   Bacharelado em Engenharia de Software  da UNIV...  2 Série   \n..                                                ...      ...   \n95  Bacharelado em Engenharia de Software  da UNIV...  1 Série   \n96  Bacharelado em Sistemas de Informação da UNIVILLE  3 Série   \n97  Bacharelado em Engenharia de Software  da UNIV...  1 Série   \n98  Bacharelado em Engenharia de Software  da UNIV...  2 Série   \n99  Bacharelado em Engenharia de Software  da UNIV...  2 Série   \n\n                   email      curso_relevante           participou  \\\n0     Arthur@univille.br  Concordo totalmente  Concordo totalmente   \n1       Nathan@gmail.com  Concordo totalmente  Concordo totalmente   \n2    Patrick@univille.br  Concordo totalmente  Concordo totalmente   \n3     Raiana@univille.br  Concordo totalmente  Concordo totalmente   \n4     Haniel@univille.br  Concordo totalmente  Concordo totalmente   \n..                   ...                  ...                  ...   \n95   Patrick@univille.br  Concordo totalmente  Concordo totalmente   \n96  Guilherme@unville.br  Concordo totalmente  Concordo totalmente   \n97   Gabriel@univille.br  Concordo totalmente  Concordo totalmente   \n98    Raiana@univille.br  Concordo totalmente  Concordo totalmente   \n99  Vinicius@univille.br  Concordo totalmente  Concordo totalmente   \n\n           inst_dominio      faria_novamente  dia_semana  \n0   Concordo totalmente  Concordo totalmente           1  \n1   Concordo totalmente  Concordo totalmente           1  \n2   Concordo totalmente  Concordo totalmente           1  \n3   Concordo totalmente  Concordo totalmente           1  \n4   Concordo totalmente  Concordo totalmente           1  \n..                  ...                  ...         ...  \n95  Concordo totalmente  Concordo totalmente           2  \n96  Concordo totalmente  Concordo totalmente           2  \n97  Concordo totalmente  Concordo totalmente           2  \n98  Concordo totalmente  Concordo totalmente           2  \n99  Concordo totalmente  Concordo totalmente           2  \n\n[100 rows x 11 columns]",
            "text/html": "<div>\n<style scoped>\n    .dataframe tbody tr th:only-of-type {\n        vertical-align: middle;\n    }\n\n    .dataframe tbody tr th {\n        vertical-align: top;\n    }\n\n    .dataframe thead th {\n        text-align: right;\n    }\n</style>\n<table border=\"1\" class=\"dataframe\">\n  <thead>\n    <tr style=\"text-align: right;\">\n      <th></th>\n      <th>id</th>\n      <th>data</th>\n      <th>nome</th>\n      <th>curso</th>\n      <th>serie</th>\n      <th>email</th>\n      <th>curso_relevante</th>\n      <th>participou</th>\n      <th>inst_dominio</th>\n      <th>faria_novamente</th>\n      <th>dia_semana</th>\n    </tr>\n  </thead>\n  <tbody>\n    <tr>\n      <th>0</th>\n      <td>1</td>\n      <td>2020-08-25 18:07:40</td>\n      <td>arthur</td>\n      <td>Bacharelado em Sistemas de Informação da UNIVILLE</td>\n      <td>2 Série</td>\n      <td>Arthur@univille.br</td>\n      <td>Concordo totalmente</td>\n      <td>Concordo totalmente</td>\n      <td>Concordo totalmente</td>\n      <td>Concordo totalmente</td>\n      <td>1</td>\n    </tr>\n    <tr>\n      <th>1</th>\n      <td>2</td>\n      <td>2020-08-25 18:07:49</td>\n      <td>nathan</td>\n      <td>Bacharelado em Sistemas de Informação da UNIVILLE</td>\n      <td>2 Série</td>\n      <td>Nathan@gmail.com</td>\n      <td>Concordo totalmente</td>\n      <td>Concordo totalmente</td>\n      <td>Concordo totalmente</td>\n      <td>Concordo totalmente</td>\n      <td>1</td>\n    </tr>\n    <tr>\n      <th>2</th>\n      <td>3</td>\n      <td>2020-08-25 18:07:50</td>\n      <td>patrick</td>\n      <td>Bacharelado em Engenharia de Software  da UNIV...</td>\n      <td>1 Série</td>\n      <td>Patrick@univille.br</td>\n      <td>Concordo totalmente</td>\n      <td>Concordo totalmente</td>\n      <td>Concordo totalmente</td>\n      <td>Concordo totalmente</td>\n      <td>1</td>\n    </tr>\n    <tr>\n      <th>3</th>\n      <td>4</td>\n      <td>2020-08-25 18:07:59</td>\n      <td>raiana</td>\n      <td>Bacharelado em Engenharia de Software  da UNIV...</td>\n      <td>2 Série</td>\n      <td>Raiana@univille.br</td>\n      <td>Concordo totalmente</td>\n      <td>Concordo totalmente</td>\n      <td>Concordo totalmente</td>\n      <td>Concordo totalmente</td>\n      <td>1</td>\n    </tr>\n    <tr>\n      <th>4</th>\n      <td>5</td>\n      <td>2020-08-25 18:07:46</td>\n      <td>haniel</td>\n      <td>Bacharelado em Engenharia de Software  da UNIV...</td>\n      <td>2 Série</td>\n      <td>Haniel@univille.br</td>\n      <td>Concordo totalmente</td>\n      <td>Concordo totalmente</td>\n      <td>Concordo totalmente</td>\n      <td>Concordo totalmente</td>\n      <td>1</td>\n    </tr>\n    <tr>\n      <th>...</th>\n      <td>...</td>\n      <td>...</td>\n      <td>...</td>\n      <td>...</td>\n      <td>...</td>\n      <td>...</td>\n      <td>...</td>\n      <td>...</td>\n      <td>...</td>\n      <td>...</td>\n      <td>...</td>\n    </tr>\n    <tr>\n      <th>95</th>\n      <td>96</td>\n      <td>2020-09-02 18:00:12</td>\n      <td>patrick</td>\n      <td>Bacharelado em Engenharia de Software  da UNIV...</td>\n      <td>1 Série</td>\n      <td>Patrick@univille.br</td>\n      <td>Concordo totalmente</td>\n      <td>Concordo totalmente</td>\n      <td>Concordo totalmente</td>\n      <td>Concordo totalmente</td>\n      <td>2</td>\n    </tr>\n    <tr>\n      <th>96</th>\n      <td>97</td>\n      <td>2020-09-02 18:01:05</td>\n      <td>guilherme</td>\n      <td>Bacharelado em Sistemas de Informação da UNIVILLE</td>\n      <td>3 Série</td>\n      <td>Guilherme@unville.br</td>\n      <td>Concordo totalmente</td>\n      <td>Concordo totalmente</td>\n      <td>Concordo totalmente</td>\n      <td>Concordo totalmente</td>\n      <td>2</td>\n    </tr>\n    <tr>\n      <th>97</th>\n      <td>98</td>\n      <td>2020-09-02 18:01:05</td>\n      <td>gabriel</td>\n      <td>Bacharelado em Engenharia de Software  da UNIV...</td>\n      <td>1 Série</td>\n      <td>Gabriel@univille.br</td>\n      <td>Concordo totalmente</td>\n      <td>Concordo totalmente</td>\n      <td>Concordo totalmente</td>\n      <td>Concordo totalmente</td>\n      <td>2</td>\n    </tr>\n    <tr>\n      <th>98</th>\n      <td>99</td>\n      <td>2020-09-02 18:12:48</td>\n      <td>raiana</td>\n      <td>Bacharelado em Engenharia de Software  da UNIV...</td>\n      <td>2 Série</td>\n      <td>Raiana@univille.br</td>\n      <td>Concordo totalmente</td>\n      <td>Concordo totalmente</td>\n      <td>Concordo totalmente</td>\n      <td>Concordo totalmente</td>\n      <td>2</td>\n    </tr>\n    <tr>\n      <th>99</th>\n      <td>100</td>\n      <td>2020-09-02 18:52:23</td>\n      <td>vinicius</td>\n      <td>Bacharelado em Engenharia de Software  da UNIV...</td>\n      <td>2 Série</td>\n      <td>Vinicius@univille.br</td>\n      <td>Concordo totalmente</td>\n      <td>Concordo totalmente</td>\n      <td>Concordo totalmente</td>\n      <td>Concordo totalmente</td>\n      <td>2</td>\n    </tr>\n  </tbody>\n</table>\n<p>100 rows × 11 columns</p>\n</div>"
          },
          "metadata": {}
        }
      ],
      "execution_count": 9,
      "metadata": {
        "collapsed": true,
        "jupyter": {
          "source_hidden": false,
          "outputs_hidden": false
        },
        "nteract": {
          "transient": {
            "deleting": false
          }
        },
        "gather": {
          "logged": 1606591544309
        }
      }
    },
    {
      "cell_type": "code",
      "source": [
        "frame_aws = frame[frame['dia_semana'] == 3]\r\n",
        "frame_aws[:1]"
      ],
      "outputs": [
        {
          "output_type": "execute_result",
          "execution_count": 10,
          "data": {
            "text/plain": "    id                data      nome  \\\n49  50 2020-08-27 14:03:43  gabriel    \n\n                                                curso    serie  \\\n49  Bacharelado em Engenharia de Software  da UNIV...  1 Série   \n\n                  email      curso_relevante           participou  \\\n49  Gabriel@univille.br  Concordo totalmente  Concordo totalmente   \n\n           inst_dominio      faria_novamente  dia_semana  \n49  Concordo totalmente  Concordo totalmente           3  ",
            "text/html": "<div>\n<style scoped>\n    .dataframe tbody tr th:only-of-type {\n        vertical-align: middle;\n    }\n\n    .dataframe tbody tr th {\n        vertical-align: top;\n    }\n\n    .dataframe thead th {\n        text-align: right;\n    }\n</style>\n<table border=\"1\" class=\"dataframe\">\n  <thead>\n    <tr style=\"text-align: right;\">\n      <th></th>\n      <th>id</th>\n      <th>data</th>\n      <th>nome</th>\n      <th>curso</th>\n      <th>serie</th>\n      <th>email</th>\n      <th>curso_relevante</th>\n      <th>participou</th>\n      <th>inst_dominio</th>\n      <th>faria_novamente</th>\n      <th>dia_semana</th>\n    </tr>\n  </thead>\n  <tbody>\n    <tr>\n      <th>49</th>\n      <td>50</td>\n      <td>2020-08-27 14:03:43</td>\n      <td>gabriel</td>\n      <td>Bacharelado em Engenharia de Software  da UNIV...</td>\n      <td>1 Série</td>\n      <td>Gabriel@univille.br</td>\n      <td>Concordo totalmente</td>\n      <td>Concordo totalmente</td>\n      <td>Concordo totalmente</td>\n      <td>Concordo totalmente</td>\n      <td>3</td>\n    </tr>\n  </tbody>\n</table>\n</div>"
          },
          "metadata": {}
        }
      ],
      "execution_count": 10,
      "metadata": {
        "collapsed": true,
        "jupyter": {
          "source_hidden": false,
          "outputs_hidden": false
        },
        "nteract": {
          "transient": {
            "deleting": false
          }
        },
        "gather": {
          "logged": 1606591544471
        }
      }
    },
    {
      "cell_type": "code",
      "source": [
        "frame_prog = frame[frame['dia_semana'] != 3]\r\n",
        "frame_prog[:1]"
      ],
      "outputs": [
        {
          "output_type": "execute_result",
          "execution_count": 11,
          "data": {
            "text/plain": "   id                data     nome  \\\n0   1 2020-08-25 18:07:40  arthur    \n\n                                               curso    serie  \\\n0  Bacharelado em Sistemas de Informação da UNIVILLE  2 Série   \n\n                email      curso_relevante           participou  \\\n0  Arthur@univille.br  Concordo totalmente  Concordo totalmente   \n\n          inst_dominio      faria_novamente  dia_semana  \n0  Concordo totalmente  Concordo totalmente           1  ",
            "text/html": "<div>\n<style scoped>\n    .dataframe tbody tr th:only-of-type {\n        vertical-align: middle;\n    }\n\n    .dataframe tbody tr th {\n        vertical-align: top;\n    }\n\n    .dataframe thead th {\n        text-align: right;\n    }\n</style>\n<table border=\"1\" class=\"dataframe\">\n  <thead>\n    <tr style=\"text-align: right;\">\n      <th></th>\n      <th>id</th>\n      <th>data</th>\n      <th>nome</th>\n      <th>curso</th>\n      <th>serie</th>\n      <th>email</th>\n      <th>curso_relevante</th>\n      <th>participou</th>\n      <th>inst_dominio</th>\n      <th>faria_novamente</th>\n      <th>dia_semana</th>\n    </tr>\n  </thead>\n  <tbody>\n    <tr>\n      <th>0</th>\n      <td>1</td>\n      <td>2020-08-25 18:07:40</td>\n      <td>arthur</td>\n      <td>Bacharelado em Sistemas de Informação da UNIVILLE</td>\n      <td>2 Série</td>\n      <td>Arthur@univille.br</td>\n      <td>Concordo totalmente</td>\n      <td>Concordo totalmente</td>\n      <td>Concordo totalmente</td>\n      <td>Concordo totalmente</td>\n      <td>1</td>\n    </tr>\n  </tbody>\n</table>\n</div>"
          },
          "metadata": {}
        }
      ],
      "execution_count": 11,
      "metadata": {
        "collapsed": true,
        "jupyter": {
          "source_hidden": false,
          "outputs_hidden": false
        },
        "nteract": {
          "transient": {
            "deleting": false
          }
        },
        "gather": {
          "logged": 1606591544530
        }
      }
    },
    {
      "cell_type": "code",
      "source": [
        "#Quantos alunos únicos frequentaram cada curso?\r\n",
        "frame_alunos = frame_aws['nome'].groupby([frame_aws['nome']]).count()\r\n",
        "print(\"Quantos alunos únicos frequentaram cada curso? AWS: \", frame_alunos.count())\r\n",
        "\r\n",
        "frame_alunos = frame_prog['nome'].groupby([frame_prog['nome']]).count()\r\n",
        "print(\"Quantos alunos únicos frequentaram cada curso? PROG: \", frame_alunos.count())\r\n"
      ],
      "outputs": [
        {
          "output_type": "stream",
          "name": "stdout",
          "text": [
            "Quantos alunos únicos frequentaram cada curso? AWS:  23\n",
            "Quantos alunos únicos frequentaram cada curso? PROG:  29\n"
          ]
        }
      ],
      "execution_count": 12,
      "metadata": {
        "collapsed": true,
        "jupyter": {
          "source_hidden": false,
          "outputs_hidden": false
        },
        "nteract": {
          "transient": {
            "deleting": false
          }
        },
        "gather": {
          "logged": 1606591544803
        }
      }
    },
    {
      "cell_type": "code",
      "source": [
        "#Quantos alunos de cada curso de graduação frenquentou cada curso?\r\n",
        "frame_alunos = frame_aws['nome'].groupby([frame_aws['curso'],frame_aws['nome']]).count()\r\n",
        "print(\"Quantos alunos de cada curso de graduação frenquentou cada curso? AWS: \")\r\n",
        "print(frame_alunos.unstack(level='curso').count())\r\n",
        "frame_alunos = frame_prog['nome'].groupby([frame_prog['curso'],frame_prog['nome']]).count()\r\n",
        "print(\"Quantos alunos de cada curso de graduação frenquentou cada curso? PROG: \")\r\n",
        "print(frame_alunos.unstack(level='curso').count())"
      ],
      "outputs": [
        {
          "output_type": "stream",
          "name": "stdout",
          "text": [
            "Quantos alunos de cada curso de graduação frenquentou cada curso? AWS: \n",
            "curso\n",
            "Bacharelado em Engenharia de Software  da UNIVILLE    14\n",
            "Bacharelado em Sistemas de Informação da UNIVILLE     10\n",
            "dtype: int64\n",
            "Quantos alunos de cada curso de graduação frenquentou cada curso? PROG: \n",
            "curso\n",
            "Bacharelado em Engenharia de Software  da UNIVILLE    20\n",
            "Bacharelado em Sistemas de Informação da UNIVILLE     10\n",
            "dtype: int64\n"
          ]
        }
      ],
      "execution_count": 13,
      "metadata": {
        "collapsed": true,
        "jupyter": {
          "source_hidden": false,
          "outputs_hidden": false
        },
        "nteract": {
          "transient": {
            "deleting": false
          }
        },
        "gather": {
          "logged": 1606591544856
        }
      }
    },
    {
      "cell_type": "code",
      "source": [
        "#Quantas horas complementares cada aluno irá receber? (cada registro é 1 hora)\r\n",
        "print(\"Quantas horas complementares cada aluno irá receber? (cada registro é 1 hora)\")\r\n",
        "print(frame['nome'].groupby([frame['nome']]).count())"
      ],
      "outputs": [
        {
          "output_type": "stream",
          "name": "stdout",
          "text": [
            "Quantas horas complementares cada aluno irá receber? (cada registro é 1 hora)\n",
            "nome\n",
            "amanda        23\n",
            "ana            3\n",
            "arthur        21\n",
            "beatriz       10\n",
            "bruno         18\n",
            "carlos         8\n",
            "daniel        14\n",
            "djonatan      17\n",
            "eduardo        1\n",
            "elisandro      2\n",
            "gabriel       29\n",
            "guilherme      9\n",
            "gustavo        4\n",
            "haniel         9\n",
            "julia         17\n",
            "larissa       11\n",
            "leonardo       1\n",
            "leticia        8\n",
            "lucas         34\n",
            "maicon        28\n",
            "matheus       13\n",
            "nathan        16\n",
            "nicolly        9\n",
            "patrick       20\n",
            "rafael         9\n",
            "rafaela       16\n",
            "raiana        30\n",
            "renan          7\n",
            "roberto       24\n",
            "rodrigo        3\n",
            "victor        10\n",
            "vinicius       9\n",
            "vitor         18\n",
            "yan           31\n",
            "yuri           6\n",
            "Name: nome, dtype: int64\n"
          ]
        }
      ],
      "execution_count": 16,
      "metadata": {
        "collapsed": true,
        "jupyter": {
          "source_hidden": false,
          "outputs_hidden": false
        },
        "nteract": {
          "transient": {
            "deleting": false
          }
        },
        "gather": {
          "logged": 1606591613196
        }
      }
    },
    {
      "cell_type": "code",
      "source": [
        "import matplotlib.pyplot as plt\r\n",
        "#O curso foi relevante para sua formação? AWS\r\n",
        "fig = plt.figure()\r\n",
        "ax1 = fig.add_subplot(1, 1, 1)\r\n",
        "ax1.set_title('O curso AWS foi relevante para sua formação?')\r\n",
        "aws_curso_relevante = frame_aws[['curso_relevante']].groupby([frame_aws['curso_relevante']]).count()\r\n",
        "aws_curso_relevante.plot.barh(ax=ax1)"
      ],
      "outputs": [
        {
          "output_type": "execute_result",
          "execution_count": 30,
          "data": {
            "text/plain": "<matplotlib.axes._subplots.AxesSubplot at 0x7fc37107f048>"
          },
          "metadata": {}
        },
        {
          "output_type": "display_data",
          "data": {
            "text/plain": "<Figure size 432x288 with 1 Axes>",
            "image/png": "[encoded data removed]"
          },
          "metadata": {
            "needs_background": "light"
          }
        }
      ],
      "execution_count": 30,
      "metadata": {
        "collapsed": true,
        "jupyter": {
          "source_hidden": false,
          "outputs_hidden": false
        },
        "nteract": {
          "transient": {
            "deleting": false
          }
        },
        "gather": {
          "logged": 1606592234450
        }
      }
    },
    {
      "cell_type": "code",
      "source": [
        "fig = plt.figure()\r\n",
        "ax1 = fig.add_subplot(1, 1, 1)\r\n",
        "ax1.set_title('Você gostou do curso AWS que participou?')\r\n",
        "aws_curso_relevante = frame_aws[['participou']].groupby([frame_aws['participou']]).count()\r\n",
        "aws_curso_relevante.plot.barh(ax=ax1)"
      ],
      "outputs": [
        {
          "output_type": "execute_result",
          "execution_count": 31,
          "data": {
            "text/plain": "<matplotlib.axes._subplots.AxesSubplot at 0x7fc370fd4898>"
          },
          "metadata": {}
        },
        {
          "output_type": "display_data",
          "data": {
            "text/plain": "<Figure size 432x288 with 1 Axes>",
            "image/png": "[encoded data removed]"
          },
          "metadata": {
            "needs_background": "light"
          }
        }
      ],
      "execution_count": 31,
      "metadata": {
        "collapsed": true,
        "jupyter": {
          "source_hidden": false,
          "outputs_hidden": false
        },
        "nteract": {
          "transient": {
            "deleting": false
          }
        },
        "gather": {
          "logged": 1606592348290
        }
      }
    },
    {
      "cell_type": "code",
      "source": [
        "fig = plt.figure()\r\n",
        "ax1 = fig.add_subplot(1, 1, 1)\r\n",
        "ax1.set_title('O instrutor tinha domínio sobre o assunto lecionado AWS ?')\r\n",
        "aws_curso_relevante = frame_aws[['inst_dominio']].groupby([frame_aws['inst_dominio']]).count()\r\n",
        "aws_curso_relevante.plot.barh(ax=ax1)"
      ],
      "outputs": [
        {
          "output_type": "execute_result",
          "execution_count": 32,
          "data": {
            "text/plain": "<matplotlib.axes._subplots.AxesSubplot at 0x7fc370fb2080>"
          },
          "metadata": {}
        },
        {
          "output_type": "display_data",
          "data": {
            "text/plain": "<Figure size 432x288 with 1 Axes>",
            "image/png": "[encoded data removed]"
          },
          "metadata": {
            "needs_background": "light"
          }
        }
      ],
      "execution_count": 32,
      "metadata": {
        "collapsed": true,
        "jupyter": {
          "source_hidden": false,
          "outputs_hidden": false
        },
        "nteract": {
          "transient": {
            "deleting": false
          }
        },
        "gather": {
          "logged": 1606592383258
        }
      }
    },
    {
      "cell_type": "code",
      "source": [
        "fig = plt.figure()\r\n",
        "ax1 = fig.add_subplot(1, 1, 1)\r\n",
        "ax1.set_title('Você faria esse curso AWS novamente?')\r\n",
        "aws_curso_relevante = frame_aws[['faria_novamente']].groupby([frame_aws['faria_novamente']]).count()\r\n",
        "aws_curso_relevante.plot.barh(ax=ax1)\r\n"
      ],
      "outputs": [
        {
          "output_type": "execute_result",
          "execution_count": 33,
          "data": {
            "text/plain": "<matplotlib.axes._subplots.AxesSubplot at 0x7fc370f3d128>"
          },
          "metadata": {}
        },
        {
          "output_type": "display_data",
          "data": {
            "text/plain": "<Figure size 432x288 with 1 Axes>",
            "image/png": "[encoded data removed]"
          },
          "metadata": {
            "needs_background": "light"
          }
        }
      ],
      "execution_count": 33,
      "metadata": {
        "collapsed": true,
        "jupyter": {
          "source_hidden": false,
          "outputs_hidden": false
        },
        "nteract": {
          "transient": {
            "deleting": false
          }
        },
        "gather": {
          "logged": 1606592417493
        }
      }
    },
    {
      "cell_type": "code",
      "source": [
        "fig = plt.figure()\r\n",
        "ax1 = fig.add_subplot(1, 1, 1)\r\n",
        "ax1.set_title('O curso Programação foi relevante para sua formação?')\r\n",
        "Programação_curso_relevante = frame_prog[['curso_relevante']].groupby([frame_prog['curso_relevante']]).count()\r\n",
        "Programação_curso_relevante.plot.barh(ax=ax1)"
      ],
      "outputs": [
        {
          "output_type": "execute_result",
          "execution_count": 34,
          "data": {
            "text/plain": "<matplotlib.axes._subplots.AxesSubplot at 0x7fc370e9e978>"
          },
          "metadata": {}
        },
        {
          "output_type": "display_data",
          "data": {
            "text/plain": "<Figure size 432x288 with 1 Axes>",
            "image/png": "[encoded data removed]"
          },
          "metadata": {
            "needs_background": "light"
          }
        }
      ],
      "execution_count": 34,
      "metadata": {
        "collapsed": true,
        "jupyter": {
          "source_hidden": false,
          "outputs_hidden": false
        },
        "nteract": {
          "transient": {
            "deleting": false
          }
        },
        "gather": {
          "logged": 1606592528946
        }
      }
    },
    {
      "cell_type": "code",
      "source": [
        "fig = plt.figure()\r\n",
        "ax1 = fig.add_subplot(1, 1, 1)\r\n",
        "ax1.set_title('Você gostou do curso Programação que participou?')\r\n",
        "Programação_curso_relevante = frame_prog[['participou']].groupby([frame_prog['participou']]).count()\r\n",
        "Programação_curso_relevante.plot.barh(ax=ax1)\r\n"
      ],
      "outputs": [
        {
          "output_type": "execute_result",
          "execution_count": 35,
          "data": {
            "text/plain": "<matplotlib.axes._subplots.AxesSubplot at 0x7fc370e13898>"
          },
          "metadata": {}
        },
        {
          "output_type": "display_data",
          "data": {
            "text/plain": "<Figure size 432x288 with 1 Axes>",
            "image/png": "[encoded data removed]"
          },
          "metadata": {
            "needs_background": "light"
          }
        }
      ],
      "execution_count": 35,
      "metadata": {
        "collapsed": true,
        "jupyter": {
          "source_hidden": false,
          "outputs_hidden": false
        },
        "nteract": {
          "transient": {
            "deleting": false
          }
        },
        "gather": {
          "logged": 1606592535243
        }
      }
    },
    {
      "cell_type": "code",
      "source": [
        "fig = plt.figure()\r\n",
        "ax1 = fig.add_subplot(1, 1, 1)\r\n",
        "ax1.set_title('O instrutor tinha domínio sobre o assunto lecionado Programação ?')\r\n",
        "Programação_curso_relevante = frame_prog[['inst_dominio']].groupby([frame_prog['inst_dominio']]).count()\r\n",
        "Programação_curso_relevante.plot.barh(ax=ax1)"
      ],
      "outputs": [
        {
          "output_type": "execute_result",
          "execution_count": 36,
          "data": {
            "text/plain": "<matplotlib.axes._subplots.AxesSubplot at 0x7fc370dfaf60>"
          },
          "metadata": {}
        },
        {
          "output_type": "display_data",
          "data": {
            "text/plain": "<Figure size 432x288 with 1 Axes>",
            "image/png": "[encoded data removed]"
          },
          "metadata": {
            "needs_background": "light"
          }
        }
      ],
      "execution_count": 36,
      "metadata": {
        "collapsed": true,
        "jupyter": {
          "source_hidden": false,
          "outputs_hidden": false
        },
        "nteract": {
          "transient": {
            "deleting": false
          }
        },
        "gather": {
          "logged": 1606592545464
        }
      }
    },
    {
      "cell_type": "code",
      "source": [
        "fig = plt.figure()\r\n",
        "ax1 = fig.add_subplot(1, 1, 1)\r\n",
        "ax1.set_title('Você faria esse curso Programação novamente?')\r\n",
        "Programação_curso_relevante = frame_prog[['faria_novamente']].groupby([frame_prog['faria_novamente']]).count()\r\n",
        "Programação_curso_relevante.plot.barh(ax=ax1)"
      ],
      "outputs": [
        {
          "output_type": "execute_result",
          "execution_count": 37,
          "data": {
            "text/plain": "<matplotlib.axes._subplots.AxesSubplot at 0x7fc370d5a8d0>"
          },
          "metadata": {}
        },
        {
          "output_type": "display_data",
          "data": {
            "text/plain": "<Figure size 432x288 with 1 Axes>",
            "image/png": "[encoded data removed]"
          },
          "metadata": {
            "needs_background": "light"
          }
        }
      ],
      "execution_count": 37,
      "metadata": {
        "collapsed": true,
        "jupyter": {
          "source_hidden": false,
          "outputs_hidden": false
        },
        "nteract": {
          "transient": {
            "deleting": false
          }
        },
        "gather": {
          "logged": 1606592552845
        }
      }
    },
    {
      "cell_type": "code",
      "source": [
        "plt.close('all')"
      ],
      "outputs": [],
      "execution_count": 38,
      "metadata": {
        "collapsed": true,
        "jupyter": {
          "source_hidden": false,
          "outputs_hidden": false
        },
        "nteract": {
          "transient": {
            "deleting": false
          }
        },
        "gather": {
          "logged": 1606592556672
        }
      }
    }
  ],
  "metadata": {
    "kernelspec": {
      "name": "python3-azureml",
      "language": "python",
      "display_name": "Python 3.6 - AzureML"
    },
    "language_info": {
      "name": "python",
      "version": "3.6.9",
      "mimetype": "text/x-python",
      "codemirror_mode": {
        "name": "ipython",
        "version": 3
      },
      "pygments_lexer": "ipython3",
      "nbconvert_exporter": "python",
      "file_extension": ".py"
    },
    "kernel_info": {
      "name": "python3-azureml"
    },
    "nteract": {
      "version": "nteract-front-end@1.0.0"
    }
  },
  "nbformat": 4,
  "nbformat_minor": 2
}