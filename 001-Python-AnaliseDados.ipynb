{
  "cells": [
    {
      "cell_type": "markdown",
      "source": [
        "# Introdução aos Markdown"
      ],
      "metadata": {
        "nteract": {
          "transient": {
            "deleting": false
          }
        }
      }
    },
    {
      "cell_type": "markdown",
      "source": [
        "# Header 1\r\n",
        "## Header 2\r\n",
        "### Header 3\r\n",
        "\r\n",
        ">Blockquotes são utilizados para colocar grandes quantidades de texto com edentação."
      ],
      "metadata": {
        "nteract": {
          "transient": {
            "deleting": false
          }
        }
      }
    },
    {
      "cell_type": "markdown",
      "source": [
        "Linha horizontal\r\n",
        "\r\n",
        "---\r\n",
        "\r\n",
        "Listas ordenadas\r\n",
        "<ol>\r\n",
        "    <li>Item 1</li>\r\n",
        "    <li>Item 2</li>\r\n",
        "</ol>\r\n",
        "\r\n"
      ],
      "metadata": {
        "nteract": {
          "transient": {
            "deleting": false
          }
        }
      }
    },
    {
      "cell_type": "markdown",
      "source": [
        "## Tabelas\r\n",
        "|Nome|Endereço|Telefone|\r\n",
        "|-------------|----------------|----------|\r\n",
        "|Zezinho Silva|Rua lalala 200|5555-1234|\r\n"
      ],
      "metadata": {
        "nteract": {
          "transient": {
            "deleting": false
          }
        }
      }
    },
    {
      "cell_type": "code",
      "source": [],
      "outputs": [],
      "execution_count": null,
      "metadata": {
        "collapsed": true,
        "jupyter": {
          "source_hidden": false,
          "outputs_hidden": false
        },
        "nteract": {
          "transient": {
            "deleting": false
          }
        }
      }
    }
  ],
  "metadata": {
    "kernelspec": {
      "name": "python3-azureml",
      "language": "python",
      "display_name": "Python 3.6 - AzureML"
    },
    "language_info": {
      "name": "python",
      "version": "3.6.9",
      "mimetype": "text/x-python",
      "codemirror_mode": {
        "name": "ipython",
        "version": 3
      },
      "pygments_lexer": "ipython3",
      "nbconvert_exporter": "python",
      "file_extension": ".py"
    },
    "kernel_info": {
      "name": "python3-azureml"
    },
    "nteract": {
      "version": "nteract-front-end@1.0.0"
    }
  },
  "nbformat": 4,
  "nbformat_minor": 2
}