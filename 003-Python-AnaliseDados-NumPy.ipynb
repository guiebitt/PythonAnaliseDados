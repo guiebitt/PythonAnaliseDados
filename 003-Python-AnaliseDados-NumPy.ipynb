{
  "cells": [
    {
      "cell_type": "markdown",
      "source": [
        "# Básico sobre o NumPy: arrays e processamento vetorizado\r\n",
        "> O NumPy, abreviatura de Numerical Python é um dos pacotes básicos mais importantes para processamento numérico em Python. A maioria dos pacotes de processamento com funcionalidades científicas utiliza objetos array do NumPy.\r\n",
        "\r\n",
        "- ndarray - um array multidimensional eficaz que oferece operações aritméticas rápidas, orientadas a array;\r\n",
        "- funções matemáticas para operações rápidas em arrays de dados inteiros, sem que seja necessário escrever laços;\r\n",
        "- ferramentas para ler/escrever dados de array em disco e trabalhar com arquivos mapeados em memória;\r\n",
        "- recursos de álgebra linear, geração de números aleatórios e transformada de Fourier.\r\n",
        "\r\n",
        "> Um dos motivos para o NumPy ser tão importante para o processamentos numéricos em Python é o fat de ele ter sido projetado para ser eficaz em arrays de dados grandes.\r\n",
        "\r\n",
        "- internamento o Numpy armazena dados em um bloco contíguo de memória, independente de outros objetos Python embutidos. A biblioteca do NumPy de algoritmos escritos na linguagem C é capaz de atuar nessa memória sem qualquer verificação de tipo ou outro overhead. Os arrays NumPy também utilizam muito menos memória que as sequêcias embutidas no Python;\r\n",
        "- as operações do NumPy realizam processamentos complexos em arrays inteiros sem a necessidade de laços for do Python.\r\n",
        "\r\n"
      ],
      "metadata": {
        "nteract": {
          "transient": {
            "deleting": false
          }
        }
      }
    },
    {
      "cell_type": "code",
      "source": [
        "import numpy as np\r\n",
        "%time myarr = np.arange(1000000)\r\n",
        "%time mylist = list(range(1000000))"
      ],
      "outputs": [
        {
          "output_type": "stream",
          "name": "stdout",
          "text": [
            "CPU times: user 2.39 ms, sys: 4.41 ms, total: 6.81 ms\n",
            "Wall time: 7.81 ms\n",
            "CPU times: user 18.8 ms, sys: 20.3 ms, total: 39.1 ms\n",
            "Wall time: 38.9 ms\n"
          ]
        }
      ],
      "execution_count": 1,
      "metadata": {
        "collapsed": true,
        "jupyter": {
          "source_hidden": false,
          "outputs_hidden": false
        },
        "nteract": {
          "transient": {
            "deleting": false
          }
        },
        "gather": {
          "logged": 1604599639033
        }
      }
    },
    {
      "cell_type": "code",
      "source": [
        "%time for _ in range(10): myarr2 = myarr * 2\r\n",
        "%time for _ in range(10): mylist2 = [x * 2 for x in mylist]"
      ],
      "outputs": [
        {
          "output_type": "stream",
          "name": "stdout",
          "text": [
            "CPU times: user 19.8 ms, sys: 3.87 ms, total: 23.7 ms\n",
            "Wall time: 23.6 ms\n",
            "CPU times: user 616 ms, sys: 116 ms, total: 732 ms\n",
            "Wall time: 731 ms\n"
          ]
        }
      ],
      "execution_count": 2,
      "metadata": {
        "collapsed": true,
        "jupyter": {
          "source_hidden": false,
          "outputs_hidden": false
        },
        "nteract": {
          "transient": {
            "deleting": false
          }
        }
      }
    },
    {
      "cell_type": "code",
      "source": [
        "arraleatorio = np.random.randn(2,3)\r\n",
        "print(arraleatorio)\r\n",
        "arraleatorio = arraleatorio * 10\r\n",
        "print(arraleatorio)\r\n",
        "arraleatorio = arraleatorio + arraleatorio\r\n",
        "print(arraleatorio)\r\n",
        "#formato e tipo de um ndarray\r\n",
        "print(arraleatorio.shape)\r\n",
        "print(arraleatorio.dtype)"
      ],
      "outputs": [
        {
          "output_type": "stream",
          "name": "stdout",
          "text": [
            "[[ 1.17656623 -0.16156885  0.1907186 ]\n",
            " [ 0.79471215 -1.08151511  0.70482819]]\n",
            "[[ 11.76566233  -1.61568846   1.90718598]\n",
            " [  7.94712151 -10.81515107   7.04828188]]\n",
            "[[ 23.53132466  -3.23137691   3.81437195]\n",
            " [ 15.89424302 -21.63030213  14.09656375]]\n",
            "(2, 3)\n",
            "float64\n"
          ]
        }
      ],
      "execution_count": 3,
      "metadata": {
        "collapsed": true,
        "jupyter": {
          "source_hidden": false,
          "outputs_hidden": false
        },
        "nteract": {
          "transient": {
            "deleting": false
          }
        },
        "gather": {
          "logged": 1604530497354
        }
      }
    },
    {
      "cell_type": "markdown",
      "source": [
        "# Criando ndarrays"
      ],
      "metadata": {
        "nteract": {
          "transient": {
            "deleting": false
          }
        }
      }
    },
    {
      "cell_type": "code",
      "source": [
        "#criação de um ndarray a partir de uma lista\r\n",
        "lista = [6, 7.5, 8, 0, 1]\r\n",
        "arr1 = np.array(lista)\r\n",
        "print(arr1) \r\n",
        "\r\n",
        "matriz = [[1,2,3,4],[5,6,7,8]]\r\n",
        "arr2 = np.array(matriz)\r\n",
        "print(arr2)\r\n",
        "#inspecionar número de dimensões e formato\r\n",
        "print(arr2.ndim)\r\n",
        "print(arr2.shape)\r\n",
        "print(arr2.dtype)"
      ],
      "outputs": [
        {
          "output_type": "stream",
          "name": "stdout",
          "text": [
            "[6.  7.5 8.  0.  1. ]\n",
            "[[1 2 3 4]\n",
            " [5 6 7 8]]\n",
            "2\n",
            "(2, 4)\n",
            "int64\n"
          ]
        }
      ],
      "execution_count": 4,
      "metadata": {
        "collapsed": true,
        "jupyter": {
          "source_hidden": false,
          "outputs_hidden": false
        },
        "nteract": {
          "transient": {
            "deleting": false
          }
        },
        "gather": {
          "logged": 1604530499781
        }
      }
    },
    {
      "cell_type": "code",
      "source": [
        "#criando novos arrays com zeros ou uns\r\n",
        "arrzeros = np.zeros(10)\r\n",
        "print(arrzeros)\r\n",
        "arrzeros = np.zeros((3,6))\r\n",
        "print(arrzeros)\r\n",
        "arrones = np.ones((3,6))\r\n",
        "print(arrones)\r\n",
        "arrfull = np.full((3,6), 9)\r\n",
        "print(arrfull)"
      ],
      "outputs": [
        {
          "output_type": "stream",
          "name": "stdout",
          "text": [
            "[0. 0. 0. 0. 0. 0. 0. 0. 0. 0.]\n",
            "[[0. 0. 0. 0. 0. 0.]\n",
            " [0. 0. 0. 0. 0. 0.]\n",
            " [0. 0. 0. 0. 0. 0.]]\n",
            "[[1. 1. 1. 1. 1. 1.]\n",
            " [1. 1. 1. 1. 1. 1.]\n",
            " [1. 1. 1. 1. 1. 1.]]\n",
            "[[9 9 9 9 9 9]\n",
            " [9 9 9 9 9 9]\n",
            " [9 9 9 9 9 9]]\n"
          ]
        }
      ],
      "execution_count": 5,
      "metadata": {
        "collapsed": true,
        "jupyter": {
          "source_hidden": false,
          "outputs_hidden": false
        },
        "nteract": {
          "transient": {
            "deleting": false
          }
        },
        "gather": {
          "logged": 1604530502363
        }
      }
    },
    {
      "cell_type": "code",
      "source": [
        "arrempty = np.empty((2,3,2))\r\n",
        "print(arrempty)\r\n",
        "# não é seguro supor que np.empty devolverá um array somente com zeros. Em alguns casos, valores 'lixo' não inicializados poderão ser devolvidos\r\n",
        "#eye ou identity - cria uma matriz identidade quadrada N x N (1s na diagonal e 0s nas demais posições)\r\n",
        "arreye = np.eye(3)\r\n",
        "print(arreye)\r\n"
      ],
      "outputs": [
        {
          "output_type": "stream",
          "name": "stdout",
          "text": [
            "[[[6.94504245e-310 4.66941320e-310]\n",
            "  [1.03977794e-312 9.54898106e-313]\n",
            "  [1.10343781e-312 1.06099790e-312]]\n",
            "\n",
            " [[1.23075756e-312 1.12465777e-312]\n",
            "  [1.01855798e-312 9.76118064e-313]\n",
            "  [1.01855798e-312 1.90979621e-312]]]\n",
            "[[1. 0. 0.]\n",
            " [0. 1. 0.]\n",
            " [0. 0. 1.]]\n"
          ]
        }
      ],
      "execution_count": 6,
      "metadata": {
        "collapsed": true,
        "jupyter": {
          "source_hidden": false,
          "outputs_hidden": false
        },
        "nteract": {
          "transient": {
            "deleting": false
          }
        },
        "gather": {
          "logged": 1604530504646
        }
      }
    },
    {
      "cell_type": "markdown",
      "source": [
        "# Tipos de dados do NumPy\r\n",
        "\r\n",
        "|Tipo|&nbsp;&nbsp;&nbsp;| Código do tipo |&nbsp;&nbsp;&nbsp;| Descrição |\r\n",
        "|----|-|----------------|-|-----------|\r\n",
        "|int8, uint8| | i1, u1| | Tipos inteiros de 8 bits (1 byte) com e sem sinal|\r\n",
        "|int16, uint16| | i2, u2| | Tipos inteiros de 16 bits com e sem sinal|\r\n",
        "|int32, uint32| | i4, u4| | Tipos inteiros de 32 bits com e sem sinal|\r\n",
        "|int64, uint64| | i8, u8| | Tipos inteiros de 64 bits com e sem sinal|\r\n",
        "|float16| | f2 | | Ponto flutuante com metade da precisão|\r\n",
        "|float32| | f4 ou f | | Ponto flutuante padrão com precisão única, compatível com o float de C|\r\n",
        "|float64| | f8 ou d | | Ponto flutuante padrão com dupla precisão, compatível com o double de C ou o objeto float do Python|\r\n",
        "|float128| | f16 ou g | | Ponto flutuante com precisão estendida|\r\n",
        "|complex64, complex128, complex256| | c8, c16, c32 | | Números complexos representados por dois floats de 32, 64 ou 128 respectivamente|\r\n",
        "|bool| | ? | | Tipo booleano que armazena os valores True e False|\r\n",
        "|Object| | O | | Tipo objeto de Python, um valor pode ser qualquer objeto Python|\r\n",
        "|string_| | S | | Tipo string ASCII de tamanho fixo (1 byte por caractere) por exemplo para criar um dtype string com tamanho 10, utilize s10|\r\n",
        "|unicode_| | U | | Tipo UNICODE de tamanho fixo (número de bytes é específico de cada plataforma) a mesma semântica de especificação de string_ U10|\r\n",
        "\r\n"
      ],
      "metadata": {
        "nteract": {
          "transient": {
            "deleting": false
          }
        }
      }
    },
    {
      "cell_type": "code",
      "source": [
        "arr1 = np.array([1,2,3], dtype=np.float64)\r\n",
        "print(arr1.dtype)\r\n",
        "arr2 = np.array([1,2,3], dtype=np.int32)\r\n",
        "print(arr2.dtype)\r\n",
        "\r\n",
        "#conversão de um array de strings em valores numéricos\r\n",
        "numeric_strings = np.array(['1.25','-9.6','42'], dtype=np.string_)\r\n",
        "numeric_strings = numeric_strings.astype(float)\r\n",
        "print(numeric_strings.dtype)"
      ],
      "outputs": [
        {
          "output_type": "stream",
          "name": "stdout",
          "text": [
            "float64\n",
            "int32\n",
            "float64\n"
          ]
        }
      ],
      "execution_count": 10,
      "metadata": {
        "collapsed": true,
        "jupyter": {
          "source_hidden": false,
          "outputs_hidden": false
        },
        "nteract": {
          "transient": {
            "deleting": false
          }
        },
        "gather": {
          "logged": 1604530795110
        }
      }
    },
    {
      "cell_type": "markdown",
      "source": [
        "# Aritmética com arrays NumPy\r\n",
        "> Os arrays são importantes porque permitem expressar operações em lote nos dados, sem descrever qualquer laço for. Os usuários do NumPy chamam isso de vetorização. Qualquer operação aritmética entre arrays de mesmo tamanho faz a operação ser aplicada em todos os elementos."
      ],
      "metadata": {
        "nteract": {
          "transient": {
            "deleting": false
          }
        }
      }
    },
    {
      "cell_type": "code",
      "source": [
        "arr = np.array([[1., 2., 3.],[4.,5.,6.]])\r\n",
        "print(arr)\r\n",
        "#multiplicação pelos elementos \r\n",
        "print(arr * arr)\r\n",
        "#subtração pelos elementos\r\n",
        "print(arr - arr)\r\n",
        "#divisão de 1 sobre cada elemento\r\n",
        "print(1 / arr)\r\n",
        "#elevado a um expoente\r\n",
        "print(arr ** 0.5)"
      ],
      "outputs": [
        {
          "output_type": "stream",
          "name": "stdout",
          "text": [
            "[[1. 2. 3.]\n",
            " [4. 5. 6.]]\n",
            "[[ 1.  4.  9.]\n",
            " [16. 25. 36.]]\n",
            "[[0. 0. 0.]\n",
            " [0. 0. 0.]]\n",
            "[[1.         0.5        0.33333333]\n",
            " [0.25       0.2        0.16666667]]\n",
            "[[1.         1.41421356 1.73205081]\n",
            " [2.         2.23606798 2.44948974]]\n"
          ]
        }
      ],
      "execution_count": 3,
      "metadata": {
        "collapsed": true,
        "jupyter": {
          "source_hidden": false,
          "outputs_hidden": false
        },
        "nteract": {
          "transient": {
            "deleting": false
          }
        },
        "gather": {
          "logged": 1604572270883
        }
      }
    },
    {
      "cell_type": "code",
      "source": [
        "#comparação entre elementos do array\r\n",
        "arr2 = np.array([[0., 4., 1.],[7.,2.,12.]])\r\n",
        "print(arr > arr2)\r\n",
        "print(arr == arr2)"
      ],
      "outputs": [
        {
          "output_type": "stream",
          "name": "stdout",
          "text": [
            "[[ True False  True]\n",
            " [False  True False]]\n",
            "[[False False False]\n",
            " [False False False]]\n"
          ]
        }
      ],
      "execution_count": 4,
      "metadata": {
        "collapsed": true,
        "jupyter": {
          "source_hidden": false,
          "outputs_hidden": false
        },
        "nteract": {
          "transient": {
            "deleting": false
          }
        },
        "gather": {
          "logged": 1604572273269
        }
      }
    },
    {
      "cell_type": "markdown",
      "source": [
        "# Indexação básica e fatiamento\r\n",
        "> A Indexação de arrays NumPy é um assunto rico, pois há muitos modos com os quais você pode querer selecionar um subconjunto de seus dados ou elementos individuais. Arrays unidimensionais são simples; superficialmente, eles se comportam de modo semelhante as listas do Python."
      ],
      "metadata": {
        "nteract": {
          "transient": {
            "deleting": false
          }
        }
      }
    },
    {
      "cell_type": "code",
      "source": [
        "arr = np.arange(10)\r\n",
        "print(arr[5])\r\n",
        "print(arr[5:8])\r\n",
        "arr[5:8] = 12\r\n",
        "print(arr)\r\n",
        "#Como podemos ver, se você atribuir um valor escalar a uma fatia (slice), como arr[5:8]=12, o valor será propagado (sofrerá broadcast a partir daí) para toda a seleção. Uma primeira distinção importante em relação às listas embutidas de Python é que as fatias de arrays são visualizadas (views) do array original. Isso significa que os dados não são copiados, e qualquer modificação na visualização se refletirá no array original.\r\n",
        "arr2 = arr[5:8]\r\n",
        "arr2[1] = 30\r\n",
        "print(arr2)\r\n",
        "print(arr)"
      ],
      "outputs": [
        {
          "output_type": "stream",
          "name": "stdout",
          "text": [
            "5\n",
            "[5 6 7]\n",
            "[ 0  1  2  3  4 12 12 12  8  9]\n",
            "[12 30 12]\n",
            "[ 0  1  2  3  4 12 30 12  8  9]\n"
          ]
        }
      ],
      "execution_count": 10,
      "metadata": {
        "collapsed": true,
        "jupyter": {
          "source_hidden": false,
          "outputs_hidden": false
        },
        "nteract": {
          "transient": {
            "deleting": false
          }
        },
        "gather": {
          "logged": 1604572668048
        }
      }
    },
    {
      "cell_type": "code",
      "source": [
        "arr2d = np.array([[1,2,3],[4,5,6],[7,8,9]])\r\n",
        "print(arr2d[2])\r\n",
        "#notação similar ao C/C++\r\n",
        "print(arr2d[0][2])\r\n",
        "#notação alternativa\r\n",
        "print(arr2d[0,2])\r\n"
      ],
      "outputs": [
        {
          "output_type": "stream",
          "name": "stdout",
          "text": [
            "[7 8 9]\n",
            "3\n",
            "3\n"
          ]
        }
      ],
      "execution_count": 12,
      "metadata": {
        "collapsed": true,
        "jupyter": {
          "source_hidden": false,
          "outputs_hidden": false
        },
        "nteract": {
          "transient": {
            "deleting": false
          }
        },
        "gather": {
          "logged": 1604572788895
        }
      }
    },
    {
      "cell_type": "markdown",
      "source": [
        "![Indexação de Matriz](img/indexacao_matriz.png)"
      ],
      "metadata": {
        "nteract": {
          "transient": {
            "deleting": false
          }
        }
      }
    },
    {
      "cell_type": "code",
      "source": [
        "#cópia de uma determinada parte\r\n",
        "arr2copia = arr2d[2].copy()\r\n",
        "arr2copia[:] = 200\r\n",
        "print(arr2d)\r\n",
        "print(arr2copia)"
      ],
      "outputs": [
        {
          "output_type": "stream",
          "name": "stdout",
          "text": [
            "[[1 2 3]\n",
            " [4 5 6]\n",
            " [7 8 9]]\n",
            "[200 200 200]\n"
          ]
        }
      ],
      "execution_count": 14,
      "metadata": {
        "collapsed": true,
        "jupyter": {
          "source_hidden": false,
          "outputs_hidden": false
        },
        "nteract": {
          "transient": {
            "deleting": false
          }
        },
        "gather": {
          "logged": 1604573255754
        }
      }
    },
    {
      "cell_type": "code",
      "source": [
        "#Indexando com fatias\r\n",
        "arr = np.array([0,1,2,3,4,5,6,7,8,9])\r\n",
        "print(arr[1:6])\r\n",
        "print(arr[:2])\r\n",
        "#multiplas fatias\r\n",
        "arr2d = np.array([[1,2,3],[4,5,6],[7,8,9]])\r\n",
        "print(arr2d[:2,1:])"
      ],
      "outputs": [
        {
          "output_type": "stream",
          "name": "stdout",
          "text": [
            "[1 2 3 4 5]\n",
            "[0 1]\n",
            "[[2 3]\n",
            " [5 6]]\n"
          ]
        }
      ],
      "execution_count": 18,
      "metadata": {
        "collapsed": true,
        "jupyter": {
          "source_hidden": false,
          "outputs_hidden": false
        },
        "nteract": {
          "transient": {
            "deleting": false
          }
        },
        "gather": {
          "logged": 1604573494427
        }
      }
    },
    {
      "cell_type": "markdown",
      "source": [
        "![Fatiamento de Matriz](img/indexacao_matriz_2.png)"
      ],
      "metadata": {
        "nteract": {
          "transient": {
            "deleting": false
          }
        }
      }
    },
    {
      "cell_type": "code",
      "source": [
        "#Indexação booleana\r\n",
        "names = np.array(['Bob','Joe','Will','Bob','Will','Joe','Joe'])\r\n",
        "data = np.random.randn(7,4)\r\n",
        "print(names)\r\n",
        "print(data)\r\n",
        "print(names == 'Bob')\r\n",
        "print(data[names == 'Bob'])\r\n",
        "print(data[names == 'Bob', 2:])"
      ],
      "outputs": [
        {
          "output_type": "stream",
          "name": "stdout",
          "text": [
            "['Bob' 'Joe' 'Will' 'Bob' 'Will' 'Joe' 'Joe']\n",
            "[[-6.48212517e-01  1.43545913e+00 -2.61761540e+00 -1.17393939e+00]\n",
            " [-7.33708986e-01  1.20470995e+00 -1.66062585e-01 -2.07285490e+00]\n",
            " [-5.51674583e-01 -2.36071274e+00 -5.49871317e-01 -2.75348968e-01]\n",
            " [ 1.33872249e-01  2.16096864e-01  6.14291670e-01 -3.48497093e-01]\n",
            " [-1.49019174e-01 -1.85067234e+00  4.52242756e-01 -6.35472360e-02]\n",
            " [-2.25564439e-03 -1.53924954e-01  1.10274195e+00 -3.10911617e-03]\n",
            " [-2.94441437e-01 -1.00451435e+00 -1.82354619e-01 -1.92763535e+00]]\n",
            "[ True False False  True False False False]\n",
            "[[-0.64821252  1.43545913 -2.6176154  -1.17393939]\n",
            " [ 0.13387225  0.21609686  0.61429167 -0.34849709]]\n",
            "[[-2.6176154  -1.17393939]\n",
            " [ 0.61429167 -0.34849709]]\n"
          ]
        }
      ],
      "execution_count": 29,
      "metadata": {
        "collapsed": true,
        "jupyter": {
          "source_hidden": false,
          "outputs_hidden": false
        },
        "nteract": {
          "transient": {
            "deleting": false
          }
        },
        "gather": {
          "logged": 1604574396454
        }
      }
    },
    {
      "cell_type": "code",
      "source": [
        "#inversão de condição\r\n",
        "print(data[~(names == 'Bob')])\r\n",
        "#Selecionando dois dos três nomes para combinar várias condições booleanas, utilize operadores aritméticos booleanos como & (and) e | (or):\r\n",
        "cond = (names == 'Bob') | (names == 'Will')\r\n",
        "print(data[cond])"
      ],
      "outputs": [
        {
          "output_type": "stream",
          "name": "stdout",
          "text": [
            "[[-7.33708986e-01  1.20470995e+00 -1.66062585e-01 -2.07285490e+00]\n",
            " [-5.51674583e-01 -2.36071274e+00 -5.49871317e-01 -2.75348968e-01]\n",
            " [-1.49019174e-01 -1.85067234e+00  4.52242756e-01 -6.35472360e-02]\n",
            " [-2.25564439e-03 -1.53924954e-01  1.10274195e+00 -3.10911617e-03]\n",
            " [-2.94441437e-01 -1.00451435e+00 -1.82354619e-01 -1.92763535e+00]]\n",
            "[[-0.64821252  1.43545913 -2.6176154  -1.17393939]\n",
            " [-0.55167458 -2.36071274 -0.54987132 -0.27534897]\n",
            " [ 0.13387225  0.21609686  0.61429167 -0.34849709]\n",
            " [-0.14901917 -1.85067234  0.45224276 -0.06354724]]\n"
          ]
        }
      ],
      "execution_count": 30,
      "metadata": {
        "collapsed": true,
        "jupyter": {
          "source_hidden": false,
          "outputs_hidden": false
        },
        "nteract": {
          "transient": {
            "deleting": false
          }
        },
        "gather": {
          "logged": 1604574401333
        }
      }
    },
    {
      "cell_type": "code",
      "source": [
        "#Alterando valores do array usando indexação booleana\r\n",
        "data[data < 0] = 0\r\n",
        "print(data)"
      ],
      "outputs": [
        {
          "output_type": "stream",
          "name": "stdout",
          "text": [
            "[[0.         1.43545913 0.         0.        ]\n",
            " [0.         1.20470995 0.         0.        ]\n",
            " [0.         0.         0.         0.        ]\n",
            " [0.13387225 0.21609686 0.61429167 0.        ]\n",
            " [0.         0.         0.45224276 0.        ]\n",
            " [0.         0.         1.10274195 0.        ]\n",
            " [0.         0.         0.         0.        ]]\n"
          ]
        }
      ],
      "execution_count": 31,
      "metadata": {
        "collapsed": true,
        "jupyter": {
          "source_hidden": false,
          "outputs_hidden": false
        },
        "nteract": {
          "transient": {
            "deleting": false
          }
        },
        "gather": {
          "logged": 1604574486995
        }
      }
    },
    {
      "cell_type": "markdown",
      "source": [
        "## Indexação sofisticada\r\n",
        "> Indexação sofisticada (fancy indexing) é o termo adotado pelo NumPy para descrever a indexação usando arrays de inteiros. Suponha que tivéssemos um array 8 x 4"
      ],
      "metadata": {
        "nteract": {
          "transient": {
            "deleting": false
          }
        }
      }
    },
    {
      "cell_type": "code",
      "source": [
        "arr = np.empty((8,4))\r\n",
        "for i in range(8):\r\n",
        "    arr[i] = i\r\n",
        "\r\n",
        "print(arr)\r\n",
        "#Para selecionar um subconjunto de linhas em uma ordem particular, podemos simplemente passar uma lista ou um ndarray de inteiros especificando a ordem desejada\r\n",
        "print(arr[[4,3,0,6]])\r\n",
        "print(arr[[-3, -5, -7]])"
      ],
      "outputs": [
        {
          "output_type": "stream",
          "name": "stdout",
          "text": [
            "[[0. 0. 0. 0.]\n",
            " [1. 1. 1. 1.]\n",
            " [2. 2. 2. 2.]\n",
            " [3. 3. 3. 3.]\n",
            " [4. 4. 4. 4.]\n",
            " [5. 5. 5. 5.]\n",
            " [6. 6. 6. 6.]\n",
            " [7. 7. 7. 7.]]\n",
            "[[4. 4. 4. 4.]\n",
            " [3. 3. 3. 3.]\n",
            " [0. 0. 0. 0.]\n",
            " [6. 6. 6. 6.]]\n",
            "[[5. 5. 5. 5.]\n",
            " [3. 3. 3. 3.]\n",
            " [1. 1. 1. 1.]]\n"
          ]
        }
      ],
      "execution_count": 36,
      "metadata": {
        "collapsed": true,
        "jupyter": {
          "source_hidden": false,
          "outputs_hidden": false
        },
        "nteract": {
          "transient": {
            "deleting": false
          }
        },
        "gather": {
          "logged": 1604574825604
        }
      }
    },
    {
      "cell_type": "code",
      "source": [
        "#Passar vários índices de array faz algo um pouco diferente; a instrução seleciona um array unidimensional de elementos correspondentes a cada tupla de índice\r\n",
        "arr = np.arange(32).reshape((8,4))\r\n",
        "print(arr)\r\n",
        "#neste caso os elementos (1,0), (5,3), (7,1) e (2,2) foram selecionados\r\n",
        "print(arr[[1,5,7,2],[0,3,1,2]])\r\n",
        "#Importante: independente de quantas dimensões o array tiver, o resultado da indexação sofisticada SEMPRE será unidimensional. E sempre COPIA os dados para um novo Array.\r\n",
        "arr2 = arr[[1,5,7,2],[0,3,1,2]]\r\n",
        "arr2[0] = 100\r\n",
        "print(arr2)\r\n",
        "print(arr)"
      ],
      "outputs": [
        {
          "output_type": "stream",
          "name": "stdout",
          "text": [
            "[[ 0  1  2  3]\n",
            " [ 4  5  6  7]\n",
            " [ 8  9 10 11]\n",
            " [12 13 14 15]\n",
            " [16 17 18 19]\n",
            " [20 21 22 23]\n",
            " [24 25 26 27]\n",
            " [28 29 30 31]]\n",
            "[ 4 23 29 10]\n",
            "[100  23  29  10]\n",
            "[[ 0  1  2  3]\n",
            " [ 4  5  6  7]\n",
            " [ 8  9 10 11]\n",
            " [12 13 14 15]\n",
            " [16 17 18 19]\n",
            " [20 21 22 23]\n",
            " [24 25 26 27]\n",
            " [28 29 30 31]]\n"
          ]
        }
      ],
      "execution_count": 40,
      "metadata": {
        "collapsed": true,
        "jupyter": {
          "source_hidden": false,
          "outputs_hidden": false
        },
        "nteract": {
          "transient": {
            "deleting": false
          }
        },
        "gather": {
          "logged": 1604575141924
        }
      }
    },
    {
      "cell_type": "markdown",
      "source": [
        "## Transposição de arrays e troca de eixos\r\n",
        "> A transposição é uma forma especial de reformatação que de modo semelhtante, devolve uma visualização dos dados subjacentes, sem copiar nada. Os arrays tem o método transpose, além do atributo especial T."
      ],
      "metadata": {
        "nteract": {
          "transient": {
            "deleting": false
          }
        }
      }
    },
    {
      "cell_type": "code",
      "source": [
        "arr = np.arange(15).reshape((3,5))\r\n",
        "print(arr)\r\n",
        "print(arr.T)\r\n",
        "print(arr)"
      ],
      "outputs": [
        {
          "output_type": "stream",
          "name": "stdout",
          "text": [
            "[[ 0  1  2  3  4]\n",
            " [ 5  6  7  8  9]\n",
            " [10 11 12 13 14]]\n",
            "[[ 0  5 10]\n",
            " [ 1  6 11]\n",
            " [ 2  7 12]\n",
            " [ 3  8 13]\n",
            " [ 4  9 14]]\n",
            "[[ 0  1  2  3  4]\n",
            " [ 5  6  7  8  9]\n",
            " [10 11 12 13 14]]\n"
          ]
        }
      ],
      "execution_count": 43,
      "metadata": {
        "collapsed": true,
        "jupyter": {
          "source_hidden": false,
          "outputs_hidden": false
        },
        "nteract": {
          "transient": {
            "deleting": false
          }
        },
        "gather": {
          "logged": 1604575511016
        }
      }
    },
    {
      "cell_type": "code",
      "source": [
        "#Produto de Matrizes\r\n",
        "a = [[1, 0], \r\n",
        "     [0, 1]]\r\n",
        "b = [[4, 1], \r\n",
        "     [2, 2]]\r\n",
        "print(np.dot(a, b))\r\n",
        "#Produto de matrizes transpostas\r\n",
        "arr = np.arange(18).reshape((6,3))\r\n",
        "print(arr)\r\n",
        "print(np.dot(arr.T, arr))"
      ],
      "outputs": [
        {
          "output_type": "stream",
          "name": "stdout",
          "text": [
            "[[4 1]\n",
            " [2 2]]\n",
            "[[ 0  1  2]\n",
            " [ 3  4  5]\n",
            " [ 6  7  8]\n",
            " [ 9 10 11]\n",
            " [12 13 14]\n",
            " [15 16 17]]\n",
            "[[495 540 585]\n",
            " [540 591 642]\n",
            " [585 642 699]]\n"
          ]
        }
      ],
      "execution_count": 48,
      "metadata": {
        "collapsed": true,
        "jupyter": {
          "source_hidden": false,
          "outputs_hidden": false
        },
        "nteract": {
          "transient": {
            "deleting": false
          }
        },
        "gather": {
          "logged": 1604575973225
        }
      }
    },
    {
      "cell_type": "markdown",
      "source": [
        "## Funções universais: funções rápidas de arrays para todos os elementos"
      ],
      "metadata": {
        "nteract": {
          "transient": {
            "deleting": false
          }
        }
      }
    },
    {
      "cell_type": "code",
      "source": [
        "arr = np.arange(10)\r\n",
        "print(arr)\r\n",
        "#Raiz quadrada\r\n",
        "print(np.sqrt(arr))\r\n",
        "#Exponencial\r\n",
        "print(np.exp(arr))"
      ],
      "outputs": [
        {
          "output_type": "stream",
          "name": "stdout",
          "text": [
            "[0 1 2 3 4 5 6 7 8 9]\n",
            "[0.         1.         1.41421356 1.73205081 2.         2.23606798\n",
            " 2.44948974 2.64575131 2.82842712 3.        ]\n",
            "[1.00000000e+00 2.71828183e+00 7.38905610e+00 2.00855369e+01\n",
            " 5.45981500e+01 1.48413159e+02 4.03428793e+02 1.09663316e+03\n",
            " 2.98095799e+03 8.10308393e+03]\n"
          ]
        }
      ],
      "execution_count": 63,
      "metadata": {
        "collapsed": true,
        "jupyter": {
          "source_hidden": false,
          "outputs_hidden": false
        },
        "nteract": {
          "transient": {
            "deleting": false
          }
        },
        "gather": {
          "logged": 1604576849247
        }
      }
    },
    {
      "cell_type": "code",
      "source": [
        "x = np.random.randn(4)\r\n",
        "y = np.random.randn(4)\r\n",
        "print(x)\r\n",
        "print(y)\r\n",
        "print(np.maximum(x,y))\r\n",
        "print(np.minimum(x,y))"
      ],
      "outputs": [
        {
          "output_type": "stream",
          "name": "stdout",
          "text": [
            "[ 0.50096921  0.40300168 -1.01760097 -0.82689824]\n",
            "[-0.03509975 -0.60670141  1.05667631 -0.34156791]\n",
            "[ 0.50096921  0.40300168  1.05667631 -0.34156791]\n",
            "[-0.03509975 -0.60670141 -1.01760097 -0.82689824]\n"
          ]
        }
      ],
      "execution_count": 69,
      "metadata": {
        "collapsed": true,
        "jupyter": {
          "source_hidden": false,
          "outputs_hidden": false
        },
        "nteract": {
          "transient": {
            "deleting": false
          }
        },
        "gather": {
          "logged": 1604577134271
        }
      }
    },
    {
      "cell_type": "code",
      "source": [
        "arr = np.random.randn(7) * 5\r\n",
        "print(arr)\r\n",
        "remainder, whole_part = np.modf(arr)\r\n",
        "print(remainder)\r\n",
        "print(whole_part)"
      ],
      "outputs": [
        {
          "output_type": "stream",
          "name": "stdout",
          "text": [
            "[ 4.73319419 -2.8876988   2.21308583 -0.18467112 -2.51904294 -0.13821396\n",
            "  0.95451781]\n",
            "[ 0.73319419 -0.8876988   0.21308583 -0.18467112 -0.51904294 -0.13821396\n",
            "  0.95451781]\n",
            "[ 4. -2.  2. -0. -2. -0.  0.]\n"
          ]
        }
      ],
      "execution_count": 70,
      "metadata": {
        "collapsed": true,
        "jupyter": {
          "source_hidden": false,
          "outputs_hidden": false
        },
        "nteract": {
          "transient": {
            "deleting": false
          }
        },
        "gather": {
          "logged": 1604577301282
        }
      }
    },
    {
      "cell_type": "markdown",
      "source": [
        "|Função|&nbsp;&nbsp;&nbsp;| Descrição |\r\n",
        "|----|-|----------------|\r\n",
        "|abs,fabs| | Calcula o valor absoluto de inteiros, números de ponto flutuante e valores complexos para todos os elementos |\r\n",
        "|sqrt| | Calcula a raiz quadrada de cada elemento (equipvamente a arr ** 0.5|\r\n",
        "|square| | Calcula o quadrado de cada elemento (equivalente a arr ** 2)|\r\n",
        "|exp| | Calcula o exponencial ex de cada elemento|\r\n",
        "|log, log10, log2, log1p| | Logaritmo natural (base e), log na base 10, log na base 2, e log (1+x), respectivamente|\r\n",
        "|sign| | Calcula o sinal de cada elemento: 1(positivo), 0 (zero) ou -1 (negativo)|\r\n",
        "|ceil| | Calcula o teto de cada elemento( isto é, o maior inteiro menor ou igual ao elemento)|\r\n",
        "|floor| | Calcula o piso de cada elemento ( isto é, o menor inteiro maior ou igual ao número)|\r\n",
        "|rint| | Arredonda os elementos para o inteiro mais próximo, preservando o dtype|\r\n",
        "|modf| | Devolve as partes fracionárias e inteiras do array como um array separado|\r\n",
        "|isnan| | Deolve um array booleano indicando se cada valor é NaN (not a number)|\r\n",
        "|isfinite, isinf| | Devolve um array booleano indicando se cada elemento é finito (não inf, não NaN) ou infinito, respectivamente|\r\n",
        "|cos,cosh,sin,sinh,tan,tanh| | Funções trigonométricas regulares e hiperbólicas|\r\n",
        "|arccos, arccosh, arcsin, arcsinh, arctan, arctanh| | Funções trigonométricas inversas|\r\n",
        "|logical_not| | Calcula o valor-verdade de not x para todos os elementos (equivalente a ~arr)|\r\n"
      ],
      "metadata": {
        "nteract": {
          "transient": {
            "deleting": false
          }
        }
      }
    },
    {
      "cell_type": "markdown",
      "source": [
        "|Função binárias|&nbsp;&nbsp;&nbsp;| Descrição |\r\n",
        "|----|-|----------------|\r\n",
        "|add| | Soma elementos correspondentes em arrays|\r\n",
        "|substract| | Subtrai elementos do segundo array do primeiro|\r\n",
        "|multiply| | Multiplica elementos do array|\r\n",
        "|divide, floor_divide| | Faz a divisão ou a divisão pelo piso (truncando o resto)|\r\n",
        "|power| | Eleva os elementos do primeiro array às potências indicadas no segundo array|\r\n",
        "|maximum, fmax| | Máximo para todos os elementos; fmax ignora NaN|\r\n",
        "|minimum, fmin| | Mínimo para todos os elementos; fmin ignora NaN|\r\n",
        "|mod| | Módulo para todos os elementos (resto da divisão)|\r\n",
        "|copysign| | Copia o sinal dos valores do segundo argumento para os valores do primeiro argumento|\r\n",
        "|greater, greater_equal,less,less_equal,equal,not_equal| | Faz uma comparação para todos os elementos, produzindo um array booleano (equivalente ao operadores infixos >, >=,<,<=,==,!=)|\r\n",
        "|logical_and, logical_or,logical_xor| | Calcula o valor-verdade da operação lógica (equivalente aos operadores infixos &,!,^) para todos os elementos|"
      ],
      "metadata": {
        "nteract": {
          "transient": {
            "deleting": false
          }
        }
      }
    },
    {
      "cell_type": "markdown",
      "source": [
        "## Programação orientada a arrays\r\n",
        "> Usar arrays NumPy permite expressar vários tipos de tarefas de processamento de dados na forma de expressões concisas de arrays que poderiam, do contrário, exigir a escrita de laços. Essa prática de substituir laços explícitos por expressões de arrays é comumente chamada de vetorização. Em Geral operações vetorizadas em arrays com frequência serão mais rápidas em uma ou duas (ou mais) ordens de grandeza do que seus equivalentes em Python puro, com o maior impacto sendo em qualquer tipo de processamentos numéricos."
      ],
      "metadata": {
        "nteract": {
          "transient": {
            "deleting": false
          }
        }
      }
    },
    {
      "cell_type": "code",
      "source": [
        "#Como um exemplo, suponha que quiséssemos avaliar a função sqrt(x^2+y^2) para uma grade regular de valores. A função np.meshgrid aceita dois arrays 1D e gera duas matrizes 2D correspondentes a todos os pares (x,y) nos dois arrays.\r\n",
        "arr1 = np.arange(4).reshape((2,2))\r\n",
        "print(arr1)\r\n",
        "xs, ys = np.meshgrid(arr1, arr1)\r\n",
        "print(xs)\r\n",
        "print(ys)\r\n",
        "arrz = np.sqrt(xs ** 2 + ys ** 2)\r\n",
        "print(arrz)"
      ],
      "outputs": [
        {
          "output_type": "stream",
          "name": "stdout",
          "text": [
            "[[0 1]\n",
            " [2 3]]\n",
            "[[0 1 2 3]\n",
            " [0 1 2 3]\n",
            " [0 1 2 3]\n",
            " [0 1 2 3]]\n",
            "[[0 0 0 0]\n",
            " [1 1 1 1]\n",
            " [2 2 2 2]\n",
            " [3 3 3 3]]\n",
            "[[0.         1.         2.         3.        ]\n",
            " [1.         1.41421356 2.23606798 3.16227766]\n",
            " [2.         2.23606798 2.82842712 3.60555128]\n",
            " [3.         3.16227766 3.60555128 4.24264069]]\n"
          ]
        }
      ],
      "execution_count": 18,
      "metadata": {
        "collapsed": true,
        "jupyter": {
          "source_hidden": false,
          "outputs_hidden": false
        },
        "nteract": {
          "transient": {
            "deleting": false
          }
        },
        "gather": {
          "logged": 1604588570071
        }
      }
    },
    {
      "cell_type": "code",
      "source": [
        "import matplotlib.pyplot as plt\r\n",
        "plt.imshow(arrz, cmap=plt.cm.gray)\r\n",
        "plt.colorbar()"
      ],
      "outputs": [
        {
          "output_type": "execute_result",
          "execution_count": 19,
          "data": {
            "text/plain": "<matplotlib.colorbar.Colorbar at 0x7f5e9bed3c18>"
          },
          "metadata": {}
        },
        {
          "output_type": "display_data",
          "data": {
            "text/plain": "<Figure size 432x288 with 2 Axes>",
            "image/png": "[encoded data removed]"
          },
          "metadata": {
            "needs_background": "light"
          }
        }
      ],
      "execution_count": 19,
      "metadata": {
        "collapsed": true,
        "jupyter": {
          "source_hidden": false,
          "outputs_hidden": false
        },
        "nteract": {
          "transient": {
            "deleting": false
          }
        },
        "gather": {
          "logged": 1604588575666
        }
      }
    },
    {
      "cell_type": "markdown",
      "source": [
        "## Expressando uma lógica condicional como operações de array\r\n",
        "> A função numpy.where é uma versão vetorizada da expressão ternária x if condition else y.\r\n"
      ],
      "metadata": {
        "nteract": {
          "transient": {
            "deleting": false
          }
        }
      }
    },
    {
      "cell_type": "code",
      "source": [
        "xarr = np.array([1.1, 1.2, 1.3, 1.4, 1.5])\r\n",
        "yarr = np.array([2.1, 2.2, 2.3, 2.4, 2.5])\r\n",
        "cond = np.array([True, False, True, True, False])\r\n",
        "result = np.where(cond, xarr, yarr)\r\n",
        "print(result)"
      ],
      "outputs": [
        {
          "output_type": "stream",
          "name": "stdout",
          "text": [
            "[1.1 2.2 1.3 1.4 2.5]\n"
          ]
        }
      ],
      "execution_count": 21,
      "metadata": {
        "collapsed": true,
        "jupyter": {
          "source_hidden": false,
          "outputs_hidden": false
        },
        "nteract": {
          "transient": {
            "deleting": false
          }
        },
        "gather": {
          "logged": 1604589218414
        }
      }
    },
    {
      "cell_type": "markdown",
      "source": [
        "## Métodos matemáticos e estatísticos\r\n",
        "> Um conjunto de funções matemáticas que calcula estatísticas sobre um array inteiro ou sobre os dados ao longo de um eixo é acessível por meio de métodos da classe array. Você pode usar agregação (com frequência chamadas de reduções), como sum, mean, e std (desvio-padrão), seja chamando o método da instância do array ou usando a função de nível superior do NumPy."
      ],
      "metadata": {
        "nteract": {
          "transient": {
            "deleting": false
          }
        }
      }
    },
    {
      "cell_type": "code",
      "source": [
        "arr = np.arange(16).reshape(4,4)\r\n",
        "print(arr)\r\n",
        "print(arr.mean())\r\n",
        "print(arr.sum())\r\n",
        "print(arr.mean(axis=1)) #axis=1 coluna\r\n",
        "print(arr.sum(axis=0)) #axis=0 linha"
      ],
      "outputs": [
        {
          "output_type": "stream",
          "name": "stdout",
          "text": [
            "[[ 0  1  2  3]\n",
            " [ 4  5  6  7]\n",
            " [ 8  9 10 11]\n",
            " [12 13 14 15]]\n",
            "7.5\n",
            "120\n",
            "[ 1.5  5.5  9.5 13.5]\n",
            "[24 28 32 36]\n"
          ]
        }
      ],
      "execution_count": 32,
      "metadata": {
        "collapsed": true,
        "jupyter": {
          "source_hidden": false,
          "outputs_hidden": false
        },
        "nteract": {
          "transient": {
            "deleting": false
          }
        },
        "gather": {
          "logged": 1604589996909
        }
      }
    },
    {
      "cell_type": "code",
      "source": [
        "arr = np.array([1,2,3,4,5,6,7])\r\n",
        "print(arr.cumsum())\r\n",
        "print(arr.cumprod())"
      ],
      "outputs": [
        {
          "output_type": "stream",
          "name": "stdout",
          "text": [
            "[ 1  3  6 10 15 21 28]\n",
            "[   1    2    6   24  120  720 5040]\n"
          ]
        }
      ],
      "execution_count": 35,
      "metadata": {
        "collapsed": true,
        "jupyter": {
          "source_hidden": false,
          "outputs_hidden": false
        },
        "nteract": {
          "transient": {
            "deleting": false
          }
        },
        "gather": {
          "logged": 1604590270546
        }
      }
    },
    {
      "cell_type": "markdown",
      "source": [
        "|Método|&nbsp;&nbsp;&nbsp;| Descrição |\r\n",
        "|----|-|----------------|\r\n",
        "|sum| | Soma de todos os elementos do array ou ao longo de um eixo; arrays de tamanho zero tem soma igual a zero|\r\n",
        "|mean| | Média aritmética, arrays de tamanho zero tem média NaN|\r\n",
        "|std,var| | Desvio-padrão e variância, respectivamente, com graus opcionais de ajuste de liberdade (denominador default n)|\r\n",
        "|min,max| | Mínimo e máximo|\r\n",
        "|argmin, argmax| | Índices dos elementos mínimos e máximois, respectivamente|\r\n",
        "|cumsum| | Soma cumulativa dos elementos, começando de 0|\r\n",
        "|cumprod| | Produto cumulativo dos elementos, começando de 1|\r\n",
        "\r\n"
      ],
      "metadata": {
        "nteract": {
          "transient": {
            "deleting": false
          }
        }
      }
    },
    {
      "cell_type": "code",
      "source": [
        "a = np.array([[1, 2], [3, 4]])\r\n",
        "#Variância o quão distante os números estão da média\r\n",
        "print(np.var(a))\r\n",
        "\r\n",
        "#O desvio padrão é simplesmente o resultado positivo da raiz quadrada da variância. \r\n",
        "#Na prática, o desvio padrão indica qual é o “erro” se quiséssemos substituir um dos valores coletados pelo valor da média\r\n",
        "print(np.std(a))"
      ],
      "outputs": [
        {
          "output_type": "stream",
          "name": "stdout",
          "text": [
            "1.25\n",
            "1.118033988749895\n"
          ]
        }
      ],
      "execution_count": 39,
      "metadata": {
        "collapsed": true,
        "jupyter": {
          "source_hidden": false,
          "outputs_hidden": false
        },
        "nteract": {
          "transient": {
            "deleting": false
          }
        },
        "gather": {
          "logged": 1604591058659
        }
      }
    },
    {
      "cell_type": "markdown",
      "source": [
        "## Métodos para arrays booleanos\r\n",
        "> Valores booleanos sofrem coerção para 1(True) e 0(False) nos métodos anteriores. Assim, sum com frequência é usado como uma forma de contar valores True em um array Booleano"
      ],
      "metadata": {
        "nteract": {
          "transient": {
            "deleting": false
          }
        }
      }
    },
    {
      "cell_type": "code",
      "source": [
        "bools = np.array([False, False, True, False])\r\n",
        "print((bools == False).sum())\r\n",
        "\r\n",
        "arr = np.random.randn(100)\r\n",
        "print((arr > 0).sum())"
      ],
      "outputs": [
        {
          "output_type": "stream",
          "name": "stdout",
          "text": [
            "3\n",
            "57\n"
          ]
        }
      ],
      "execution_count": 41,
      "metadata": {
        "collapsed": true,
        "jupyter": {
          "source_hidden": false,
          "outputs_hidden": false
        },
        "nteract": {
          "transient": {
            "deleting": false
          }
        },
        "gather": {
          "logged": 1604591298803
        }
      }
    },
    {
      "cell_type": "code",
      "source": [
        "#Há dois métodos adicionais any e all, particularmente úteis para arrays booleanos. \r\n",
        "#any testa se um ou m ais valores em um array são True, enquanto all verifica se todos os vlaores são True\r\n",
        "print(bools.any())\r\n",
        "print(bools.all())"
      ],
      "outputs": [
        {
          "output_type": "stream",
          "name": "stdout",
          "text": [
            "True\n",
            "False\n"
          ]
        }
      ],
      "execution_count": 42,
      "metadata": {
        "collapsed": true,
        "jupyter": {
          "source_hidden": false,
          "outputs_hidden": false
        },
        "nteract": {
          "transient": {
            "deleting": false
          }
        },
        "gather": {
          "logged": 1604591375226
        }
      }
    },
    {
      "cell_type": "code",
      "source": [
        "#Ordenação\r\n",
        "arr = np.random.randn(6)\r\n",
        "print(arr)\r\n",
        "arr.sort()\r\n",
        "print(arr)"
      ],
      "outputs": [
        {
          "output_type": "stream",
          "name": "stdout",
          "text": [
            "[ 0.1104905  -0.42699742 -1.09616018 -0.27502666  0.35145041 -1.24196517]\n",
            "[-1.24196517 -1.09616018 -0.42699742 -0.27502666  0.1104905   0.35145041]\n"
          ]
        }
      ],
      "execution_count": 4,
      "metadata": {
        "collapsed": true,
        "jupyter": {
          "source_hidden": false,
          "outputs_hidden": false
        },
        "nteract": {
          "transient": {
            "deleting": false
          }
        },
        "gather": {
          "logged": 1604599694044
        }
      }
    },
    {
      "cell_type": "code",
      "source": [
        "#Ordenação por dimensão\r\n",
        "arr = np.random.randn(3,3)\r\n",
        "print(arr)\r\n",
        "arrord = np.sort(arr,0) #ordenação por coluna - retorna copia\r\n",
        "print(arrord)\r\n",
        "arr.sort(1) #ordenação por linha - altera array original\r\n",
        "print(arr)"
      ],
      "outputs": [
        {
          "output_type": "stream",
          "name": "stdout",
          "text": [
            "[[ 0.01682553 -2.22627388 -0.04119609]\n",
            " [ 0.17085928  0.6475558   0.60198468]\n",
            " [ 0.93561705  0.34816377 -0.31335425]]\n",
            "[[ 0.01682553 -2.22627388 -0.31335425]\n",
            " [ 0.17085928  0.34816377 -0.04119609]\n",
            " [ 0.93561705  0.6475558   0.60198468]]\n",
            "[[-2.22627388 -0.04119609  0.01682553]\n",
            " [ 0.17085928  0.60198468  0.6475558 ]\n",
            " [-0.31335425  0.34816377  0.93561705]]\n"
          ]
        }
      ],
      "execution_count": 9,
      "metadata": {
        "collapsed": true,
        "jupyter": {
          "source_hidden": false,
          "outputs_hidden": false
        },
        "nteract": {
          "transient": {
            "deleting": false
          }
        },
        "gather": {
          "logged": 1604600058120
        }
      }
    },
    {
      "cell_type": "markdown",
      "source": [
        "## Unicidade e outras lógicas de conjuntos"
      ],
      "metadata": {
        "nteract": {
          "transient": {
            "deleting": false
          }
        }
      }
    },
    {
      "cell_type": "code",
      "source": [
        "names = np.array(['Bob', 'Joe', 'Will', 'Bob', 'Will', 'Joe'])\r\n",
        "names= np.unique(names)\r\n",
        "print(names)"
      ],
      "outputs": [
        {
          "output_type": "stream",
          "name": "stdout",
          "text": [
            "['Bob' 'Joe' 'Will']\n"
          ]
        }
      ],
      "execution_count": 11,
      "metadata": {
        "collapsed": true,
        "jupyter": {
          "source_hidden": false,
          "outputs_hidden": false
        },
        "nteract": {
          "transient": {
            "deleting": false
          }
        },
        "gather": {
          "logged": 1604600284233
        }
      }
    },
    {
      "cell_type": "code",
      "source": [
        "#np.in1d compara a existência de elementos de um array no segundo array\r\n",
        "values = np.array([6, 0, 0, 3, 2, 5, 6])\r\n",
        "np.in1d(values, [2, 3, 6])"
      ],
      "outputs": [
        {
          "output_type": "execute_result",
          "execution_count": 12,
          "data": {
            "text/plain": "array([ True, False, False,  True,  True, False,  True])"
          },
          "metadata": {}
        }
      ],
      "execution_count": 12,
      "metadata": {
        "collapsed": true,
        "jupyter": {
          "source_hidden": false,
          "outputs_hidden": false
        },
        "nteract": {
          "transient": {
            "deleting": false
          }
        },
        "gather": {
          "logged": 1604600381773
        }
      }
    },
    {
      "cell_type": "markdown",
      "source": [
        "|Método|&nbsp;&nbsp;&nbsp;| Descrição |\r\n",
        "|----|-|----------------|\r\n",
        "|unique(x)| |Calcula os elementos únicos ordenados de x|\r\n",
        "|intersect1d(x, y)| |Calcula os elementos comuns ordenados em x e y|\r\n",
        "|union1d(x, y)| |Calcula a união ordenada dos elementos|\r\n",
        "|in1d(x, y)| |Calcula um array booleano indicando se cada elemento de x está contido em y|\r\n",
        "|setdiff1d(x, y)| |Diferença entre conjuntos, isto é, elementos em x que não estão em y|\r\n",
        "|setxor1d(x, y)| |Diferença simétrica entre conjuntos: elementos que estão em apenas um dos arrays, mas não em ambos| "
      ],
      "metadata": {
        "nteract": {
          "transient": {
            "deleting": false
          }
        }
      }
    },
    {
      "cell_type": "markdown",
      "source": [
        "# Entrada e saída de arquivos com arrays\r\n",
        "> O NumPy é capaz de salvar e carregar dados de e para o disco, seja em formato-texto ou em formato binário."
      ],
      "metadata": {
        "nteract": {
          "transient": {
            "deleting": false
          }
        }
      }
    },
    {
      "cell_type": "code",
      "source": [
        "arr = np.arange(10)\r\n",
        "np.save('some_array', arr)"
      ],
      "outputs": [],
      "execution_count": 13,
      "metadata": {
        "collapsed": true,
        "jupyter": {
          "source_hidden": false,
          "outputs_hidden": false
        },
        "nteract": {
          "transient": {
            "deleting": false
          }
        },
        "gather": {
          "logged": 1604600799996
        }
      }
    },
    {
      "cell_type": "code",
      "source": [
        "arr2 = np.load('some_array.npy')\r\n",
        "print(arr2)"
      ],
      "outputs": [
        {
          "output_type": "stream",
          "name": "stdout",
          "text": [
            "[0 1 2 3 4 5 6 7 8 9]\n"
          ]
        }
      ],
      "execution_count": 14,
      "metadata": {
        "collapsed": true,
        "jupyter": {
          "source_hidden": false,
          "outputs_hidden": false
        },
        "nteract": {
          "transient": {
            "deleting": false
          }
        },
        "gather": {
          "logged": 1604600859382
        }
      }
    },
    {
      "cell_type": "code",
      "source": [
        "#Voce pode salvar vários arrays em um arquivo não compactado usando np.savez, passando os arrays como argumentos nomeados\r\n",
        "np.savez('array_archive.npz', a=arr, b=arr)"
      ],
      "outputs": [],
      "execution_count": 15,
      "metadata": {
        "collapsed": true,
        "jupyter": {
          "source_hidden": false,
          "outputs_hidden": false
        },
        "nteract": {
          "transient": {
            "deleting": false
          }
        },
        "gather": {
          "logged": 1604600957280
        }
      }
    },
    {
      "cell_type": "code",
      "source": [
        "arch = np.load('array_archive.npz')\r\n",
        "print(arch['a'])\r\n",
        "print(arch['b'])"
      ],
      "outputs": [
        {
          "output_type": "stream",
          "name": "stdout",
          "text": [
            "[0 1 2 3 4 5 6 7 8 9]\n",
            "[0 1 2 3 4 5 6 7 8 9]\n"
          ]
        }
      ],
      "execution_count": 17,
      "metadata": {
        "collapsed": true,
        "jupyter": {
          "source_hidden": false,
          "outputs_hidden": false
        },
        "nteract": {
          "transient": {
            "deleting": false
          }
        },
        "gather": {
          "logged": 1604601008592
        }
      }
    },
    {
      "cell_type": "code",
      "source": [
        "#salvando arrays no formato compactado\r\n",
        "np.savez_compressed('arrays_compressed.npz', a=arr, b=arr)"
      ],
      "outputs": [],
      "execution_count": 18,
      "metadata": {
        "collapsed": true,
        "jupyter": {
          "source_hidden": false,
          "outputs_hidden": false
        },
        "nteract": {
          "transient": {
            "deleting": false
          }
        },
        "gather": {
          "logged": 1604601052878
        }
      }
    },
    {
      "cell_type": "markdown",
      "source": [
        "# Algebra Linear\r\n",
        "> A álgebra linear, assim como a multiplicação de matrizes, as decomposições, os determinantes e outras operações matemáticas em matrizes quadradas, é uma parte importante de qualquer biblioteca de arrays."
      ],
      "metadata": {
        "nteract": {
          "transient": {
            "deleting": false
          }
        }
      }
    },
    {
      "cell_type": "markdown",
      "source": [
        "|Método|&nbsp;&nbsp;&nbsp;| Descrição |\r\n",
        "|----|-|----------------|\r\n",
        "|diag| |Devolve os elementos diagonais (ou fora da diagonal) de uma matriz quadrada como um array 1D, ou converte um array 1D em uma matriz quadrada, com zeros fora da diagonal|\r\n",
        "|dot| |Multiplicação de matrizes|\r\n",
        "|trace| |Calcula a soma dos elementos da diagonal|\r\n",
        "|det| |Calcula o determinante da matriz |\r\n",
        "|eig| |Calcula os autovalores (valores próprios) e os autovetores de uma matriz quadrada|\r\n",
        "|inv| |Calcula a inversa de uma matriz quadrada \r\n",
        "|pinv| |Calcula a pseudoinversa de Moore-Penrose de uma matriz|\r\n",
        "|qr| |Calcula a decomposição QR| \r\n",
        "|svd| | Calcula a SVD (Singular Value Decomposition, ou Decomposição de Valor Singular)|\r\n",
        "|solve| |Resolve o sistema linear Ax = b para x, em que A é uma matriz quadrada|\r\n",
        "|lstsq| | Calcula a solução de quadrados mínimos para Ax = b|\r\n"
      ],
      "metadata": {
        "nteract": {
          "transient": {
            "deleting": false
          }
        }
      }
    },
    {
      "cell_type": "code",
      "source": [
        "#Solve the system of equations \r\n",
        "#4x + 3y + 2z = 25\r\n",
        "#-2x + 2y + 3z = -10\r\n",
        "#3x -5y + 2z = -4\r\n",
        "A = np.array([[4, 3, 2], [-2, 2, 3], [3, -5, 2]])\r\n",
        "B = np.array([25, -10, -4])\r\n",
        "X2 = np.linalg.solve(A,B)\r\n",
        "\r\n",
        "print(X2)"
      ],
      "outputs": [
        {
          "output_type": "stream",
          "name": "stdout",
          "text": [
            "[ 5.  3. -2.]\n"
          ]
        }
      ],
      "execution_count": 22,
      "metadata": {
        "collapsed": true,
        "jupyter": {
          "source_hidden": false,
          "outputs_hidden": false
        },
        "nteract": {
          "transient": {
            "deleting": false
          }
        },
        "gather": {
          "logged": 1604602327568
        }
      }
    },
    {
      "cell_type": "markdown",
      "source": [
        "## Geração de números pseudoaleatórios\r\n",
        "> O módulo numpy.random suplementa o módulo embutido random de Python com funções para gerar arrays inteiros de valores de amostras, de modo eficaz, a partir de vários tipos de distribuições de probabilidade."
      ],
      "metadata": {
        "nteract": {
          "transient": {
            "deleting": false
          }
        }
      }
    },
    {
      "cell_type": "code",
      "source": [
        "# 4x4 amostras de distribuição normal\r\n",
        "sample = np.random.normal(size=(4,4))\r\n",
        "print(sample)"
      ],
      "outputs": [
        {
          "output_type": "stream",
          "name": "stdout",
          "text": [
            "[[-0.36723338 -1.72314484  0.93377541  2.16588515]\n",
            " [ 0.86716933 -0.46384683  0.40044181 -0.50993717]\n",
            " [-0.60089768  0.73472022 -0.87552436  0.3134715 ]\n",
            " [ 0.98769828 -1.09186612 -0.79179422 -0.35975878]]\n"
          ]
        }
      ],
      "execution_count": 24,
      "metadata": {
        "collapsed": true,
        "jupyter": {
          "source_hidden": false,
          "outputs_hidden": false
        },
        "nteract": {
          "transient": {
            "deleting": false
          }
        },
        "gather": {
          "logged": 1604602851509
        }
      }
    },
    {
      "cell_type": "markdown",
      "source": [
        "> Chamamos esses números de pseudoaleatórios porque são gerados por um algoritmo com um comportamento determinístico, baseado na semente (seed) do gerador de números aleatórios. Podemos alterar a semente para a geração de números aleatórios no NumPy usando np.random.seed."
      ],
      "metadata": {
        "nteract": {
          "transient": {
            "deleting": false
          }
        }
      }
    },
    {
      "cell_type": "code",
      "source": [
        "np.random.seed(1234)"
      ],
      "outputs": [],
      "execution_count": 25,
      "metadata": {
        "collapsed": true,
        "jupyter": {
          "source_hidden": false,
          "outputs_hidden": false
        },
        "nteract": {
          "transient": {
            "deleting": false
          }
        },
        "gather": {
          "logged": 1604602957726
        }
      }
    },
    {
      "cell_type": "markdown",
      "source": [
        "> As funções de geração de dados em numpy.random utilizam uma semente aleatória global. A fim de evitar um estado global, podemos usar numpy.random.RandomState para criar um gerador de números aleatórios isolado de outros:"
      ],
      "metadata": {
        "nteract": {
          "transient": {
            "deleting": false
          }
        }
      }
    },
    {
      "cell_type": "code",
      "source": [
        "rng = np.random.RandomState(1234)\r\n",
        "rng.randn(10)"
      ],
      "outputs": [
        {
          "output_type": "execute_result",
          "execution_count": 26,
          "data": {
            "text/plain": "array([ 0.47143516, -1.19097569,  1.43270697, -0.3126519 , -0.72058873,\n        0.88716294,  0.85958841, -0.6365235 ,  0.01569637, -2.24268495])"
          },
          "metadata": {}
        }
      ],
      "execution_count": 26,
      "metadata": {
        "collapsed": true,
        "jupyter": {
          "source_hidden": false,
          "outputs_hidden": false
        },
        "nteract": {
          "transient": {
            "deleting": false
          }
        },
        "gather": {
          "logged": 1604603019873
        }
      }
    },
    {
      "cell_type": "markdown",
      "source": [
        "|Função|&nbsp;&nbsp;&nbsp;| Descrição |\r\n",
        "|----|-|----------------|\r\n",
        "|seed| | Fornece uma semente ao gerador de números aleatórios|\r\n",
        "|permutation| |Devolve uma permutação aleatória de uma sequência ou um intervalo permutado|\r\n",
        "|shuffle| |Permuta aleatoriamente uma sequência in-place rand Sorteia amostras de uma distribuição uniforme|\r\n",
        "|randint| | Sorteia inteiros aleatórios de um dado intervalo de valores menores para maiores|\r\n",
        "|randn| | Sorteia amostras de uma distribuição normal com média 0 e desvio-padrão 1 (interface do tipo MATLAB)|\r\n",
        "|binomial| |Sorteia amostras de uma distribuição binomial|\r\n",
        "|normal| | Sorteia amostras de uma distribuição normal (gaussiana)|\r\n",
        "|beta| |Sorteia amostras de uma distribuição beta|\r\n",
        "|chisquare| | Sorteia amostras de uma distribuição qui-quadrada|\r\n",
        "|gamma| | Sorteia amostras de uma distribuição gama|\r\n",
        "|uniform| | Sorteia amostras de uma distribuição uniforme \\[0, 1\\]|\r\n"
      ],
      "metadata": {
        "nteract": {
          "transient": {
            "deleting": false
          }
        }
      }
    }
  ],
  "metadata": {
    "kernelspec": {
      "name": "python3-azureml",
      "language": "python",
      "display_name": "Python 3.6 - AzureML"
    },
    "language_info": {
      "name": "python",
      "version": "3.6.9",
      "mimetype": "text/x-python",
      "codemirror_mode": {
        "name": "ipython",
        "version": 3
      },
      "pygments_lexer": "ipython3",
      "nbconvert_exporter": "python",
      "file_extension": ".py"
    },
    "kernel_info": {
      "name": "python3-azureml"
    },
    "nteract": {
      "version": "nteract-front-end@1.0.0"
    }
  },
  "nbformat": 4,
  "nbformat_minor": 2
}