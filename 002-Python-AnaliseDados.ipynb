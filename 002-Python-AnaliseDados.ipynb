{
  "cells": [
    {
      "cell_type": "markdown",
      "source": [
        "# Revisão Python\r\n",
        "> Fonte: https://novatec.com.br/livros/python-para-analise-de-dados/"
      ],
      "metadata": {
        "nteract": {
          "transient": {
            "deleting": false
          }
        }
      }
    },
    {
      "cell_type": "code",
      "source": [
        "#Laço de repetição FOR\r\n",
        "for x in range(3):\r\n",
        "    print(\"Eu não acredito\")"
      ],
      "outputs": [
        {
          "output_type": "stream",
          "name": "stdout",
          "text": [
            "Eu não acredito\n",
            "Eu não acredito\n",
            "Eu não acredito\n"
          ]
        }
      ],
      "execution_count": 4,
      "metadata": {
        "collapsed": true,
        "jupyter": {
          "source_hidden": false,
          "outputs_hidden": false
        },
        "nteract": {
          "transient": {
            "deleting": false
          }
        },
        "gather": {
          "logged": 1604344119037
        }
      }
    },
    {
      "cell_type": "code",
      "source": [
        "#Laço while\r\n",
        "x=0\r\n",
        "while(x < 3):\r\n",
        "    print(\"Rodando\")\r\n",
        "    x+=1"
      ],
      "outputs": [
        {
          "output_type": "stream",
          "name": "stdout",
          "text": [
            "Rodando\n",
            "Rodando\n",
            "Rodando\n"
          ]
        }
      ],
      "execution_count": 24,
      "metadata": {
        "collapsed": true,
        "jupyter": {
          "source_hidden": false,
          "outputs_hidden": false
        },
        "nteract": {
          "transient": {
            "deleting": false
          }
        },
        "gather": {
          "logged": 1604356206501
        }
      }
    },
    {
      "cell_type": "code",
      "source": [
        "#Laço de repetição FOR para iterar por uma lista\r\n",
        "a = [1,2,3,4]\r\n",
        "a.append(5)\r\n",
        "for x in a:\r\n",
        "    print(x)"
      ],
      "outputs": [
        {
          "output_type": "stream",
          "name": "stdout",
          "text": [
            "1\n",
            "2\n",
            "3\n",
            "4\n",
            "5\n"
          ]
        }
      ],
      "execution_count": 3,
      "metadata": {
        "collapsed": true,
        "jupyter": {
          "source_hidden": false,
          "outputs_hidden": false
        },
        "nteract": {
          "transient": {
            "deleting": false
          }
        },
        "gather": {
          "logged": 1604343960557
        }
      }
    },
    {
      "cell_type": "markdown",
      "source": [
        "## Tipos Escalares\r\n",
        "| Tipo |&nbsp;&nbsp;&nbsp;&nbsp;|  Descrição |\r\n",
        "|-|-|-| \r\n",
        "|None | |O valor null de Python (há somente uma instância do objeto None)|\r\n",
        "|str  | |Tipo string; armazena strings Unicode (codificadas em UTF-8)|\r\n",
        "|bytes| |Bytes ASCII puros (ou Unicode codificado com bytes)|\r\n",
        "|float| |Número de ponto flutuante com dupla precisão (64bits; observe que não há um tipo double separado)|\r\n",
        "|bool | |Um valor True ou False|\r\n",
        "|int  | |Inteiro com sinal|  \r\n"
      ],
      "metadata": {
        "nteract": {
          "transient": {
            "deleting": false
          }
        }
      }
    },
    {
      "cell_type": "code",
      "source": [
        "#Strings\r\n",
        "a = 'String com uma única linha'\r\n",
        "b = \"outra string de uma única linha\"\r\n",
        "c = \"\"\"\r\n",
        "    String de múltiplas linhas\r\n",
        "\"\"\"\r\n",
        "print(a,b,c)\r\n",
        "print(a.count('a'))\r\n",
        "print(a[1])\r\n",
        "a = a.replace('String', 'String longa')\r\n",
        "print(a)\r\n",
        "print(list(a))\r\n",
        "#fatiamento de uma string\r\n",
        "print(a[:4])\r\n",
        "print(a[4:])\r\n",
        "print(a[4:8])\r\n",
        "#o caracter r na frente da string indica que as barras devem ser consideradas como caracteres\r\n",
        "s = r'this\\\\has\\\\no\\\\special\\\\characters'\r\n",
        "print(s) \r\n",
        "#formatação de uma string\r\n",
        "template = '{0:.2f} {1:s} are worth US${2:d}'\r\n",
        "print(template.format(4.5560, 'Argentine Pesos', 1))"
      ],
      "outputs": [
        {
          "output_type": "stream",
          "name": "stdout",
          "text": [
            "String com uma única linha outra string de uma única linha \n",
            "    String de múltiplas linhas\n",
            "\n",
            "3\n",
            "t\n",
            "String longa com uma única linha\n",
            "['S', 't', 'r', 'i', 'n', 'g', ' ', 'l', 'o', 'n', 'g', 'a', ' ', 'c', 'o', 'm', ' ', 'u', 'm', 'a', ' ', 'ú', 'n', 'i', 'c', 'a', ' ', 'l', 'i', 'n', 'h', 'a']\n",
            "Stri\n",
            "ng longa com uma única linha\n",
            "ng l\n",
            "this\\\\has\\\\no\\\\special\\\\characters\n",
            "4.56 Argentine Pesos are worth US$1\n"
          ]
        }
      ],
      "execution_count": 16,
      "metadata": {
        "collapsed": true,
        "jupyter": {
          "source_hidden": false,
          "outputs_hidden": false
        },
        "nteract": {
          "transient": {
            "deleting": false
          }
        },
        "gather": {
          "logged": 1604355460064
        }
      }
    },
    {
      "cell_type": "code",
      "source": [
        "#Datas de horas\r\n",
        "from datetime import datetime, date, time\r\n",
        "dt = datetime(2020,11,2,19,22,0)\r\n",
        "print(dt)\r\n",
        "print(dt.day, dt.month, dt.year)\r\n",
        "#formatação de um datetime\r\n",
        "print(dt.strftime('%m/%d/%Y %H:%M'))\r\n",
        "#operação de adição de dois dias a data\r\n",
        "from datetime import timedelta\r\n",
        "print(dt + timedelta(days=2))"
      ],
      "outputs": [
        {
          "output_type": "stream",
          "name": "stdout",
          "text": [
            "2020-11-02 19:22:00\n",
            "2 11 2020\n",
            "11/02/2020 19:22\n",
            "2020-11-04 19:22:00\n"
          ]
        }
      ],
      "execution_count": 23,
      "metadata": {
        "collapsed": true,
        "jupyter": {
          "source_hidden": false,
          "outputs_hidden": false
        },
        "nteract": {
          "transient": {
            "deleting": false
          }
        },
        "gather": {
          "logged": 1604356007293
        }
      }
    },
    {
      "cell_type": "code",
      "source": [
        "#Estruturas de decisão\r\n",
        "x = 10\r\n",
        "if x < 0:\r\n",
        "    print(\"NEGATIVO\")\r\n",
        "else:\r\n",
        "    print(\"POSITIVO\")"
      ],
      "outputs": [],
      "execution_count": null,
      "metadata": {
        "collapsed": true,
        "jupyter": {
          "source_hidden": false,
          "outputs_hidden": false
        },
        "nteract": {
          "transient": {
            "deleting": false
          }
        }
      }
    },
    {
      "cell_type": "code",
      "source": [
        "#Range - Iterador\r\n",
        "i = range(10)\r\n",
        "print(i)\r\n",
        "print(list(i))"
      ],
      "outputs": [
        {
          "output_type": "stream",
          "name": "stdout",
          "text": [
            "range(0, 10)\n",
            "[0, 1, 2, 3, 4, 5, 6, 7, 8, 9]\n"
          ]
        }
      ],
      "execution_count": 26,
      "metadata": {
        "collapsed": true,
        "jupyter": {
          "source_hidden": false,
          "outputs_hidden": false
        },
        "nteract": {
          "transient": {
            "deleting": false
          }
        },
        "gather": {
          "logged": 1604356302838
        }
      }
    },
    {
      "cell_type": "markdown",
      "source": [
        "# Tuplas\r\n",
        ">Tupla é uma sequência imutável, de tamanho fixo, de objetos Python. A forma mais fácil de criar uma tupla é com uma sequência de valores separados por vírgulas."
      ],
      "metadata": {
        "nteract": {
          "transient": {
            "deleting": false
          }
        }
      }
    },
    {
      "cell_type": "code",
      "source": [
        "#declaração de uma tupla\r\n",
        "tup = 4,5,6\r\n",
        "print(tup)\r\n",
        "print(tup[0])\r\n",
        "#tup[0] = 10 - não é permitido\r\n",
        "a, b, c = tup\r\n",
        "print(a,b,c)\r\n"
      ],
      "outputs": [
        {
          "output_type": "stream",
          "name": "stdout",
          "text": [
            "(4, 5, 6)\n",
            "4\n",
            "4 5 6\n"
          ]
        }
      ],
      "execution_count": 31,
      "metadata": {
        "collapsed": true,
        "jupyter": {
          "source_hidden": false,
          "outputs_hidden": false
        },
        "nteract": {
          "transient": {
            "deleting": false
          }
        },
        "gather": {
          "logged": 1604356756931
        }
      }
    },
    {
      "cell_type": "code",
      "source": [
        "#algoritmo de troca de valores\r\n",
        "a, b = 1, 2\r\n",
        "a, b = b, a\r\n",
        "print(a, b)"
      ],
      "outputs": [
        {
          "output_type": "stream",
          "name": "stdout",
          "text": [
            "2 1\n"
          ]
        }
      ],
      "execution_count": 32,
      "metadata": {
        "collapsed": true,
        "jupyter": {
          "source_hidden": false,
          "outputs_hidden": false
        },
        "nteract": {
          "transient": {
            "deleting": false
          }
        },
        "gather": {
          "logged": 1604356872353
        }
      }
    },
    {
      "cell_type": "code",
      "source": [
        "#desmembrar uma lista de tuplas\r\n",
        "seq = [(1,2,3), (4,5,6), (7,8,9)]\r\n",
        "for a, b, c in seq:\r\n",
        "    print('a={0}, b={1}, c={2}'.format(a,b,c))\r\n"
      ],
      "outputs": [
        {
          "output_type": "stream",
          "name": "stdout",
          "text": [
            "a=1, b=2, c=3\n",
            "a=4, b=5, c=6\n",
            "a=7, b=8, c=9\n"
          ]
        }
      ],
      "execution_count": 34,
      "metadata": {
        "collapsed": true,
        "jupyter": {
          "source_hidden": false,
          "outputs_hidden": false
        },
        "nteract": {
          "transient": {
            "deleting": false
          }
        },
        "gather": {
          "logged": 1604356929155
        }
      }
    },
    {
      "cell_type": "code",
      "source": [
        "#desmembrar uma tupla em variáveis e a sobra em lista\r\n",
        "valores = 1,2,3,4,5\r\n",
        "a,b, *sobra = valores\r\n",
        "print(a,b)\r\n",
        "print(sobra)"
      ],
      "outputs": [
        {
          "output_type": "stream",
          "name": "stdout",
          "text": [
            "1 2\n",
            "[3, 4, 5]\n"
          ]
        }
      ],
      "execution_count": 37,
      "metadata": {
        "collapsed": true,
        "jupyter": {
          "source_hidden": false,
          "outputs_hidden": false
        },
        "nteract": {
          "transient": {
            "deleting": false
          }
        },
        "gather": {
          "logged": 1604357004009
        }
      }
    },
    {
      "cell_type": "markdown",
      "source": [
        "# Listas\r\n",
        ">Em oposição às tuplas, as listas têm tamanhos variáveis e seu conteúdo pode ser modificado in-place. Podemos defini-las usando colchetes[] ou com uma função do tipo list."
      ],
      "metadata": {
        "nteract": {
          "transient": {
            "deleting": false
          }
        }
      }
    },
    {
      "cell_type": "code",
      "source": [
        "#criar uma lista vazia\r\n",
        "lista = []\r\n",
        "print(lista)\r\n",
        "#criar uma lista vazia\r\n",
        "lista = list()\r\n",
        "print(lista)\r\n",
        "#criar uma lista com 10 posições com valor zero\r\n",
        "lista = [0] * 10\r\n",
        "print(lista)\r\n",
        "#inserir um novo elemento no fim da lista\r\n",
        "lista.append(10)\r\n",
        "print(lista)\r\n",
        "#inserir um novo elemento na lista na posição desejada\r\n",
        "lista.insert(0,-10)\r\n",
        "print(lista)\r\n",
        "#atribuir valor a uma posição específica da lista\r\n",
        "lista[1] = -20\r\n",
        "print(lista)\r\n",
        "#remove o elemento da lista na posição informada\r\n",
        "print('Pop:', lista.pop(1))\r\n",
        "print(lista)\r\n",
        "#remove o último elemento da lista\r\n",
        "print('Pop:', lista.pop())\r\n",
        "print(lista)\r\n",
        "#remover um elemento pela posição\r\n",
        "lista.remove(0)\r\n",
        "print(lista)\r\n",
        "#in = contains\r\n",
        "print(-10 in lista)\r\n",
        "print(-10 not in lista)\r\n",
        "#Ordenando lista\r\n",
        "lista = [8,5,7,3,6,2,4,1]\r\n",
        "print(lista)\r\n",
        "lista.sort()\r\n",
        "print(lista)\r\n",
        "#fatiamento de lista\r\n",
        "print(lista[3:5])\r\n",
        "lista[3:5] = [-10,-20]\r\n",
        "print(lista)\r\n",
        "#fatiamento utilizando step - elementos alternados\r\n",
        "print(lista[::2])\r\n"
      ],
      "outputs": [
        {
          "output_type": "stream",
          "name": "stdout",
          "text": [
            "[]\n",
            "[]\n",
            "[0, 0, 0, 0, 0, 0, 0, 0, 0, 0]\n",
            "[0, 0, 0, 0, 0, 0, 0, 0, 0, 0, 10]\n",
            "[-10, 0, 0, 0, 0, 0, 0, 0, 0, 0, 0, 10]\n",
            "[-10, -20, 0, 0, 0, 0, 0, 0, 0, 0, 0, 10]\n",
            "Pop: -20\n",
            "[-10, 0, 0, 0, 0, 0, 0, 0, 0, 0, 10]\n",
            "Pop: 10\n",
            "[-10, 0, 0, 0, 0, 0, 0, 0, 0, 0]\n",
            "[-10, 0, 0, 0, 0, 0, 0, 0, 0]\n",
            "True\n",
            "False\n",
            "[8, 5, 7, 3, 6, 2, 4, 1]\n",
            "[1, 2, 3, 4, 5, 6, 7, 8]\n",
            "[4, 5]\n",
            "[1, 2, 3, -10, -20, 6, 7, 8]\n",
            "[1, 3, -20, 7]\n"
          ]
        }
      ],
      "execution_count": 60,
      "metadata": {
        "collapsed": true,
        "jupyter": {
          "source_hidden": false,
          "outputs_hidden": false
        },
        "nteract": {
          "transient": {
            "deleting": false
          }
        },
        "gather": {
          "logged": 1604359150506
        }
      }
    },
    {
      "cell_type": "markdown",
      "source": [
        "# Funções embutidas para sequências"
      ],
      "metadata": {
        "nteract": {
          "transient": {
            "deleting": false
          }
        }
      }
    },
    {
      "cell_type": "code",
      "source": [
        "#enumerate - enumura uma lista\r\n",
        "nomes = ['Huguinho','Zezinho','Luizinho']\r\n",
        "for i, value in enumerate(nomes):\r\n",
        "    print(i, \" \", value)"
      ],
      "outputs": [
        {
          "output_type": "stream",
          "name": "stdout",
          "text": [
            "0   Huguinho\n",
            "1   Zezinho\n",
            "2   Luizinho\n"
          ]
        }
      ],
      "execution_count": 62,
      "metadata": {
        "collapsed": true,
        "jupyter": {
          "source_hidden": false,
          "outputs_hidden": false
        },
        "nteract": {
          "transient": {
            "deleting": false
          }
        },
        "gather": {
          "logged": 1604359460086
        }
      }
    },
    {
      "cell_type": "code",
      "source": [
        "#sorted - retorna uma nova lista ordenada\r\n",
        "lista = [8,5,7,3,6,2,4,1]\r\n",
        "novalista = sorted(lista)\r\n",
        "print(novalista)"
      ],
      "outputs": [
        {
          "output_type": "stream",
          "name": "stdout",
          "text": [
            "[1, 2, 3, 4, 5, 6, 7, 8]\n"
          ]
        }
      ],
      "execution_count": 63,
      "metadata": {
        "collapsed": true,
        "jupyter": {
          "source_hidden": false,
          "outputs_hidden": false
        },
        "nteract": {
          "transient": {
            "deleting": false
          }
        },
        "gather": {
          "logged": 1604359571354
        }
      }
    },
    {
      "cell_type": "code",
      "source": [
        "#zip - pareia os elementos de uma série de listas, tuplas ou outras sequências\r\n",
        "seq1 = ['foo','bar','baz']\r\n",
        "seq2 = ['one','two','three']\r\n",
        "zipped = zip(seq1,seq2)\r\n",
        "print(list(zipped))"
      ],
      "outputs": [
        {
          "output_type": "stream",
          "name": "stdout",
          "text": [
            "[('foo', 'one'), ('bar', 'two'), ('baz', 'three')]\n"
          ]
        }
      ],
      "execution_count": 65,
      "metadata": {
        "collapsed": true,
        "jupyter": {
          "source_hidden": false,
          "outputs_hidden": false
        },
        "nteract": {
          "transient": {
            "deleting": false
          }
        },
        "gather": {
          "logged": 1604359687805
        }
      }
    },
    {
      "cell_type": "code",
      "source": [
        "#reversed - itera pelos elementos de uma sequência pela ordem inversa\r\n",
        "print(list(reversed(range(10))))"
      ],
      "outputs": [
        {
          "output_type": "stream",
          "name": "stdout",
          "text": [
            "[9, 8, 7, 6, 5, 4, 3, 2, 1, 0]\n"
          ]
        }
      ],
      "execution_count": 66,
      "metadata": {
        "collapsed": true,
        "jupyter": {
          "source_hidden": false,
          "outputs_hidden": false
        },
        "nteract": {
          "transient": {
            "deleting": false
          }
        },
        "gather": {
          "logged": 1604359757813
        }
      }
    },
    {
      "cell_type": "markdown",
      "source": [
        "# Dicionários - dict\r\n",
        "> dict provavelmente é a estrutura de dados embutida mais importante de Python. Um nome mais comum para ela é hash map ou array associativo. Consiste em uma coleção de pares chave-valor de tamanho flexível, em que chave e valor são objetos Python. Uma abordagem para criar um dicionário é usar chaves {} e dois-pontos para separar as chaves e os valores"
      ],
      "metadata": {
        "nteract": {
          "transient": {
            "deleting": false
          }
        }
      }
    },
    {
      "cell_type": "code",
      "source": [
        "#criar um dicionário vazio\r\n",
        "dict_vazio = {}\r\n",
        "print(dict_vazio)\r\n",
        "#criar um dicionário com valor\r\n",
        "dict1 = {'chave1':'valor', 'chave2':'outro valor', 'chave3':[1,2,3,4]}\r\n",
        "print(dict1)\r\n",
        "#acessando um valor pela chave\r\n",
        "print(dict1['chave2'])\r\n",
        "#inserindo um novo par de chave e valor\r\n",
        "dict1[2] = 123\r\n",
        "print(dict1)\r\n",
        "del dict1[2]\r\n",
        "#excluindo um par de chave e valor\r\n",
        "print(dict1)\r\n",
        "#removendo o elemento do topo no formato de uma pilha\r\n",
        "dict1.popitem()\r\n",
        "#extrair as chaves de um dicionário\r\n",
        "print(list(dict1.keys()))\r\n",
        "#extrair os valores de um dicionário\r\n",
        "print(list(dict1.values()))"
      ],
      "outputs": [
        {
          "output_type": "stream",
          "name": "stdout",
          "text": [
            "{}\n",
            "{'chave1': 'valor', 'chave2': 'outro valor', 'chave3': [1, 2, 3, 4]}\n",
            "outro valor\n",
            "{'chave1': 'valor', 'chave2': 'outro valor', 'chave3': [1, 2, 3, 4], 2: 123}\n",
            "{'chave1': 'valor', 'chave2': 'outro valor', 'chave3': [1, 2, 3, 4]}\n",
            "['chave1', 'chave2']\n",
            "['valor', 'outro valor']\n"
          ]
        }
      ],
      "execution_count": 17,
      "metadata": {
        "collapsed": true,
        "jupyter": {
          "source_hidden": false,
          "outputs_hidden": false
        },
        "nteract": {
          "transient": {
            "deleting": false
          }
        },
        "gather": {
          "logged": 1604490160980
        }
      }
    },
    {
      "cell_type": "code",
      "source": [
        "#criando dicionários a partir de listas\r\n",
        "list_keys = [1,2,3]\r\n",
        "list_values = ['a','b','c']\r\n",
        "mapping_dict = {}\r\n",
        "for key, value in zip(list_keys, list_values):\r\n",
        "    mapping_dict[key] = value\r\n",
        "print(mapping_dict)"
      ],
      "outputs": [
        {
          "output_type": "stream",
          "name": "stdout",
          "text": [
            "{1: 'a', 2: 'b', 3: 'c'}\n"
          ]
        }
      ],
      "execution_count": 33,
      "metadata": {
        "collapsed": true,
        "jupyter": {
          "source_hidden": false,
          "outputs_hidden": false
        },
        "nteract": {
          "transient": {
            "deleting": false
          }
        },
        "gather": {
          "logged": 1604491225542
        }
      }
    },
    {
      "cell_type": "markdown",
      "source": [
        "# Set\r\n",
        ">Um conjunto (set) é uma coleção não ordenada de elementos únicos. Podemos pensar neles como dicionários, mas somente com as chaves, sem os valores. Um conjunto pode ser criado de duas maneiras: com a função set ou por meio de um conjunto literal, com chaves."
      ],
      "metadata": {
        "nteract": {
          "transient": {
            "deleting": false
          }
        }
      }
    },
    {
      "cell_type": "code",
      "source": [
        "#Criação de um set\r\n",
        "set1 = set([2,2,2,1,3,3])\r\n",
        "print(set1)\r\n",
        "#operação de conjuntos\r\n",
        "a = {1,2,3,4,5}\r\n",
        "b = {3,4,5,6,7,8}\r\n",
        "print(\"union \", a.union(b))\r\n",
        "print(\"intersection \", a.intersection(b))\r\n",
        "print(\"difference \", a.difference(b))\r\n",
        "#adicionar um elemento ao conjunto\r\n",
        "set1.add(10)\r\n",
        "print(set1)\r\n",
        "#remover um elemento pelo valor\r\n",
        "set1.remove(10)\r\n",
        "print(set1)\r\n",
        "#reiniciar um set deixando em um estado vazio\r\n",
        "set1.clear()\r\n",
        "print(set1)\r\n"
      ],
      "outputs": [
        {
          "output_type": "stream",
          "name": "stdout",
          "text": [
            "{1, 2, 3}\n",
            "union  {1, 2, 3, 4, 5, 6, 7, 8}\n",
            "intersection  {3, 4, 5}\n",
            "difference  {1, 2}\n",
            "{10, 1, 2, 3}\n",
            "{1, 2, 3}\n",
            "set()\n"
          ]
        }
      ],
      "execution_count": 47,
      "metadata": {
        "collapsed": true,
        "jupyter": {
          "source_hidden": false,
          "outputs_hidden": false
        },
        "nteract": {
          "transient": {
            "deleting": false
          }
        },
        "gather": {
          "logged": 1604492027594
        }
      }
    },
    {
      "cell_type": "markdown",
      "source": [
        "# List, set e dict comprehensions\r\n",
        "> List comprehensions (abrangências de lista) são umd so recursos mais amados da linguagem Python. Elas permitem que voce componha uma nova lista de modo conciso, filtrando os elementos de uma coleção, transformando os elementos ao passar o filtro, com uma expressão concisa. As list comprehensions assumem o seguinte formato básico:\r\n",
        "\r\n",
        "\\[expr for val in collection if condition\\]"
      ],
      "metadata": {
        "nteract": {
          "transient": {
            "deleting": false
          }
        }
      }
    },
    {
      "cell_type": "code",
      "source": [
        "#filtrando listas\r\n",
        "list_strings = ['a', 'as', 'bat', 'car', 'dove', 'python']\r\n",
        "print([x for x in list_strings if len(x) > 3])\r\n",
        "\r\n",
        "#filtrando dicionários\r\n",
        "dict_fruits = {'orange':2, 'apple':3, \"grapes\": 7}\r\n",
        "print({key : value for key, value in dict_fruits.items() if value >= 3})\r\n",
        "\r\n",
        "#filtrando sets\r\n",
        "set_numbers = set({1,2,3,4,5,6,7})\r\n",
        "print({value for value in set_numbers if value >= 5})\r\n"
      ],
      "outputs": [
        {
          "output_type": "stream",
          "name": "stdout",
          "text": [
            "['dove', 'python']\n",
            "{'apple': 3, 'grapes': 7}\n",
            "{5, 6, 7}\n"
          ]
        }
      ],
      "execution_count": 66,
      "metadata": {
        "collapsed": true,
        "jupyter": {
          "source_hidden": false,
          "outputs_hidden": false
        },
        "nteract": {
          "transient": {
            "deleting": false
          }
        },
        "gather": {
          "logged": 1604493935294
        }
      }
    },
    {
      "cell_type": "markdown",
      "source": [
        "# Funções\r\n",
        "> As funções são o principal e mais importante método de organização de código e reutilização em Python. Como regra geral, se você prevê que precisará repetir o mesmo código ou um código muito semelhante mais de uma vez, talvez valha a pena escrever uma função reutilizável."
      ],
      "metadata": {
        "nteract": {
          "transient": {
            "deleting": false
          }
        }
      }
    },
    {
      "cell_type": "code",
      "source": [
        "def myfunc(x,y,z=1.5):\r\n",
        "    if z > 1:\r\n",
        "        return z * (x + y)\r\n",
        "    else:\r\n",
        "        return z / (x + y)\r\n",
        "print(myfunc(1,2,3))\r\n",
        "print(myfunc(1,2))\r\n",
        "#parâmetros nomeados\r\n",
        "print(myfunc(z=10,x=5,y=2))"
      ],
      "outputs": [
        {
          "output_type": "stream",
          "name": "stdout",
          "text": [
            "9\n",
            "4.5\n",
            "70\n"
          ]
        }
      ],
      "execution_count": 72,
      "metadata": {
        "collapsed": true,
        "jupyter": {
          "source_hidden": false,
          "outputs_hidden": false
        },
        "nteract": {
          "transient": {
            "deleting": false
          }
        },
        "gather": {
          "logged": 1604504631083
        }
      }
    },
    {
      "cell_type": "code",
      "source": [
        "#retornando multiplos valores de uma função\r\n",
        "def func():\r\n",
        "    a = 5\r\n",
        "    b = 7\r\n",
        "    c = 9\r\n",
        "    return a, b, c\r\n",
        "\r\n",
        "print(func())\r\n",
        "a, b, c = func()\r\n"
      ],
      "outputs": [
        {
          "output_type": "stream",
          "name": "stdout",
          "text": [
            "(5, 7, 9)\n"
          ]
        }
      ],
      "execution_count": 76,
      "metadata": {
        "collapsed": true,
        "jupyter": {
          "source_hidden": false,
          "outputs_hidden": false
        },
        "nteract": {
          "transient": {
            "deleting": false
          }
        },
        "gather": {
          "logged": 1604504944876
        }
      }
    },
    {
      "cell_type": "code",
      "source": [
        "#funções são objetos e passagem de funções por parâmetro\r\n",
        "def conta_letras(texto):\r\n",
        "    return  \"{0}-{1}\".format(len(texto),texto) \r\n",
        "\r\n",
        "estados = ['Santa Catarina', 'Paraná', \"Rio Grande do Sul\"]\r\n",
        "for i in map(conta_letras, estados):\r\n",
        "    print(i)"
      ],
      "outputs": [
        {
          "output_type": "stream",
          "name": "stdout",
          "text": [
            "14-Santa Catarina\n",
            "6-Paraná\n",
            "17-Rio Grande do Sul\n"
          ]
        }
      ],
      "execution_count": 80,
      "metadata": {
        "collapsed": true,
        "jupyter": {
          "source_hidden": false,
          "outputs_hidden": false
        },
        "nteract": {
          "transient": {
            "deleting": false
          }
        },
        "gather": {
          "logged": 1604505222252
        }
      }
    },
    {
      "cell_type": "code",
      "source": [
        "#funções anônimas(lambdas)\r\n",
        "multi = lambda x : x * 2\r\n",
        "print(multi(10))\r\n",
        "\r\n",
        "numeros = [1,2,3,4,5]\r\n",
        "for i in map(multi,numeros):\r\n",
        "    print(i)\r\n"
      ],
      "outputs": [
        {
          "output_type": "stream",
          "name": "stdout",
          "text": [
            "20\n",
            "2\n",
            "4\n",
            "6\n",
            "8\n",
            "10\n"
          ]
        }
      ],
      "execution_count": 83,
      "metadata": {
        "collapsed": true,
        "jupyter": {
          "source_hidden": false,
          "outputs_hidden": false
        },
        "nteract": {
          "transient": {
            "deleting": false
          }
        },
        "gather": {
          "logged": 1604505348997
        }
      }
    },
    {
      "cell_type": "code",
      "source": [
        "#tratamento de erros\r\n",
        "def func_to_float(x):\r\n",
        "    try:\r\n",
        "        return float(x)\r\n",
        "    except:\r\n",
        "        return x\r\n",
        "print(func_to_float(123))\r\n",
        "print(func_to_float('abc'))"
      ],
      "outputs": [
        {
          "output_type": "stream",
          "name": "stdout",
          "text": [
            "123.0\n",
            "abc\n"
          ]
        }
      ],
      "execution_count": 89,
      "metadata": {
        "collapsed": true,
        "jupyter": {
          "source_hidden": false,
          "outputs_hidden": false
        },
        "nteract": {
          "transient": {
            "deleting": false
          }
        },
        "gather": {
          "logged": 1604506300761
        }
      }
    },
    {
      "cell_type": "markdown",
      "source": [
        "# Leitura e gravação de arquivos de texto"
      ],
      "metadata": {
        "nteract": {
          "transient": {
            "deleting": false
          }
        }
      }
    },
    {
      "cell_type": "code",
      "source": [
        "f = open('tmp.txt', 'w')\r\n",
        "f.write(\"não acredito\")\r\n",
        "f.close()"
      ],
      "outputs": [],
      "execution_count": 90,
      "metadata": {
        "collapsed": true,
        "jupyter": {
          "source_hidden": false,
          "outputs_hidden": false
        },
        "nteract": {
          "transient": {
            "deleting": false
          }
        },
        "gather": {
          "logged": 1604506581480
        }
      }
    },
    {
      "cell_type": "code",
      "source": [
        "with open('tmp.txt','w') as f:\r\n",
        "    f.write(\"Não acredito mesmo\")\r\n",
        "    f.write(\"Não acredito mesmo\")\r\n",
        "    f.write(\"Não acredito mesmo\")"
      ],
      "outputs": [],
      "execution_count": 101,
      "metadata": {
        "collapsed": true,
        "jupyter": {
          "source_hidden": false,
          "outputs_hidden": false
        },
        "nteract": {
          "transient": {
            "deleting": false
          }
        },
        "gather": {
          "logged": 1604506797335
        }
      }
    },
    {
      "cell_type": "code",
      "source": [
        "with open('tmp.txt') as f:\r\n",
        "    for linha in f:\r\n",
        "        print(linha)"
      ],
      "outputs": [
        {
          "output_type": "stream",
          "name": "stdout",
          "text": [
            "Não acredito mesmoNão acredito mesmoNão acredito mesmo\n"
          ]
        }
      ],
      "execution_count": 102,
      "metadata": {
        "collapsed": true,
        "jupyter": {
          "source_hidden": false,
          "outputs_hidden": false
        },
        "nteract": {
          "transient": {
            "deleting": false
          }
        },
        "gather": {
          "logged": 1604506798376
        }
      }
    }
  ],
  "metadata": {
    "kernelspec": {
      "name": "python3-azureml",
      "language": "python",
      "display_name": "Python 3.6 - AzureML"
    },
    "language_info": {
      "name": "python",
      "version": "3.6.9",
      "mimetype": "text/x-python",
      "codemirror_mode": {
        "name": "ipython",
        "version": 3
      },
      "pygments_lexer": "ipython3",
      "nbconvert_exporter": "python",
      "file_extension": ".py"
    },
    "kernel_info": {
      "name": "python3-azureml"
    },
    "nteract": {
      "version": "nteract-front-end@1.0.0"
    }
  },
  "nbformat": 4,
  "nbformat_minor": 2
}