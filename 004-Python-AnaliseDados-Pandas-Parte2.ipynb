{
  "cells": [
    {
      "cell_type": "markdown",
      "source": [
        "# Introdução ao Pandas"
      ],
      "metadata": {
        "nteract": {
          "transient": {
            "deleting": false
          }
        }
      }
    },
    {
      "cell_type": "code",
      "source": [
        "import pandas as pd\r\n",
        "import numpy as np"
      ],
      "outputs": [],
      "execution_count": 3,
      "metadata": {
        "collapsed": true,
        "jupyter": {
          "source_hidden": false,
          "outputs_hidden": false
        },
        "nteract": {
          "transient": {
            "deleting": false
          }
        },
        "gather": {
          "logged": 1604683462680
        }
      }
    },
    {
      "cell_type": "markdown",
      "source": [
        "## Operações entre DataFrame e Series\r\n",
        "> Como ocorre com os arrays NumPy de dimensões diferentes, a aritmética entre DataFrame e Series também está definida. Inicialmente, como um exemplo motivador, considere a diferença entre um array bidimensional e uma de suas linhas"
      ],
      "metadata": {
        "nteract": {
          "transient": {
            "deleting": false
          }
        }
      }
    },
    {
      "cell_type": "code",
      "source": [
        "arr = np.arange(12.).reshape((3,4))\r\n",
        "arr"
      ],
      "outputs": [
        {
          "output_type": "execute_result",
          "execution_count": 4,
          "data": {
            "text/plain": "array([[ 0.,  1.,  2.,  3.],\n       [ 4.,  5.,  6.,  7.],\n       [ 8.,  9., 10., 11.]])"
          },
          "metadata": {}
        }
      ],
      "execution_count": 4,
      "metadata": {
        "collapsed": true,
        "jupyter": {
          "source_hidden": false,
          "outputs_hidden": false
        },
        "nteract": {
          "transient": {
            "deleting": false
          }
        },
        "gather": {
          "logged": 1604676412025
        }
      }
    },
    {
      "cell_type": "code",
      "source": [
        "arr[0]"
      ],
      "outputs": [
        {
          "output_type": "execute_result",
          "execution_count": 5,
          "data": {
            "text/plain": "array([0., 1., 2., 3.])"
          },
          "metadata": {}
        }
      ],
      "execution_count": 5,
      "metadata": {
        "collapsed": true,
        "jupyter": {
          "source_hidden": false,
          "outputs_hidden": false
        },
        "nteract": {
          "transient": {
            "deleting": false
          }
        },
        "gather": {
          "logged": 1604676425034
        }
      }
    },
    {
      "cell_type": "code",
      "source": [
        "arr - arr[0]\r\n",
        "#Quando subtraímos arr[0] de arr, a subtração é realizada uma vez para cada linha. Isso é chamado de broadcasting."
      ],
      "outputs": [
        {
          "output_type": "execute_result",
          "execution_count": 6,
          "data": {
            "text/plain": "array([[0., 0., 0., 0.],\n       [4., 4., 4., 4.],\n       [8., 8., 8., 8.]])"
          },
          "metadata": {}
        }
      ],
      "execution_count": 6,
      "metadata": {
        "collapsed": true,
        "jupyter": {
          "source_hidden": false,
          "outputs_hidden": false
        },
        "nteract": {
          "transient": {
            "deleting": false
          }
        },
        "gather": {
          "logged": 1604676441996
        }
      }
    },
    {
      "cell_type": "code",
      "source": [
        "frame = pd.DataFrame(np.arange(12.).reshape((4, 3)), \r\n",
        "        columns=list('bde'), \r\n",
        "        index=['Utah', 'Ohio', 'Texas', 'Oregon'])\r\n",
        "series = frame.iloc[0]\r\n",
        "frame"
      ],
      "outputs": [
        {
          "output_type": "execute_result",
          "execution_count": 7,
          "data": {
            "text/plain": "          b     d     e\nUtah    0.0   1.0   2.0\nOhio    3.0   4.0   5.0\nTexas   6.0   7.0   8.0\nOregon  9.0  10.0  11.0",
            "text/html": "<div>\n<style scoped>\n    .dataframe tbody tr th:only-of-type {\n        vertical-align: middle;\n    }\n\n    .dataframe tbody tr th {\n        vertical-align: top;\n    }\n\n    .dataframe thead th {\n        text-align: right;\n    }\n</style>\n<table border=\"1\" class=\"dataframe\">\n  <thead>\n    <tr style=\"text-align: right;\">\n      <th></th>\n      <th>b</th>\n      <th>d</th>\n      <th>e</th>\n    </tr>\n  </thead>\n  <tbody>\n    <tr>\n      <th>Utah</th>\n      <td>0.0</td>\n      <td>1.0</td>\n      <td>2.0</td>\n    </tr>\n    <tr>\n      <th>Ohio</th>\n      <td>3.0</td>\n      <td>4.0</td>\n      <td>5.0</td>\n    </tr>\n    <tr>\n      <th>Texas</th>\n      <td>6.0</td>\n      <td>7.0</td>\n      <td>8.0</td>\n    </tr>\n    <tr>\n      <th>Oregon</th>\n      <td>9.0</td>\n      <td>10.0</td>\n      <td>11.0</td>\n    </tr>\n  </tbody>\n</table>\n</div>"
          },
          "metadata": {}
        }
      ],
      "execution_count": 7,
      "metadata": {
        "collapsed": true,
        "jupyter": {
          "source_hidden": false,
          "outputs_hidden": false
        },
        "nteract": {
          "transient": {
            "deleting": false
          }
        },
        "gather": {
          "logged": 1604676453742
        }
      }
    },
    {
      "cell_type": "code",
      "source": [
        "series"
      ],
      "outputs": [
        {
          "output_type": "execute_result",
          "execution_count": 8,
          "data": {
            "text/plain": "b    0.0\nd    1.0\ne    2.0\nName: Utah, dtype: float64"
          },
          "metadata": {}
        }
      ],
      "execution_count": 8,
      "metadata": {
        "collapsed": true,
        "jupyter": {
          "source_hidden": false,
          "outputs_hidden": false
        },
        "nteract": {
          "transient": {
            "deleting": false
          }
        },
        "gather": {
          "logged": 1604676467127
        }
      }
    },
    {
      "cell_type": "code",
      "source": [
        "frame - series\r\n",
        "#Por padrão, a aritmética entre DataFrame e Series realiza a correspondência entre o índice da Series e as colunas do DataFrame, fazendo broadcasting pelas linhas."
      ],
      "outputs": [
        {
          "output_type": "execute_result",
          "execution_count": 9,
          "data": {
            "text/plain": "          b    d    e\nUtah    0.0  0.0  0.0\nOhio    3.0  3.0  3.0\nTexas   6.0  6.0  6.0\nOregon  9.0  9.0  9.0",
            "text/html": "<div>\n<style scoped>\n    .dataframe tbody tr th:only-of-type {\n        vertical-align: middle;\n    }\n\n    .dataframe tbody tr th {\n        vertical-align: top;\n    }\n\n    .dataframe thead th {\n        text-align: right;\n    }\n</style>\n<table border=\"1\" class=\"dataframe\">\n  <thead>\n    <tr style=\"text-align: right;\">\n      <th></th>\n      <th>b</th>\n      <th>d</th>\n      <th>e</th>\n    </tr>\n  </thead>\n  <tbody>\n    <tr>\n      <th>Utah</th>\n      <td>0.0</td>\n      <td>0.0</td>\n      <td>0.0</td>\n    </tr>\n    <tr>\n      <th>Ohio</th>\n      <td>3.0</td>\n      <td>3.0</td>\n      <td>3.0</td>\n    </tr>\n    <tr>\n      <th>Texas</th>\n      <td>6.0</td>\n      <td>6.0</td>\n      <td>6.0</td>\n    </tr>\n    <tr>\n      <th>Oregon</th>\n      <td>9.0</td>\n      <td>9.0</td>\n      <td>9.0</td>\n    </tr>\n  </tbody>\n</table>\n</div>"
          },
          "metadata": {}
        }
      ],
      "execution_count": 9,
      "metadata": {
        "collapsed": true,
        "jupyter": {
          "source_hidden": false,
          "outputs_hidden": false
        },
        "nteract": {
          "transient": {
            "deleting": false
          }
        },
        "gather": {
          "logged": 1604676478173
        }
      }
    },
    {
      "cell_type": "code",
      "source": [
        "series2 = pd.Series(range(3), index=['b', 'e', 'f'])\r\n",
        "series2"
      ],
      "outputs": [
        {
          "output_type": "execute_result",
          "execution_count": 11,
          "data": {
            "text/plain": "b    0\ne    1\nf    2\ndtype: int64"
          },
          "metadata": {}
        }
      ],
      "execution_count": 11,
      "metadata": {
        "collapsed": true,
        "jupyter": {
          "source_hidden": false,
          "outputs_hidden": false
        },
        "nteract": {
          "transient": {
            "deleting": false
          }
        },
        "gather": {
          "logged": 1604676507847
        }
      }
    },
    {
      "cell_type": "code",
      "source": [
        "#Se o valor de um índice não for encontrado nas colunas do DataFrame nem no índice de Series, os objetos serão reindexados para formar a união\r\n",
        "series2 = pd.Series(range(3), index=['b', 'e', 'f'])\r\n",
        "print(series2)\r\n",
        "frame + series2"
      ],
      "outputs": [
        {
          "output_type": "stream",
          "name": "stdout",
          "text": [
            "b    0\n",
            "e    1\n",
            "f    2\n",
            "dtype: int64\n"
          ]
        },
        {
          "output_type": "execute_result",
          "execution_count": 12,
          "data": {
            "text/plain": "          b   d     e   f\nUtah    0.0 NaN   3.0 NaN\nOhio    3.0 NaN   6.0 NaN\nTexas   6.0 NaN   9.0 NaN\nOregon  9.0 NaN  12.0 NaN",
            "text/html": "<div>\n<style scoped>\n    .dataframe tbody tr th:only-of-type {\n        vertical-align: middle;\n    }\n\n    .dataframe tbody tr th {\n        vertical-align: top;\n    }\n\n    .dataframe thead th {\n        text-align: right;\n    }\n</style>\n<table border=\"1\" class=\"dataframe\">\n  <thead>\n    <tr style=\"text-align: right;\">\n      <th></th>\n      <th>b</th>\n      <th>d</th>\n      <th>e</th>\n      <th>f</th>\n    </tr>\n  </thead>\n  <tbody>\n    <tr>\n      <th>Utah</th>\n      <td>0.0</td>\n      <td>NaN</td>\n      <td>3.0</td>\n      <td>NaN</td>\n    </tr>\n    <tr>\n      <th>Ohio</th>\n      <td>3.0</td>\n      <td>NaN</td>\n      <td>6.0</td>\n      <td>NaN</td>\n    </tr>\n    <tr>\n      <th>Texas</th>\n      <td>6.0</td>\n      <td>NaN</td>\n      <td>9.0</td>\n      <td>NaN</td>\n    </tr>\n    <tr>\n      <th>Oregon</th>\n      <td>9.0</td>\n      <td>NaN</td>\n      <td>12.0</td>\n      <td>NaN</td>\n    </tr>\n  </tbody>\n</table>\n</div>"
          },
          "metadata": {}
        }
      ],
      "execution_count": 12,
      "metadata": {
        "collapsed": true,
        "jupyter": {
          "source_hidden": false,
          "outputs_hidden": false
        },
        "nteract": {
          "transient": {
            "deleting": false
          }
        },
        "gather": {
          "logged": 1604676510263
        }
      }
    },
    {
      "cell_type": "markdown",
      "source": [
        "## Aplicação de funções e mapeamento\r\n",
        ">As ufuncs do NumPy (métodos de array para todos os elementos) também funcionam com objetos do pandas"
      ],
      "metadata": {
        "nteract": {
          "transient": {
            "deleting": false
          }
        }
      }
    },
    {
      "cell_type": "code",
      "source": [
        "frame = pd.DataFrame(np.random.randn(4, 3), columns=list('bde'), \r\n",
        "        index=['Utah', 'Ohio', 'Texas', 'Oregon'])\r\n",
        "frame"
      ],
      "outputs": [
        {
          "output_type": "execute_result",
          "execution_count": 4,
          "data": {
            "text/plain": "               b         d         e\nUtah    0.394003 -1.281442  1.457318\nOhio   -1.677538  0.940696 -0.406905\nTexas  -0.170524 -1.215366  0.475337\nOregon -0.281181 -0.378774  1.341670",
            "text/html": "<div>\n<style scoped>\n    .dataframe tbody tr th:only-of-type {\n        vertical-align: middle;\n    }\n\n    .dataframe tbody tr th {\n        vertical-align: top;\n    }\n\n    .dataframe thead th {\n        text-align: right;\n    }\n</style>\n<table border=\"1\" class=\"dataframe\">\n  <thead>\n    <tr style=\"text-align: right;\">\n      <th></th>\n      <th>b</th>\n      <th>d</th>\n      <th>e</th>\n    </tr>\n  </thead>\n  <tbody>\n    <tr>\n      <th>Utah</th>\n      <td>0.394003</td>\n      <td>-1.281442</td>\n      <td>1.457318</td>\n    </tr>\n    <tr>\n      <th>Ohio</th>\n      <td>-1.677538</td>\n      <td>0.940696</td>\n      <td>-0.406905</td>\n    </tr>\n    <tr>\n      <th>Texas</th>\n      <td>-0.170524</td>\n      <td>-1.215366</td>\n      <td>0.475337</td>\n    </tr>\n    <tr>\n      <th>Oregon</th>\n      <td>-0.281181</td>\n      <td>-0.378774</td>\n      <td>1.341670</td>\n    </tr>\n  </tbody>\n</table>\n</div>"
          },
          "metadata": {}
        }
      ],
      "execution_count": 4,
      "metadata": {
        "collapsed": true,
        "jupyter": {
          "source_hidden": false,
          "outputs_hidden": false
        },
        "nteract": {
          "transient": {
            "deleting": false
          }
        },
        "gather": {
          "logged": 1604676782625
        }
      }
    },
    {
      "cell_type": "code",
      "source": [
        "np.abs(frame)"
      ],
      "outputs": [
        {
          "output_type": "execute_result",
          "execution_count": 5,
          "data": {
            "text/plain": "               b         d         e\nUtah    0.394003  1.281442  1.457318\nOhio    1.677538  0.940696  0.406905\nTexas   0.170524  1.215366  0.475337\nOregon  0.281181  0.378774  1.341670",
            "text/html": "<div>\n<style scoped>\n    .dataframe tbody tr th:only-of-type {\n        vertical-align: middle;\n    }\n\n    .dataframe tbody tr th {\n        vertical-align: top;\n    }\n\n    .dataframe thead th {\n        text-align: right;\n    }\n</style>\n<table border=\"1\" class=\"dataframe\">\n  <thead>\n    <tr style=\"text-align: right;\">\n      <th></th>\n      <th>b</th>\n      <th>d</th>\n      <th>e</th>\n    </tr>\n  </thead>\n  <tbody>\n    <tr>\n      <th>Utah</th>\n      <td>0.394003</td>\n      <td>1.281442</td>\n      <td>1.457318</td>\n    </tr>\n    <tr>\n      <th>Ohio</th>\n      <td>1.677538</td>\n      <td>0.940696</td>\n      <td>0.406905</td>\n    </tr>\n    <tr>\n      <th>Texas</th>\n      <td>0.170524</td>\n      <td>1.215366</td>\n      <td>0.475337</td>\n    </tr>\n    <tr>\n      <th>Oregon</th>\n      <td>0.281181</td>\n      <td>0.378774</td>\n      <td>1.341670</td>\n    </tr>\n  </tbody>\n</table>\n</div>"
          },
          "metadata": {}
        }
      ],
      "execution_count": 5,
      "metadata": {
        "collapsed": true,
        "jupyter": {
          "source_hidden": false,
          "outputs_hidden": false
        },
        "nteract": {
          "transient": {
            "deleting": false
          }
        },
        "gather": {
          "logged": 1604676802851
        }
      }
    },
    {
      "cell_type": "code",
      "source": [
        "frame = pd.DataFrame(np.random.randn(4, 3), columns=list('bde'), \r\n",
        "        index=['Utah', 'Ohio', 'Texas', 'Oregon'])\r\n",
        "frame"
      ],
      "outputs": [
        {
          "output_type": "execute_result",
          "execution_count": 6,
          "data": {
            "text/plain": "               b         d         e\nUtah    0.229331  1.014757 -0.207100\nOhio   -1.924999 -0.386323  0.957159\nTexas   0.560891  0.593574  1.286539\nOregon  0.011438  0.508486 -1.519469",
            "text/html": "<div>\n<style scoped>\n    .dataframe tbody tr th:only-of-type {\n        vertical-align: middle;\n    }\n\n    .dataframe tbody tr th {\n        vertical-align: top;\n    }\n\n    .dataframe thead th {\n        text-align: right;\n    }\n</style>\n<table border=\"1\" class=\"dataframe\">\n  <thead>\n    <tr style=\"text-align: right;\">\n      <th></th>\n      <th>b</th>\n      <th>d</th>\n      <th>e</th>\n    </tr>\n  </thead>\n  <tbody>\n    <tr>\n      <th>Utah</th>\n      <td>0.229331</td>\n      <td>1.014757</td>\n      <td>-0.207100</td>\n    </tr>\n    <tr>\n      <th>Ohio</th>\n      <td>-1.924999</td>\n      <td>-0.386323</td>\n      <td>0.957159</td>\n    </tr>\n    <tr>\n      <th>Texas</th>\n      <td>0.560891</td>\n      <td>0.593574</td>\n      <td>1.286539</td>\n    </tr>\n    <tr>\n      <th>Oregon</th>\n      <td>0.011438</td>\n      <td>0.508486</td>\n      <td>-1.519469</td>\n    </tr>\n  </tbody>\n</table>\n</div>"
          },
          "metadata": {}
        }
      ],
      "execution_count": 6,
      "metadata": {
        "collapsed": true,
        "jupyter": {
          "source_hidden": false,
          "outputs_hidden": false
        },
        "nteract": {
          "transient": {
            "deleting": false
          }
        },
        "gather": {
          "logged": 1604679222095
        }
      }
    },
    {
      "cell_type": "code",
      "source": [
        "#Outra operação frequente consiste em aplicar uma função em arrays unidimensionais para cada coluna ou linha.\r\n",
        "f = lambda x: x.max() - x.min()\r\n",
        "frame.apply(f)\r\n",
        "#Nesse caso, a função f, que calcula a diferença entre o máximo e o\r\n",
        "# mínimo de uma Series, é chamada uma vez em cada coluna de frame. \r\n",
        "# O resultado é uma Series com as colunas de frame como seu índice."
      ],
      "outputs": [
        {
          "output_type": "execute_result",
          "execution_count": 7,
          "data": {
            "text/plain": "b    2.485890\nd    1.401080\ne    2.806008\ndtype: float64"
          },
          "metadata": {}
        }
      ],
      "execution_count": 7,
      "metadata": {
        "collapsed": true,
        "jupyter": {
          "source_hidden": false,
          "outputs_hidden": false
        },
        "nteract": {
          "transient": {
            "deleting": false
          }
        },
        "gather": {
          "logged": 1604679294365
        }
      }
    },
    {
      "cell_type": "code",
      "source": [
        "frame.apply(f, axis='columns')"
      ],
      "outputs": [
        {
          "output_type": "execute_result",
          "execution_count": 9,
          "data": {
            "text/plain": "Utah      1.221857\nOhio      2.882159\nTexas     0.725648\nOregon    2.027955\ndtype: float64"
          },
          "metadata": {}
        }
      ],
      "execution_count": 9,
      "metadata": {
        "collapsed": true,
        "jupyter": {
          "source_hidden": false,
          "outputs_hidden": false
        },
        "nteract": {
          "transient": {
            "deleting": false
          }
        },
        "gather": {
          "logged": 1604679404898
        }
      }
    },
    {
      "cell_type": "markdown",
      "source": [
        ">Funções Python para todos os elementos também podem ser usadas. Suponha que você quisesse calcular uma string formatada para cada valor de ponto flutuante em frame. Isso poderia ser feito com applymap"
      ],
      "metadata": {
        "nteract": {
          "transient": {
            "deleting": false
          }
        }
      }
    },
    {
      "cell_type": "code",
      "source": [
        "format = lambda x: '%.2f' % x\r\n",
        "frame.applymap(format)"
      ],
      "outputs": [
        {
          "output_type": "execute_result",
          "execution_count": 10,
          "data": {
            "text/plain": "            b      d      e\nUtah     0.23   1.01  -0.21\nOhio    -1.92  -0.39   0.96\nTexas    0.56   0.59   1.29\nOregon   0.01   0.51  -1.52",
            "text/html": "<div>\n<style scoped>\n    .dataframe tbody tr th:only-of-type {\n        vertical-align: middle;\n    }\n\n    .dataframe tbody tr th {\n        vertical-align: top;\n    }\n\n    .dataframe thead th {\n        text-align: right;\n    }\n</style>\n<table border=\"1\" class=\"dataframe\">\n  <thead>\n    <tr style=\"text-align: right;\">\n      <th></th>\n      <th>b</th>\n      <th>d</th>\n      <th>e</th>\n    </tr>\n  </thead>\n  <tbody>\n    <tr>\n      <th>Utah</th>\n      <td>0.23</td>\n      <td>1.01</td>\n      <td>-0.21</td>\n    </tr>\n    <tr>\n      <th>Ohio</th>\n      <td>-1.92</td>\n      <td>-0.39</td>\n      <td>0.96</td>\n    </tr>\n    <tr>\n      <th>Texas</th>\n      <td>0.56</td>\n      <td>0.59</td>\n      <td>1.29</td>\n    </tr>\n    <tr>\n      <th>Oregon</th>\n      <td>0.01</td>\n      <td>0.51</td>\n      <td>-1.52</td>\n    </tr>\n  </tbody>\n</table>\n</div>"
          },
          "metadata": {}
        }
      ],
      "execution_count": 10,
      "metadata": {
        "collapsed": true,
        "jupyter": {
          "source_hidden": false,
          "outputs_hidden": false
        },
        "nteract": {
          "transient": {
            "deleting": false
          }
        },
        "gather": {
          "logged": 1604679561051
        }
      }
    },
    {
      "cell_type": "code",
      "source": [
        "#O motivo para o nome applymap está no fato de Series ter um método map para aplicar uma função em todos os elementos\r\n",
        "frame['e'].map(format)"
      ],
      "outputs": [
        {
          "output_type": "execute_result",
          "execution_count": 11,
          "data": {
            "text/plain": "Utah      -0.21\nOhio       0.96\nTexas      1.29\nOregon    -1.52\nName: e, dtype: object"
          },
          "metadata": {}
        }
      ],
      "execution_count": 11,
      "metadata": {
        "collapsed": true,
        "jupyter": {
          "source_hidden": false,
          "outputs_hidden": false
        },
        "nteract": {
          "transient": {
            "deleting": false
          }
        },
        "gather": {
          "logged": 1604679617002
        }
      }
    },
    {
      "cell_type": "markdown",
      "source": [
        "## Ordenação e Classificação\r\n",
        "> Ordenar um conjunto de dados de acordo com algum critério é outra operação embutida importante. Para ordenar de modo lexicográfico pelo índice da linha ou da coluna, utilize o método sort_index, que devolve um novo objeto ordenado"
      ],
      "metadata": {
        "nteract": {
          "transient": {
            "deleting": false
          }
        }
      }
    },
    {
      "cell_type": "code",
      "source": [
        "ser = pd.Series(range(4), index=['d','a','b','c'])\r\n",
        "ser.sort_index()"
      ],
      "outputs": [
        {
          "output_type": "execute_result",
          "execution_count": 12,
          "data": {
            "text/plain": "a    1\nb    2\nc    3\nd    0\ndtype: int64"
          },
          "metadata": {}
        }
      ],
      "execution_count": 12,
      "metadata": {
        "collapsed": true,
        "jupyter": {
          "source_hidden": false,
          "outputs_hidden": false
        },
        "nteract": {
          "transient": {
            "deleting": false
          }
        },
        "gather": {
          "logged": 1604679702391
        }
      }
    },
    {
      "cell_type": "code",
      "source": [
        "frame = pd.DataFrame(np.arange(8).reshape((2, 4)), \r\n",
        "        index=['three', 'one'], \r\n",
        "        columns=['d', 'a', 'b', 'c'])\r\n",
        "frame.sort_index()"
      ],
      "outputs": [
        {
          "output_type": "execute_result",
          "execution_count": 13,
          "data": {
            "text/plain": "       d  a  b  c\none    4  5  6  7\nthree  0  1  2  3",
            "text/html": "<div>\n<style scoped>\n    .dataframe tbody tr th:only-of-type {\n        vertical-align: middle;\n    }\n\n    .dataframe tbody tr th {\n        vertical-align: top;\n    }\n\n    .dataframe thead th {\n        text-align: right;\n    }\n</style>\n<table border=\"1\" class=\"dataframe\">\n  <thead>\n    <tr style=\"text-align: right;\">\n      <th></th>\n      <th>d</th>\n      <th>a</th>\n      <th>b</th>\n      <th>c</th>\n    </tr>\n  </thead>\n  <tbody>\n    <tr>\n      <th>one</th>\n      <td>4</td>\n      <td>5</td>\n      <td>6</td>\n      <td>7</td>\n    </tr>\n    <tr>\n      <th>three</th>\n      <td>0</td>\n      <td>1</td>\n      <td>2</td>\n      <td>3</td>\n    </tr>\n  </tbody>\n</table>\n</div>"
          },
          "metadata": {}
        }
      ],
      "execution_count": 13,
      "metadata": {
        "collapsed": true,
        "jupyter": {
          "source_hidden": false,
          "outputs_hidden": false
        },
        "nteract": {
          "transient": {
            "deleting": false
          }
        },
        "gather": {
          "logged": 1604679759254
        }
      }
    },
    {
      "cell_type": "code",
      "source": [
        "frame.sort_index(axis=1)"
      ],
      "outputs": [
        {
          "output_type": "execute_result",
          "execution_count": 15,
          "data": {
            "text/plain": "       a  b  c  d\nthree  1  2  3  0\none    5  6  7  4",
            "text/html": "<div>\n<style scoped>\n    .dataframe tbody tr th:only-of-type {\n        vertical-align: middle;\n    }\n\n    .dataframe tbody tr th {\n        vertical-align: top;\n    }\n\n    .dataframe thead th {\n        text-align: right;\n    }\n</style>\n<table border=\"1\" class=\"dataframe\">\n  <thead>\n    <tr style=\"text-align: right;\">\n      <th></th>\n      <th>a</th>\n      <th>b</th>\n      <th>c</th>\n      <th>d</th>\n    </tr>\n  </thead>\n  <tbody>\n    <tr>\n      <th>three</th>\n      <td>1</td>\n      <td>2</td>\n      <td>3</td>\n      <td>0</td>\n    </tr>\n    <tr>\n      <th>one</th>\n      <td>5</td>\n      <td>6</td>\n      <td>7</td>\n      <td>4</td>\n    </tr>\n  </tbody>\n</table>\n</div>"
          },
          "metadata": {}
        }
      ],
      "execution_count": 15,
      "metadata": {
        "collapsed": true,
        "jupyter": {
          "source_hidden": false,
          "outputs_hidden": false
        },
        "nteract": {
          "transient": {
            "deleting": false
          }
        },
        "gather": {
          "logged": 1604679779766
        }
      }
    },
    {
      "cell_type": "code",
      "source": [
        "frame.sort_index(axis=1, ascending=False)"
      ],
      "outputs": [
        {
          "output_type": "execute_result",
          "execution_count": 18,
          "data": {
            "text/plain": "       d  c  b  a\nthree  0  3  2  1\none    4  7  6  5",
            "text/html": "<div>\n<style scoped>\n    .dataframe tbody tr th:only-of-type {\n        vertical-align: middle;\n    }\n\n    .dataframe tbody tr th {\n        vertical-align: top;\n    }\n\n    .dataframe thead th {\n        text-align: right;\n    }\n</style>\n<table border=\"1\" class=\"dataframe\">\n  <thead>\n    <tr style=\"text-align: right;\">\n      <th></th>\n      <th>d</th>\n      <th>c</th>\n      <th>b</th>\n      <th>a</th>\n    </tr>\n  </thead>\n  <tbody>\n    <tr>\n      <th>three</th>\n      <td>0</td>\n      <td>3</td>\n      <td>2</td>\n      <td>1</td>\n    </tr>\n    <tr>\n      <th>one</th>\n      <td>4</td>\n      <td>7</td>\n      <td>6</td>\n      <td>5</td>\n    </tr>\n  </tbody>\n</table>\n</div>"
          },
          "metadata": {}
        }
      ],
      "execution_count": 18,
      "metadata": {
        "collapsed": true,
        "jupyter": {
          "source_hidden": false,
          "outputs_hidden": false
        },
        "nteract": {
          "transient": {
            "deleting": false
          }
        },
        "gather": {
          "logged": 1604679807353
        }
      }
    },
    {
      "cell_type": "code",
      "source": [
        "#Para ordenar uma Series de acordo com seus valores, utilize o seu método sort_values:\r\n",
        "ser = pd.Series([4, 7, -3, 2])\r\n",
        "ser.sort_values()"
      ],
      "outputs": [
        {
          "output_type": "execute_result",
          "execution_count": 19,
          "data": {
            "text/plain": "2   -3\n3    2\n0    4\n1    7\ndtype: int64"
          },
          "metadata": {}
        }
      ],
      "execution_count": 19,
      "metadata": {
        "collapsed": true,
        "jupyter": {
          "source_hidden": false,
          "outputs_hidden": false
        },
        "nteract": {
          "transient": {
            "deleting": false
          }
        },
        "gather": {
          "logged": 1604679844291
        }
      }
    },
    {
      "cell_type": "code",
      "source": [
        "ser = pd.Series([4, np.nan,7, np.nan -3, 2])\r\n",
        "ser.sort_values()"
      ],
      "outputs": [
        {
          "output_type": "execute_result",
          "execution_count": 20,
          "data": {
            "text/plain": "4    2.0\n0    4.0\n2    7.0\n1    NaN\n3    NaN\ndtype: float64"
          },
          "metadata": {}
        }
      ],
      "execution_count": 20,
      "metadata": {
        "collapsed": true,
        "jupyter": {
          "source_hidden": false,
          "outputs_hidden": false
        },
        "nteract": {
          "transient": {
            "deleting": false
          }
        },
        "gather": {
          "logged": 1604679880359
        }
      }
    },
    {
      "cell_type": "code",
      "source": [
        "frame = pd.DataFrame({'b': [4, 7, -3, 2], 'a': [0, 1, 0, 1]})\r\n",
        "frame"
      ],
      "outputs": [
        {
          "output_type": "execute_result",
          "execution_count": 22,
          "data": {
            "text/plain": "   b  a\n0  4  0\n1  7  1\n2 -3  0\n3  2  1",
            "text/html": "<div>\n<style scoped>\n    .dataframe tbody tr th:only-of-type {\n        vertical-align: middle;\n    }\n\n    .dataframe tbody tr th {\n        vertical-align: top;\n    }\n\n    .dataframe thead th {\n        text-align: right;\n    }\n</style>\n<table border=\"1\" class=\"dataframe\">\n  <thead>\n    <tr style=\"text-align: right;\">\n      <th></th>\n      <th>b</th>\n      <th>a</th>\n    </tr>\n  </thead>\n  <tbody>\n    <tr>\n      <th>0</th>\n      <td>4</td>\n      <td>0</td>\n    </tr>\n    <tr>\n      <th>1</th>\n      <td>7</td>\n      <td>1</td>\n    </tr>\n    <tr>\n      <th>2</th>\n      <td>-3</td>\n      <td>0</td>\n    </tr>\n    <tr>\n      <th>3</th>\n      <td>2</td>\n      <td>1</td>\n    </tr>\n  </tbody>\n</table>\n</div>"
          },
          "metadata": {}
        }
      ],
      "execution_count": 22,
      "metadata": {
        "collapsed": true,
        "jupyter": {
          "source_hidden": false,
          "outputs_hidden": false
        },
        "nteract": {
          "transient": {
            "deleting": false
          }
        },
        "gather": {
          "logged": 1604679902955
        }
      }
    },
    {
      "cell_type": "code",
      "source": [
        "frame.sort_values(by='b')"
      ],
      "outputs": [
        {
          "output_type": "execute_result",
          "execution_count": 23,
          "data": {
            "text/plain": "   b  a\n2 -3  0\n3  2  1\n0  4  0\n1  7  1",
            "text/html": "<div>\n<style scoped>\n    .dataframe tbody tr th:only-of-type {\n        vertical-align: middle;\n    }\n\n    .dataframe tbody tr th {\n        vertical-align: top;\n    }\n\n    .dataframe thead th {\n        text-align: right;\n    }\n</style>\n<table border=\"1\" class=\"dataframe\">\n  <thead>\n    <tr style=\"text-align: right;\">\n      <th></th>\n      <th>b</th>\n      <th>a</th>\n    </tr>\n  </thead>\n  <tbody>\n    <tr>\n      <th>2</th>\n      <td>-3</td>\n      <td>0</td>\n    </tr>\n    <tr>\n      <th>3</th>\n      <td>2</td>\n      <td>1</td>\n    </tr>\n    <tr>\n      <th>0</th>\n      <td>4</td>\n      <td>0</td>\n    </tr>\n    <tr>\n      <th>1</th>\n      <td>7</td>\n      <td>1</td>\n    </tr>\n  </tbody>\n</table>\n</div>"
          },
          "metadata": {}
        }
      ],
      "execution_count": 23,
      "metadata": {
        "collapsed": true,
        "jupyter": {
          "source_hidden": false,
          "outputs_hidden": false
        },
        "nteract": {
          "transient": {
            "deleting": false
          }
        },
        "gather": {
          "logged": 1604679914304
        }
      }
    },
    {
      "cell_type": "code",
      "source": [
        "frame.sort_values(by=['a','b'])"
      ],
      "outputs": [
        {
          "output_type": "execute_result",
          "execution_count": 24,
          "data": {
            "text/plain": "   b  a\n2 -3  0\n0  4  0\n3  2  1\n1  7  1",
            "text/html": "<div>\n<style scoped>\n    .dataframe tbody tr th:only-of-type {\n        vertical-align: middle;\n    }\n\n    .dataframe tbody tr th {\n        vertical-align: top;\n    }\n\n    .dataframe thead th {\n        text-align: right;\n    }\n</style>\n<table border=\"1\" class=\"dataframe\">\n  <thead>\n    <tr style=\"text-align: right;\">\n      <th></th>\n      <th>b</th>\n      <th>a</th>\n    </tr>\n  </thead>\n  <tbody>\n    <tr>\n      <th>2</th>\n      <td>-3</td>\n      <td>0</td>\n    </tr>\n    <tr>\n      <th>0</th>\n      <td>4</td>\n      <td>0</td>\n    </tr>\n    <tr>\n      <th>3</th>\n      <td>2</td>\n      <td>1</td>\n    </tr>\n    <tr>\n      <th>1</th>\n      <td>7</td>\n      <td>1</td>\n    </tr>\n  </tbody>\n</table>\n</div>"
          },
          "metadata": {}
        }
      ],
      "execution_count": 24,
      "metadata": {
        "collapsed": true,
        "jupyter": {
          "source_hidden": false,
          "outputs_hidden": false
        },
        "nteract": {
          "transient": {
            "deleting": false
          }
        },
        "gather": {
          "logged": 1604679940006
        }
      }
    },
    {
      "cell_type": "markdown",
      "source": [
        "> A classificação (ranking) atribui posições de um até o número de pontos de dados válidos em um array. Os métodos rank de Series e de DataFrame são aqueles a serem observados; por padrão, rank resolve empates atribuindo a cada grupo a classificação média"
      ],
      "metadata": {
        "nteract": {
          "transient": {
            "deleting": false
          }
        }
      }
    },
    {
      "cell_type": "code",
      "source": [
        "obj = pd.Series([7, -5, 7, 4, 2, 0, 4])\r\n",
        "obj.rank()"
      ],
      "outputs": [
        {
          "output_type": "execute_result",
          "execution_count": 25,
          "data": {
            "text/plain": "0    6.5\n1    1.0\n2    6.5\n3    4.5\n4    3.0\n5    2.0\n6    4.5\ndtype: float64"
          },
          "metadata": {}
        }
      ],
      "execution_count": 25,
      "metadata": {
        "collapsed": true,
        "jupyter": {
          "source_hidden": false,
          "outputs_hidden": false
        },
        "nteract": {
          "transient": {
            "deleting": false
          }
        },
        "gather": {
          "logged": 1604679998245
        }
      }
    },
    {
      "cell_type": "code",
      "source": [
        "frame = pd.DataFrame({'b': [4.3, 7, -3, 2], 'a': [0, 1, 0, 1], \r\n",
        "        'c': [-2, 5, 8, -2.5]})\r\n",
        "frame"
      ],
      "outputs": [
        {
          "output_type": "execute_result",
          "execution_count": 26,
          "data": {
            "text/plain": "     b  a    c\n0  4.3  0 -2.0\n1  7.0  1  5.0\n2 -3.0  0  8.0\n3  2.0  1 -2.5",
            "text/html": "<div>\n<style scoped>\n    .dataframe tbody tr th:only-of-type {\n        vertical-align: middle;\n    }\n\n    .dataframe tbody tr th {\n        vertical-align: top;\n    }\n\n    .dataframe thead th {\n        text-align: right;\n    }\n</style>\n<table border=\"1\" class=\"dataframe\">\n  <thead>\n    <tr style=\"text-align: right;\">\n      <th></th>\n      <th>b</th>\n      <th>a</th>\n      <th>c</th>\n    </tr>\n  </thead>\n  <tbody>\n    <tr>\n      <th>0</th>\n      <td>4.3</td>\n      <td>0</td>\n      <td>-2.0</td>\n    </tr>\n    <tr>\n      <th>1</th>\n      <td>7.0</td>\n      <td>1</td>\n      <td>5.0</td>\n    </tr>\n    <tr>\n      <th>2</th>\n      <td>-3.0</td>\n      <td>0</td>\n      <td>8.0</td>\n    </tr>\n    <tr>\n      <th>3</th>\n      <td>2.0</td>\n      <td>1</td>\n      <td>-2.5</td>\n    </tr>\n  </tbody>\n</table>\n</div>"
          },
          "metadata": {}
        }
      ],
      "execution_count": 26,
      "metadata": {
        "collapsed": true,
        "jupyter": {
          "source_hidden": false,
          "outputs_hidden": false
        },
        "nteract": {
          "transient": {
            "deleting": false
          }
        },
        "gather": {
          "logged": 1604680079128
        }
      }
    },
    {
      "cell_type": "code",
      "source": [
        "frame.rank()"
      ],
      "outputs": [
        {
          "output_type": "execute_result",
          "execution_count": 29,
          "data": {
            "text/plain": "     b    a    c\n0  3.0  1.5  2.0\n1  4.0  3.5  3.0\n2  1.0  1.5  4.0\n3  2.0  3.5  1.0",
            "text/html": "<div>\n<style scoped>\n    .dataframe tbody tr th:only-of-type {\n        vertical-align: middle;\n    }\n\n    .dataframe tbody tr th {\n        vertical-align: top;\n    }\n\n    .dataframe thead th {\n        text-align: right;\n    }\n</style>\n<table border=\"1\" class=\"dataframe\">\n  <thead>\n    <tr style=\"text-align: right;\">\n      <th></th>\n      <th>b</th>\n      <th>a</th>\n      <th>c</th>\n    </tr>\n  </thead>\n  <tbody>\n    <tr>\n      <th>0</th>\n      <td>3.0</td>\n      <td>1.5</td>\n      <td>2.0</td>\n    </tr>\n    <tr>\n      <th>1</th>\n      <td>4.0</td>\n      <td>3.5</td>\n      <td>3.0</td>\n    </tr>\n    <tr>\n      <th>2</th>\n      <td>1.0</td>\n      <td>1.5</td>\n      <td>4.0</td>\n    </tr>\n    <tr>\n      <th>3</th>\n      <td>2.0</td>\n      <td>3.5</td>\n      <td>1.0</td>\n    </tr>\n  </tbody>\n</table>\n</div>"
          },
          "metadata": {}
        }
      ],
      "execution_count": 29,
      "metadata": {
        "collapsed": true,
        "jupyter": {
          "source_hidden": false,
          "outputs_hidden": false
        },
        "nteract": {
          "transient": {
            "deleting": false
          }
        },
        "gather": {
          "logged": 1604680437394
        }
      }
    },
    {
      "cell_type": "code",
      "source": [
        "frame.rank(axis='columns')"
      ],
      "outputs": [
        {
          "output_type": "execute_result",
          "execution_count": 30,
          "data": {
            "text/plain": "     b    a    c\n0  3.0  2.0  1.0\n1  3.0  1.0  2.0\n2  1.0  2.0  3.0\n3  3.0  2.0  1.0",
            "text/html": "<div>\n<style scoped>\n    .dataframe tbody tr th:only-of-type {\n        vertical-align: middle;\n    }\n\n    .dataframe tbody tr th {\n        vertical-align: top;\n    }\n\n    .dataframe thead th {\n        text-align: right;\n    }\n</style>\n<table border=\"1\" class=\"dataframe\">\n  <thead>\n    <tr style=\"text-align: right;\">\n      <th></th>\n      <th>b</th>\n      <th>a</th>\n      <th>c</th>\n    </tr>\n  </thead>\n  <tbody>\n    <tr>\n      <th>0</th>\n      <td>3.0</td>\n      <td>2.0</td>\n      <td>1.0</td>\n    </tr>\n    <tr>\n      <th>1</th>\n      <td>3.0</td>\n      <td>1.0</td>\n      <td>2.0</td>\n    </tr>\n    <tr>\n      <th>2</th>\n      <td>1.0</td>\n      <td>2.0</td>\n      <td>3.0</td>\n    </tr>\n    <tr>\n      <th>3</th>\n      <td>3.0</td>\n      <td>2.0</td>\n      <td>1.0</td>\n    </tr>\n  </tbody>\n</table>\n</div>"
          },
          "metadata": {}
        }
      ],
      "execution_count": 30,
      "metadata": {
        "collapsed": true,
        "jupyter": {
          "source_hidden": false,
          "outputs_hidden": false
        },
        "nteract": {
          "transient": {
            "deleting": false
          }
        },
        "gather": {
          "logged": 1604680447402
        }
      }
    },
    {
      "cell_type": "markdown",
      "source": [
        "|Método|&nbsp;&nbsp;&nbsp;| Descrição |\r\n",
        "|----|-|----------------|\r\n",
        "|'average'| |Default: atribui a classificação média para cada entrada no mesmo grupo|\r\n",
        "|'min'| |Utiliza a classificação mínima do grupo todo|\r\n",
        "|'max'| |Utiliza a classificação máxima do grupo todo|\r\n",
        "|'first'| |Atribui classificações na ordem em que os valores aparecem nos dados| \r\n",
        "|'dense'| |Como method='min', porém as classificações sempre aumentam de 1 entre grupos, em vez do número de elementos iguais em um grupo|"
      ],
      "metadata": {
        "nteract": {
          "transient": {
            "deleting": false
          }
        }
      }
    },
    {
      "cell_type": "markdown",
      "source": [
        "## Índices de eixos com rótulos duplicados\r\n",
        "> Até agora, todos os exemplos que vimos tinham rótulos (valores de índice) únicos nos eixos. Embora muitas funções do pandas (como reindex) exijam que os rótulos sejam únicos, isso não é obrigatório. Vamos considerar uma pequena Series com índices duplicados:"
      ],
      "metadata": {
        "nteract": {
          "transient": {
            "deleting": false
          }
        }
      }
    },
    {
      "cell_type": "code",
      "source": [
        "obj = pd.Series(range(5), index=['a', 'a', 'b', 'b', 'c'])\r\n",
        "obj"
      ],
      "outputs": [
        {
          "output_type": "execute_result",
          "execution_count": 31,
          "data": {
            "text/plain": "a    0\na    1\nb    2\nb    3\nc    4\ndtype: int64"
          },
          "metadata": {}
        }
      ],
      "execution_count": 31,
      "metadata": {
        "collapsed": true,
        "jupyter": {
          "source_hidden": false,
          "outputs_hidden": false
        },
        "nteract": {
          "transient": {
            "deleting": false
          }
        },
        "gather": {
          "logged": 1604680739686
        }
      }
    },
    {
      "cell_type": "code",
      "source": [
        "obj.index.is_unique"
      ],
      "outputs": [
        {
          "output_type": "execute_result",
          "execution_count": 33,
          "data": {
            "text/plain": "False"
          },
          "metadata": {}
        }
      ],
      "execution_count": 33,
      "metadata": {
        "collapsed": true,
        "jupyter": {
          "source_hidden": false,
          "outputs_hidden": false
        },
        "nteract": {
          "transient": {
            "deleting": false
          }
        },
        "gather": {
          "logged": 1604680768660
        }
      }
    },
    {
      "cell_type": "code",
      "source": [
        "obj['a']"
      ],
      "outputs": [
        {
          "output_type": "execute_result",
          "execution_count": 34,
          "data": {
            "text/plain": "a    0\na    1\ndtype: int64"
          },
          "metadata": {}
        }
      ],
      "execution_count": 34,
      "metadata": {
        "collapsed": true,
        "jupyter": {
          "source_hidden": false,
          "outputs_hidden": false
        },
        "nteract": {
          "transient": {
            "deleting": false
          }
        },
        "gather": {
          "logged": 1604680781919
        }
      }
    },
    {
      "cell_type": "code",
      "source": [
        "df = pd.DataFrame(np.random.randn(4, 3), index=['a', 'a', 'b', 'b'])\r\n",
        "df"
      ],
      "outputs": [
        {
          "output_type": "execute_result",
          "execution_count": 35,
          "data": {
            "text/plain": "          0         1         2\na  0.469988  0.493631 -0.712900\na -1.856323  0.439541 -1.647252\nb -1.083545  1.328620  0.260498\nb  0.636317  0.366735 -0.515618",
            "text/html": "<div>\n<style scoped>\n    .dataframe tbody tr th:only-of-type {\n        vertical-align: middle;\n    }\n\n    .dataframe tbody tr th {\n        vertical-align: top;\n    }\n\n    .dataframe thead th {\n        text-align: right;\n    }\n</style>\n<table border=\"1\" class=\"dataframe\">\n  <thead>\n    <tr style=\"text-align: right;\">\n      <th></th>\n      <th>0</th>\n      <th>1</th>\n      <th>2</th>\n    </tr>\n  </thead>\n  <tbody>\n    <tr>\n      <th>a</th>\n      <td>0.469988</td>\n      <td>0.493631</td>\n      <td>-0.712900</td>\n    </tr>\n    <tr>\n      <th>a</th>\n      <td>-1.856323</td>\n      <td>0.439541</td>\n      <td>-1.647252</td>\n    </tr>\n    <tr>\n      <th>b</th>\n      <td>-1.083545</td>\n      <td>1.328620</td>\n      <td>0.260498</td>\n    </tr>\n    <tr>\n      <th>b</th>\n      <td>0.636317</td>\n      <td>0.366735</td>\n      <td>-0.515618</td>\n    </tr>\n  </tbody>\n</table>\n</div>"
          },
          "metadata": {}
        }
      ],
      "execution_count": 35,
      "metadata": {
        "collapsed": true,
        "jupyter": {
          "source_hidden": false,
          "outputs_hidden": false
        },
        "nteract": {
          "transient": {
            "deleting": false
          }
        },
        "gather": {
          "logged": 1604680813571
        }
      }
    },
    {
      "cell_type": "code",
      "source": [
        "df.loc['b']"
      ],
      "outputs": [
        {
          "output_type": "execute_result",
          "execution_count": 36,
          "data": {
            "text/plain": "          0         1         2\nb -1.083545  1.328620  0.260498\nb  0.636317  0.366735 -0.515618",
            "text/html": "<div>\n<style scoped>\n    .dataframe tbody tr th:only-of-type {\n        vertical-align: middle;\n    }\n\n    .dataframe tbody tr th {\n        vertical-align: top;\n    }\n\n    .dataframe thead th {\n        text-align: right;\n    }\n</style>\n<table border=\"1\" class=\"dataframe\">\n  <thead>\n    <tr style=\"text-align: right;\">\n      <th></th>\n      <th>0</th>\n      <th>1</th>\n      <th>2</th>\n    </tr>\n  </thead>\n  <tbody>\n    <tr>\n      <th>b</th>\n      <td>-1.083545</td>\n      <td>1.328620</td>\n      <td>0.260498</td>\n    </tr>\n    <tr>\n      <th>b</th>\n      <td>0.636317</td>\n      <td>0.366735</td>\n      <td>-0.515618</td>\n    </tr>\n  </tbody>\n</table>\n</div>"
          },
          "metadata": {}
        }
      ],
      "execution_count": 36,
      "metadata": {
        "collapsed": true,
        "jupyter": {
          "source_hidden": false,
          "outputs_hidden": false
        },
        "nteract": {
          "transient": {
            "deleting": false
          }
        },
        "gather": {
          "logged": 1604680833703
        }
      }
    },
    {
      "cell_type": "markdown",
      "source": [
        "# Resumindo e calculando estatística descritiva\r\n",
        ">Os objetos do pandas estão equipados com um conjunto de métodos matemáticos e estatísticos comuns. A maior parte deles se enquadra na categoria de reduções ou de estatísticas de resumo: são métodos que extraem um único valor (como a soma ou a média) de uma Series ou uma Series de valores das linhas ou colunas de um DataFrame. Em comparação com métodos similares que se encontram em arrays NumPy, eles têm tratamento embutido para dados ausentes."
      ],
      "metadata": {
        "nteract": {
          "transient": {
            "deleting": false
          }
        }
      }
    },
    {
      "cell_type": "code",
      "source": [
        "df = pd.DataFrame([[1.4, np.nan], [7.1, -4.5], \r\n",
        "                  [np.nan, np.nan], [0.75, -1.3]],\r\n",
        "                  index=['a', 'b', 'c', 'd'], \r\n",
        "                  columns=['one', 'two'])\r\n",
        "df"
      ],
      "outputs": [
        {
          "output_type": "execute_result",
          "execution_count": 37,
          "data": {
            "text/plain": "    one  two\na  1.40  NaN\nb  7.10 -4.5\nc   NaN  NaN\nd  0.75 -1.3",
            "text/html": "<div>\n<style scoped>\n    .dataframe tbody tr th:only-of-type {\n        vertical-align: middle;\n    }\n\n    .dataframe tbody tr th {\n        vertical-align: top;\n    }\n\n    .dataframe thead th {\n        text-align: right;\n    }\n</style>\n<table border=\"1\" class=\"dataframe\">\n  <thead>\n    <tr style=\"text-align: right;\">\n      <th></th>\n      <th>one</th>\n      <th>two</th>\n    </tr>\n  </thead>\n  <tbody>\n    <tr>\n      <th>a</th>\n      <td>1.40</td>\n      <td>NaN</td>\n    </tr>\n    <tr>\n      <th>b</th>\n      <td>7.10</td>\n      <td>-4.5</td>\n    </tr>\n    <tr>\n      <th>c</th>\n      <td>NaN</td>\n      <td>NaN</td>\n    </tr>\n    <tr>\n      <th>d</th>\n      <td>0.75</td>\n      <td>-1.3</td>\n    </tr>\n  </tbody>\n</table>\n</div>"
          },
          "metadata": {}
        }
      ],
      "execution_count": 37,
      "metadata": {
        "collapsed": true,
        "jupyter": {
          "source_hidden": false,
          "outputs_hidden": false
        },
        "nteract": {
          "transient": {
            "deleting": false
          }
        },
        "gather": {
          "logged": 1604680941503
        }
      }
    },
    {
      "cell_type": "code",
      "source": [
        "df.sum()"
      ],
      "outputs": [
        {
          "output_type": "execute_result",
          "execution_count": 38,
          "data": {
            "text/plain": "one    9.25\ntwo   -5.80\ndtype: float64"
          },
          "metadata": {}
        }
      ],
      "execution_count": 38,
      "metadata": {
        "collapsed": true,
        "jupyter": {
          "source_hidden": false,
          "outputs_hidden": false
        },
        "nteract": {
          "transient": {
            "deleting": false
          }
        },
        "gather": {
          "logged": 1604680956443
        }
      }
    },
    {
      "cell_type": "code",
      "source": [
        "df.sum(axis='columns')"
      ],
      "outputs": [
        {
          "output_type": "execute_result",
          "execution_count": 39,
          "data": {
            "text/plain": "a    1.40\nb    2.60\nc    0.00\nd   -0.55\ndtype: float64"
          },
          "metadata": {}
        }
      ],
      "execution_count": 39,
      "metadata": {
        "collapsed": true,
        "jupyter": {
          "source_hidden": false,
          "outputs_hidden": false
        },
        "nteract": {
          "transient": {
            "deleting": false
          }
        },
        "gather": {
          "logged": 1604680971411
        }
      }
    },
    {
      "cell_type": "code",
      "source": [
        "#Valores NA são excluídos, a menos que a fatia inteira (linha ou coluna, nesse caso) seja NA. Isso pode ser desativado com a opção skipna\r\n",
        "df.mean(axis='columns', skipna=False)"
      ],
      "outputs": [
        {
          "output_type": "execute_result",
          "execution_count": 40,
          "data": {
            "text/plain": "a      NaN\nb    1.300\nc      NaN\nd   -0.275\ndtype: float64"
          },
          "metadata": {}
        }
      ],
      "execution_count": 40,
      "metadata": {
        "collapsed": true,
        "jupyter": {
          "source_hidden": false,
          "outputs_hidden": false
        },
        "nteract": {
          "transient": {
            "deleting": false
          }
        },
        "gather": {
          "logged": 1604681004279
        }
      }
    },
    {
      "cell_type": "code",
      "source": [
        "#Alguns métodos como idxmin e idxmax devolvem estatísticas indiretas como o valor do índice em que os valores mínimo e máximo são encontrados\r\n",
        "df.idxmax()"
      ],
      "outputs": [
        {
          "output_type": "execute_result",
          "execution_count": 42,
          "data": {
            "text/plain": "one    b\ntwo    d\ndtype: object"
          },
          "metadata": {}
        }
      ],
      "execution_count": 42,
      "metadata": {
        "collapsed": true,
        "jupyter": {
          "source_hidden": false,
          "outputs_hidden": false
        },
        "nteract": {
          "transient": {
            "deleting": false
          }
        },
        "gather": {
          "logged": 1604681088975
        }
      }
    },
    {
      "cell_type": "code",
      "source": [
        "#Acúmulo\r\n",
        "df.cumsum()"
      ],
      "outputs": [
        {
          "output_type": "execute_result",
          "execution_count": 43,
          "data": {
            "text/plain": "    one  two\na  1.40  NaN\nb  8.50 -4.5\nc   NaN  NaN\nd  9.25 -5.8",
            "text/html": "<div>\n<style scoped>\n    .dataframe tbody tr th:only-of-type {\n        vertical-align: middle;\n    }\n\n    .dataframe tbody tr th {\n        vertical-align: top;\n    }\n\n    .dataframe thead th {\n        text-align: right;\n    }\n</style>\n<table border=\"1\" class=\"dataframe\">\n  <thead>\n    <tr style=\"text-align: right;\">\n      <th></th>\n      <th>one</th>\n      <th>two</th>\n    </tr>\n  </thead>\n  <tbody>\n    <tr>\n      <th>a</th>\n      <td>1.40</td>\n      <td>NaN</td>\n    </tr>\n    <tr>\n      <th>b</th>\n      <td>8.50</td>\n      <td>-4.5</td>\n    </tr>\n    <tr>\n      <th>c</th>\n      <td>NaN</td>\n      <td>NaN</td>\n    </tr>\n    <tr>\n      <th>d</th>\n      <td>9.25</td>\n      <td>-5.8</td>\n    </tr>\n  </tbody>\n</table>\n</div>"
          },
          "metadata": {}
        }
      ],
      "execution_count": 43,
      "metadata": {
        "collapsed": true,
        "jupyter": {
          "source_hidden": false,
          "outputs_hidden": false
        },
        "nteract": {
          "transient": {
            "deleting": false
          }
        },
        "gather": {
          "logged": 1604681115737
        }
      }
    },
    {
      "cell_type": "code",
      "source": [
        "#Há outro tipo de método que não é nem de redução nem de acúmulo. describe é um exemplo desse tipo, e gera vários dados estatísticos de resumo de uma só vez\r\n",
        "df.describe()"
      ],
      "outputs": [
        {
          "output_type": "execute_result",
          "execution_count": 45,
          "data": {
            "text/plain": "            one       two\ncount  3.000000  2.000000\nmean   3.083333 -2.900000\nstd    3.493685  2.262742\nmin    0.750000 -4.500000\n25%    1.075000 -3.700000\n50%    1.400000 -2.900000\n75%    4.250000 -2.100000\nmax    7.100000 -1.300000",
            "text/html": "<div>\n<style scoped>\n    .dataframe tbody tr th:only-of-type {\n        vertical-align: middle;\n    }\n\n    .dataframe tbody tr th {\n        vertical-align: top;\n    }\n\n    .dataframe thead th {\n        text-align: right;\n    }\n</style>\n<table border=\"1\" class=\"dataframe\">\n  <thead>\n    <tr style=\"text-align: right;\">\n      <th></th>\n      <th>one</th>\n      <th>two</th>\n    </tr>\n  </thead>\n  <tbody>\n    <tr>\n      <th>count</th>\n      <td>3.000000</td>\n      <td>2.000000</td>\n    </tr>\n    <tr>\n      <th>mean</th>\n      <td>3.083333</td>\n      <td>-2.900000</td>\n    </tr>\n    <tr>\n      <th>std</th>\n      <td>3.493685</td>\n      <td>2.262742</td>\n    </tr>\n    <tr>\n      <th>min</th>\n      <td>0.750000</td>\n      <td>-4.500000</td>\n    </tr>\n    <tr>\n      <th>25%</th>\n      <td>1.075000</td>\n      <td>-3.700000</td>\n    </tr>\n    <tr>\n      <th>50%</th>\n      <td>1.400000</td>\n      <td>-2.900000</td>\n    </tr>\n    <tr>\n      <th>75%</th>\n      <td>4.250000</td>\n      <td>-2.100000</td>\n    </tr>\n    <tr>\n      <th>max</th>\n      <td>7.100000</td>\n      <td>-1.300000</td>\n    </tr>\n  </tbody>\n</table>\n</div>"
          },
          "metadata": {}
        }
      ],
      "execution_count": 45,
      "metadata": {
        "collapsed": true,
        "jupyter": {
          "source_hidden": false,
          "outputs_hidden": false
        },
        "nteract": {
          "transient": {
            "deleting": false
          }
        },
        "gather": {
          "logged": 1604681152216
        }
      }
    },
    {
      "cell_type": "code",
      "source": [
        "obj = pd.Series(['a', 'a', 'b', 'c'] * 4)\r\n",
        "obj.describe()"
      ],
      "outputs": [
        {
          "output_type": "execute_result",
          "execution_count": 46,
          "data": {
            "text/plain": "count     16\nunique     3\ntop        a\nfreq       8\ndtype: object"
          },
          "metadata": {}
        }
      ],
      "execution_count": 46,
      "metadata": {
        "collapsed": true,
        "jupyter": {
          "source_hidden": false,
          "outputs_hidden": false
        },
        "nteract": {
          "transient": {
            "deleting": false
          }
        },
        "gather": {
          "logged": 1604681213753
        }
      }
    },
    {
      "cell_type": "markdown",
      "source": [
        "|Método|&nbsp;&nbsp;&nbsp;| Descrição |\r\n",
        "|----|-|----------------|\r\n",
        "|count| | Número de valores diferentes de NA|\r\n",
        "|describe| |Calcula o conjunto de dados estatísticos de resumo para Series ou cada coluna de DataFrame|\r\n",
        "|min, max| |Calcula os valores mínimo e máximo|\r\n",
        "|argmin, argmax| | Calcula as posições dos índices (inteiros) nas quais os valores mínimo ou máximo são obtidos, respectivamente|\r\n",
        "|idxmin, idxmax| |Calcula os rótulos dos índices nos quais os valores mínimo ou máximo|\r\n",
        "|quantile| |Calcula o quantil da amostragem variando de 0 a 1|\r\n",
        "|sum| |Soma dos valores| \r\n",
        "|mean| |Média dos valores| \r\n",
        "|median| |Mediana aritmética (quantil 50%) dos valores|\r\n",
        "|mad| |Desvio absoluto médio do valor médio|\r\n",
        "|prod| |Produto de todos os valores|\r\n",
        "|var| |Variância dos valores da amostra|\r\n",
        "|std| |Desvio-padrão dos valores da amostra|\r\n",
        "|skew| |Assimetria ou obliquidade (skewness, ou terceiro momento) dos valores da amostra|\r\n",
        "|kurt| |Curtose (quarto momento) dos valores da amostra|\r\n",
        "|cumsum| |Soma cumulativa dos valores|\r\n",
        "|cummin, cummax| |Mínimo ou máximo cumulativo dos valores, respectivamente|\r\n",
        "|cumprod| |Produto cumulativo dos valores|\r\n",
        "|diff| | Calcula a primeira diferença aritmética (útil para séries temporais)| \r\n",
        "|pct_change| |Calcula mudanças percentuais|"
      ],
      "metadata": {
        "nteract": {
          "transient": {
            "deleting": false
          }
        }
      }
    },
    {
      "cell_type": "markdown",
      "source": [
        "# Correção e covariância\r\n",
        "> Algumas estatísticas de resumo, como correlação e covariância, são calculadas a partir de pares de argumentos."
      ],
      "metadata": {
        "nteract": {
          "transient": {
            "deleting": false
          }
        }
      }
    },
    {
      "cell_type": "code",
      "source": [
        "#Abrir o terminal da VM\r\n",
        "# Digitar: pip install pandas-datareader\r\n",
        "#https://github.com/pydata/pandas-datareader/tree/master/docs/source/readers"
      ],
      "outputs": [],
      "execution_count": null,
      "metadata": {
        "collapsed": true,
        "jupyter": {
          "source_hidden": false,
          "outputs_hidden": false
        },
        "nteract": {
          "transient": {
            "deleting": false
          }
        }
      }
    },
    {
      "cell_type": "code",
      "source": [
        "import pandas_datareader.data as web \r\n",
        "all_data = {ticker: web.get_data_yahoo(ticker) for ticker in ['AAPL', 'IBM', 'MSFT', 'GOOG']} \r\n",
        "price = pd.DataFrame({ticker: data['Adj Close'] for ticker, data in all_data.items()}) \r\n",
        "volume = pd.DataFrame({ticker: data['Volume'] for ticker, data in all_data.items()})"
      ],
      "outputs": [
        {
          "output_type": "execute_result",
          "execution_count": 5,
          "data": {
            "text/plain": "{'AAPL':                   High         Low        Open       Close       Volume  \\\n Date                                                                      \n 2015-11-09   30.452499   30.012501   30.240000   30.142500  135485600.0   \n 2015-11-10   29.517500   29.014999   29.225000   29.192499  236511600.0   \n 2015-11-11   29.355000   28.802500   29.092501   29.027500  180872000.0   \n 2015-11-12   29.205000   28.912500   29.065001   28.930000  130102400.0   \n 2015-11-13   28.892500   28.067499   28.799999   28.084999  183249600.0   \n ...                ...         ...         ...         ...          ...   \n 2020-11-02  110.680000  107.320000  109.110001  108.769997  122866900.0   \n 2020-11-03  111.489998  108.730003  109.660004  110.440002  107624400.0   \n 2020-11-04  115.589996  112.349998  114.139999  114.949997  138235500.0   \n 2020-11-05  119.620003  116.870003  117.949997  119.029999  125734400.0   \n 2020-11-06  119.184998  116.129997  117.949997  118.620003   65910168.0   \n \n              Adj Close  \n Date                    \n 2015-11-09   27.974346  \n 2015-11-10   27.092672  \n 2015-11-11   26.939545  \n 2015-11-12   26.849056  \n 2015-11-13   26.064838  \n ...                ...  \n 2020-11-02  108.769997  \n 2020-11-03  110.440002  \n 2020-11-04  114.949997  \n 2020-11-05  119.029999  \n 2020-11-06  118.620003  \n \n [1259 rows x 6 columns],\n 'IBM':                   High         Low        Open       Close     Volume  \\\n Date                                                                    \n 2015-11-09  138.080002  134.880005  137.919998  135.309998  8075600.0   \n 2015-11-10  135.740005  134.119995  135.360001  135.470001  4520800.0   \n 2015-11-11  136.199997  134.500000  136.089996  135.020004  3164800.0   \n 2015-11-12  134.699997  133.009995  134.699997  133.039993  4701400.0   \n 2015-11-13  133.000000  131.649994  132.949997  131.750000  4613800.0   \n ...                ...         ...         ...         ...        ...   \n 2020-11-02  113.830002  112.250000  112.650002  112.910004  5311500.0   \n 2020-11-03  115.650002  113.629997  114.000000  114.160004  4204300.0   \n 2020-11-04  113.910004  111.160004  112.330002  111.900002  5800100.0   \n 2020-11-05  115.290001  113.010002  113.300003  114.769997  4899700.0   \n 2020-11-06  115.099998  113.400002  115.080002  113.889999  2269656.0   \n \n              Adj Close  \n Date                    \n 2015-11-09  109.372726  \n 2015-11-10  109.502075  \n 2015-11-11  109.138329  \n 2015-11-12  107.537880  \n 2015-11-13  106.495148  \n ...                ...  \n 2020-11-02  112.910004  \n 2020-11-03  114.160004  \n 2020-11-04  111.900002  \n 2020-11-05  114.769997  \n 2020-11-06  113.889999  \n \n [1259 rows x 6 columns],\n 'MSFT':                   High         Low        Open       Close      Volume  \\\n Date                                                                     \n 2015-11-09   54.869999   53.560001   54.549999   54.160000  32513100.0   \n 2015-11-10   54.130001   53.270000   54.070000   53.509998  55283700.0   \n 2015-11-11   54.200001   53.459999   53.700001   53.650002  36516300.0   \n 2015-11-12   53.980000   53.189999   53.480000   53.320000  35361100.0   \n 2015-11-13   53.290001   52.529999   53.070000   52.840000  36848200.0   \n ...                ...         ...         ...         ...         ...   \n 2020-11-02  205.279999  200.119995  204.289993  202.330002  30842200.0   \n 2020-11-03  208.119995  203.119995  203.889999  206.429993  27512000.0   \n 2020-11-04  218.320007  212.419998  214.020004  216.389999  42311800.0   \n 2020-11-05  224.119995  221.149994  222.039993  223.289993  36018600.0   \n 2020-11-06  223.360001  218.029999  222.259995  222.643997  11980598.0   \n \n              Adj Close  \n Date                    \n 2015-11-09   49.220352  \n 2015-11-10   48.629631  \n 2015-11-11   48.756870  \n 2015-11-12   48.456959  \n 2015-11-13   48.020748  \n ...                ...  \n 2020-11-02  202.330002  \n 2020-11-03  206.429993  \n 2020-11-04  216.389999  \n 2020-11-05  223.289993  \n 2020-11-06  222.643997  \n \n [1259 rows x 6 columns],\n 'GOOG':                    High          Low         Open        Close   Volume  \\\n Date                                                                      \n 2015-11-09   734.710022   719.429993   730.200012   724.890015  2069800   \n 2015-11-10   730.590027   718.500000   724.400024   728.320007  1608000   \n 2015-11-11   741.000000   730.229980   732.460022   735.400024  1366400   \n 2015-11-12   737.799988   728.645020   731.000000   731.229980  1837200   \n 2015-11-13   731.150024   716.729980   729.169983   717.000000  2075500   \n ...                 ...          ...          ...          ...      ...   \n 2020-11-02  1660.770020  1616.030029  1628.160034  1626.030029  2535400   \n 2020-11-03  1661.699951  1616.619995  1631.780029  1650.209961  1661700   \n 2020-11-04  1771.364990  1706.030029  1710.280029  1749.130005  3570900   \n 2020-11-05  1793.640015  1750.510010  1781.000000  1763.369995  2062000   \n 2020-11-06  1762.000000  1740.390015  1781.000000  1756.680054   587051   \n \n               Adj Close  \n Date                     \n 2015-11-09   724.890015  \n 2015-11-10   728.320007  \n 2015-11-11   735.400024  \n 2015-11-12   731.229980  \n 2015-11-13   717.000000  \n ...                 ...  \n 2020-11-02  1626.030029  \n 2020-11-03  1650.209961  \n 2020-11-04  1749.130005  \n 2020-11-05  1763.369995  \n 2020-11-06  1756.680054  \n \n [1259 rows x 6 columns]}"
          },
          "metadata": {}
        }
      ],
      "execution_count": 5,
      "metadata": {
        "collapsed": true,
        "jupyter": {
          "source_hidden": false,
          "outputs_hidden": false
        },
        "nteract": {
          "transient": {
            "deleting": false
          }
        },
        "gather": {
          "logged": 1604683495946
        }
      }
    },
    {
      "cell_type": "code",
      "source": [
        "price.describe()"
      ],
      "outputs": [
        {
          "output_type": "execute_result",
          "execution_count": 7,
          "data": {
            "text/plain": "              AAPL          IBM         MSFT         GOOG\ncount  1259.000000  1259.000000  1259.000000  1259.000000\nmean     47.823803   128.106921   102.980090  1060.121425\nstd      23.560501    11.050911    49.044179   247.832066\nmin      21.202499    92.307220    44.939899   668.260010\n25%      31.394614   122.866646    60.521696   819.109985\n50%      42.022755   129.366455    93.434364  1070.079956\n75%      54.043097   134.313881   135.077278  1207.505005\nmax     134.179993   155.360657   231.649994  1763.369995",
            "text/html": "<div>\n<style scoped>\n    .dataframe tbody tr th:only-of-type {\n        vertical-align: middle;\n    }\n\n    .dataframe tbody tr th {\n        vertical-align: top;\n    }\n\n    .dataframe thead th {\n        text-align: right;\n    }\n</style>\n<table border=\"1\" class=\"dataframe\">\n  <thead>\n    <tr style=\"text-align: right;\">\n      <th></th>\n      <th>AAPL</th>\n      <th>IBM</th>\n      <th>MSFT</th>\n      <th>GOOG</th>\n    </tr>\n  </thead>\n  <tbody>\n    <tr>\n      <th>count</th>\n      <td>1259.000000</td>\n      <td>1259.000000</td>\n      <td>1259.000000</td>\n      <td>1259.000000</td>\n    </tr>\n    <tr>\n      <th>mean</th>\n      <td>47.823803</td>\n      <td>128.106921</td>\n      <td>102.980090</td>\n      <td>1060.121425</td>\n    </tr>\n    <tr>\n      <th>std</th>\n      <td>23.560501</td>\n      <td>11.050911</td>\n      <td>49.044179</td>\n      <td>247.832066</td>\n    </tr>\n    <tr>\n      <th>min</th>\n      <td>21.202499</td>\n      <td>92.307220</td>\n      <td>44.939899</td>\n      <td>668.260010</td>\n    </tr>\n    <tr>\n      <th>25%</th>\n      <td>31.394614</td>\n      <td>122.866646</td>\n      <td>60.521696</td>\n      <td>819.109985</td>\n    </tr>\n    <tr>\n      <th>50%</th>\n      <td>42.022755</td>\n      <td>129.366455</td>\n      <td>93.434364</td>\n      <td>1070.079956</td>\n    </tr>\n    <tr>\n      <th>75%</th>\n      <td>54.043097</td>\n      <td>134.313881</td>\n      <td>135.077278</td>\n      <td>1207.505005</td>\n    </tr>\n    <tr>\n      <th>max</th>\n      <td>134.179993</td>\n      <td>155.360657</td>\n      <td>231.649994</td>\n      <td>1763.369995</td>\n    </tr>\n  </tbody>\n</table>\n</div>"
          },
          "metadata": {}
        }
      ],
      "execution_count": 7,
      "metadata": {
        "collapsed": true,
        "jupyter": {
          "source_hidden": false,
          "outputs_hidden": false
        },
        "nteract": {
          "transient": {
            "deleting": false
          }
        },
        "gather": {
          "logged": 1604683529025
        }
      }
    },
    {
      "cell_type": "code",
      "source": [
        "#Vamos agora calcular as mudanças percentuais nos preços – uma operação de série temporal\r\n",
        "returns = price.pct_change()\r\n",
        "returns.tail()"
      ],
      "outputs": [
        {
          "output_type": "execute_result",
          "execution_count": 8,
          "data": {
            "text/plain": "                AAPL       IBM      MSFT      GOOG\nDate                                              \n2020-11-02 -0.000827  0.011195 -0.000691  0.003097\n2020-11-03  0.015354  0.011071  0.020264  0.014871\n2020-11-04  0.040837 -0.019797  0.048249  0.059944\n2020-11-05  0.035494  0.025648  0.031887  0.008141\n2020-11-06 -0.003444 -0.007667 -0.002893 -0.003794",
            "text/html": "<div>\n<style scoped>\n    .dataframe tbody tr th:only-of-type {\n        vertical-align: middle;\n    }\n\n    .dataframe tbody tr th {\n        vertical-align: top;\n    }\n\n    .dataframe thead th {\n        text-align: right;\n    }\n</style>\n<table border=\"1\" class=\"dataframe\">\n  <thead>\n    <tr style=\"text-align: right;\">\n      <th></th>\n      <th>AAPL</th>\n      <th>IBM</th>\n      <th>MSFT</th>\n      <th>GOOG</th>\n    </tr>\n    <tr>\n      <th>Date</th>\n      <th></th>\n      <th></th>\n      <th></th>\n      <th></th>\n    </tr>\n  </thead>\n  <tbody>\n    <tr>\n      <th>2020-11-02</th>\n      <td>-0.000827</td>\n      <td>0.011195</td>\n      <td>-0.000691</td>\n      <td>0.003097</td>\n    </tr>\n    <tr>\n      <th>2020-11-03</th>\n      <td>0.015354</td>\n      <td>0.011071</td>\n      <td>0.020264</td>\n      <td>0.014871</td>\n    </tr>\n    <tr>\n      <th>2020-11-04</th>\n      <td>0.040837</td>\n      <td>-0.019797</td>\n      <td>0.048249</td>\n      <td>0.059944</td>\n    </tr>\n    <tr>\n      <th>2020-11-05</th>\n      <td>0.035494</td>\n      <td>0.025648</td>\n      <td>0.031887</td>\n      <td>0.008141</td>\n    </tr>\n    <tr>\n      <th>2020-11-06</th>\n      <td>-0.003444</td>\n      <td>-0.007667</td>\n      <td>-0.002893</td>\n      <td>-0.003794</td>\n    </tr>\n  </tbody>\n</table>\n</div>"
          },
          "metadata": {}
        }
      ],
      "execution_count": 8,
      "metadata": {
        "collapsed": true,
        "jupyter": {
          "source_hidden": false,
          "outputs_hidden": false
        },
        "nteract": {
          "transient": {
            "deleting": false
          }
        },
        "gather": {
          "logged": 1604683565441
        }
      }
    },
    {
      "cell_type": "code",
      "source": [
        "#O método corr de Series calcula a correlação entre os valores diferentes \r\n",
        "#de NA de duas Series, alinhados pelo índice e que se sobrepõem. De forma \r\n",
        "#relacionada, cov calcula a covariância:\r\n",
        "\r\n",
        "#Correlação - varia de -1 a 1 onde 1 diversificação ZERO -1 indica total diversificação\r\n",
        "#Covariância - grau de diversificação entre duas variáveis\r\n",
        "print(returns['MSFT'].corr(returns['IBM']))\r\n",
        "print(returns['MSFT'].cov(returns['IBM']))\r\n",
        "\r\n",
        "print(returns.corrwith(returns.IBM))\r\n",
        "print(returns.corrwith(volume))"
      ],
      "outputs": [
        {
          "output_type": "stream",
          "name": "stdout",
          "text": [
            "0.5695604037766911\n",
            "0.0001612255217833562\n",
            "AAPL    0.483602\n",
            "IBM     1.000000\n",
            "MSFT    0.569560\n",
            "GOOG    0.525241\n",
            "dtype: float64\n",
            "AAPL   -0.095832\n",
            "IBM    -0.080331\n",
            "MSFT   -0.095618\n",
            "GOOG   -0.162205\n",
            "dtype: float64\n"
          ]
        }
      ],
      "execution_count": 15,
      "metadata": {
        "collapsed": true,
        "jupyter": {
          "source_hidden": false,
          "outputs_hidden": false
        },
        "nteract": {
          "transient": {
            "deleting": false
          }
        },
        "gather": {
          "logged": 1604684476755
        }
      }
    },
    {
      "cell_type": "markdown",
      "source": [
        "## Valores únicos, contadores de valores e pertinência"
      ],
      "metadata": {
        "nteract": {
          "transient": {
            "deleting": false
          }
        }
      }
    },
    {
      "cell_type": "code",
      "source": [
        "obj = pd.Series(['c', 'a', 'd', 'a', 'a', 'b','c','c'])\r\n",
        "obj.unique()"
      ],
      "outputs": [
        {
          "output_type": "execute_result",
          "execution_count": 16,
          "data": {
            "text/plain": "array(['c', 'a', 'd', 'b'], dtype=object)"
          },
          "metadata": {}
        }
      ],
      "execution_count": 16,
      "metadata": {
        "collapsed": true,
        "jupyter": {
          "source_hidden": false,
          "outputs_hidden": false
        },
        "nteract": {
          "transient": {
            "deleting": false
          }
        },
        "gather": {
          "logged": 1604685282509
        }
      }
    },
    {
      "cell_type": "code",
      "source": [
        "obj.value_counts()"
      ],
      "outputs": [
        {
          "output_type": "execute_result",
          "execution_count": 17,
          "data": {
            "text/plain": "a    3\nc    3\nd    1\nb    1\ndtype: int64"
          },
          "metadata": {}
        }
      ],
      "execution_count": 17,
      "metadata": {
        "collapsed": true,
        "jupyter": {
          "source_hidden": false,
          "outputs_hidden": false
        },
        "nteract": {
          "transient": {
            "deleting": false
          }
        },
        "gather": {
          "logged": 1604685299029
        }
      }
    }
  ],
  "metadata": {
    "kernelspec": {
      "name": "python3-azureml",
      "language": "python",
      "display_name": "Python 3.6 - AzureML"
    },
    "language_info": {
      "name": "python",
      "version": "3.6.9",
      "mimetype": "text/x-python",
      "codemirror_mode": {
        "name": "ipython",
        "version": 3
      },
      "pygments_lexer": "ipython3",
      "nbconvert_exporter": "python",
      "file_extension": ".py"
    },
    "nteract": {
      "version": "nteract-front-end@1.0.0"
    },
    "kernel_info": {
      "name": "python3-azureml"
    }
  },
  "nbformat": 4,
  "nbformat_minor": 2
}