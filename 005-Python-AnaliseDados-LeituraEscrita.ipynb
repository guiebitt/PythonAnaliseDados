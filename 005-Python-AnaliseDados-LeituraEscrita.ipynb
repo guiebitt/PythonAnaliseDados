{
  "cells": [
    {
      "cell_type": "markdown",
      "source": [
        "# Data Loading, Storage, "
      ],
      "metadata": {
        "deletable": true,
        "editable": true
      }
    },
    {
      "cell_type": "code",
      "source": [
        "import numpy as np\n",
        "import pandas as pd\n",
        "np.random.seed(12345)\n",
        "import matplotlib.pyplot as plt\n",
        "plt.rc('figure', figsize=(10, 6))\n",
        "#https://numpy.org/doc/stable/reference/generated/numpy.set_printoptions.html\n",
        "np.set_printoptions(precision=4, suppress=True)"
      ],
      "outputs": [],
      "execution_count": 2,
      "metadata": {
        "collapsed": false,
        "deletable": true,
        "editable": true,
        "gather": {
          "logged": 1606386256492
        }
      }
    },
    {
      "cell_type": "markdown",
      "source": [
        "## Reading and Writing Data in Text Format"
      ],
      "metadata": {
        "deletable": true,
        "editable": true
      }
    },
    {
      "cell_type": "code",
      "source": [
        "#Execução de comando no sistema operacional\r\n",
        "!cat examples/ex1.csv"
      ],
      "outputs": [
        {
          "output_type": "stream",
          "name": "stdout",
          "text": [
            "a,b,c,d,message\r",
            "\r\n",
            "1,2,3,4,hello\r",
            "\r\n",
            "5,6,7,8,world\r",
            "\r\n",
            "9,10,11,12,foo"
          ]
        }
      ],
      "execution_count": 2,
      "metadata": {
        "collapsed": false,
        "deletable": true,
        "editable": true,
        "gather": {
          "logged": 1606313135258
        }
      }
    },
    {
      "cell_type": "code",
      "source": [
        "df = pd.read_csv('examples/ex1.csv')\n",
        "df"
      ],
      "outputs": [
        {
          "output_type": "execute_result",
          "execution_count": 5,
          "data": {
            "text/plain": "   a   b   c   d message\n0  1   2   3   4   hello\n1  5   6   7   8   world\n2  9  10  11  12     foo",
            "text/html": "<div>\n<style scoped>\n    .dataframe tbody tr th:only-of-type {\n        vertical-align: middle;\n    }\n\n    .dataframe tbody tr th {\n        vertical-align: top;\n    }\n\n    .dataframe thead th {\n        text-align: right;\n    }\n</style>\n<table border=\"1\" class=\"dataframe\">\n  <thead>\n    <tr style=\"text-align: right;\">\n      <th></th>\n      <th>a</th>\n      <th>b</th>\n      <th>c</th>\n      <th>d</th>\n      <th>message</th>\n    </tr>\n  </thead>\n  <tbody>\n    <tr>\n      <th>0</th>\n      <td>1</td>\n      <td>2</td>\n      <td>3</td>\n      <td>4</td>\n      <td>hello</td>\n    </tr>\n    <tr>\n      <th>1</th>\n      <td>5</td>\n      <td>6</td>\n      <td>7</td>\n      <td>8</td>\n      <td>world</td>\n    </tr>\n    <tr>\n      <th>2</th>\n      <td>9</td>\n      <td>10</td>\n      <td>11</td>\n      <td>12</td>\n      <td>foo</td>\n    </tr>\n  </tbody>\n</table>\n</div>"
          },
          "metadata": {}
        }
      ],
      "execution_count": 5,
      "metadata": {
        "collapsed": false,
        "deletable": true,
        "editable": true,
        "gather": {
          "logged": 1606224641079
        }
      }
    },
    {
      "cell_type": "code",
      "source": [
        "#mesma funcionalidade do read_csv\r\n",
        "pd.read_table('examples/ex1.csv', sep=',')"
      ],
      "outputs": [
        {
          "output_type": "execute_result",
          "execution_count": 6,
          "data": {
            "text/plain": "   a   b   c   d message\n0  1   2   3   4   hello\n1  5   6   7   8   world\n2  9  10  11  12     foo",
            "text/html": "<div>\n<style scoped>\n    .dataframe tbody tr th:only-of-type {\n        vertical-align: middle;\n    }\n\n    .dataframe tbody tr th {\n        vertical-align: top;\n    }\n\n    .dataframe thead th {\n        text-align: right;\n    }\n</style>\n<table border=\"1\" class=\"dataframe\">\n  <thead>\n    <tr style=\"text-align: right;\">\n      <th></th>\n      <th>a</th>\n      <th>b</th>\n      <th>c</th>\n      <th>d</th>\n      <th>message</th>\n    </tr>\n  </thead>\n  <tbody>\n    <tr>\n      <th>0</th>\n      <td>1</td>\n      <td>2</td>\n      <td>3</td>\n      <td>4</td>\n      <td>hello</td>\n    </tr>\n    <tr>\n      <th>1</th>\n      <td>5</td>\n      <td>6</td>\n      <td>7</td>\n      <td>8</td>\n      <td>world</td>\n    </tr>\n    <tr>\n      <th>2</th>\n      <td>9</td>\n      <td>10</td>\n      <td>11</td>\n      <td>12</td>\n      <td>foo</td>\n    </tr>\n  </tbody>\n</table>\n</div>"
          },
          "metadata": {}
        }
      ],
      "execution_count": 6,
      "metadata": {
        "collapsed": false,
        "deletable": true,
        "editable": true,
        "gather": {
          "logged": 1606224649668
        }
      }
    },
    {
      "cell_type": "code",
      "source": [
        "#Arquivo sem linha de cabeçalho\r\n",
        "!cat examples/ex2.csv"
      ],
      "outputs": [
        {
          "output_type": "stream",
          "name": "stdout",
          "text": [
            "1,2,3,4,hello\r",
            "\r\n",
            "5,6,7,8,world\r",
            "\r\n",
            "9,10,11,12,foo"
          ]
        }
      ],
      "execution_count": 8,
      "metadata": {
        "collapsed": false,
        "deletable": true,
        "editable": true,
        "gather": {
          "logged": 1606224733997
        }
      }
    },
    {
      "cell_type": "code",
      "source": [
        "#permitir que o pandas atribua valores default\n",
        "pd.read_csv('examples/ex2.csv', header=None)"
      ],
      "outputs": [
        {
          "output_type": "execute_result",
          "execution_count": 15,
          "data": {
            "text/plain": "   0   1   2   3      4\n0  1   2   3   4  hello\n1  5   6   7   8  world\n2  9  10  11  12    foo",
            "text/html": "<div>\n<style scoped>\n    .dataframe tbody tr th:only-of-type {\n        vertical-align: middle;\n    }\n\n    .dataframe tbody tr th {\n        vertical-align: top;\n    }\n\n    .dataframe thead th {\n        text-align: right;\n    }\n</style>\n<table border=\"1\" class=\"dataframe\">\n  <thead>\n    <tr style=\"text-align: right;\">\n      <th></th>\n      <th>0</th>\n      <th>1</th>\n      <th>2</th>\n      <th>3</th>\n      <th>4</th>\n    </tr>\n  </thead>\n  <tbody>\n    <tr>\n      <th>0</th>\n      <td>1</td>\n      <td>2</td>\n      <td>3</td>\n      <td>4</td>\n      <td>hello</td>\n    </tr>\n    <tr>\n      <th>1</th>\n      <td>5</td>\n      <td>6</td>\n      <td>7</td>\n      <td>8</td>\n      <td>world</td>\n    </tr>\n    <tr>\n      <th>2</th>\n      <td>9</td>\n      <td>10</td>\n      <td>11</td>\n      <td>12</td>\n      <td>foo</td>\n    </tr>\n  </tbody>\n</table>\n</div>"
          },
          "metadata": {}
        }
      ],
      "execution_count": 15,
      "metadata": {
        "collapsed": false,
        "deletable": true,
        "editable": true,
        "gather": {
          "logged": 1606224817446
        }
      }
    },
    {
      "cell_type": "code",
      "source": [
        "#Ou nós mesmos podemos especificar os nomes\r\n",
        "pd.read_csv('examples/ex2.csv', names=['a', 'b', 'c', 'd', 'message'])"
      ],
      "outputs": [
        {
          "output_type": "execute_result",
          "execution_count": 16,
          "data": {
            "text/plain": "   a   b   c   d message\n0  1   2   3   4   hello\n1  5   6   7   8   world\n2  9  10  11  12     foo",
            "text/html": "<div>\n<style scoped>\n    .dataframe tbody tr th:only-of-type {\n        vertical-align: middle;\n    }\n\n    .dataframe tbody tr th {\n        vertical-align: top;\n    }\n\n    .dataframe thead th {\n        text-align: right;\n    }\n</style>\n<table border=\"1\" class=\"dataframe\">\n  <thead>\n    <tr style=\"text-align: right;\">\n      <th></th>\n      <th>a</th>\n      <th>b</th>\n      <th>c</th>\n      <th>d</th>\n      <th>message</th>\n    </tr>\n  </thead>\n  <tbody>\n    <tr>\n      <th>0</th>\n      <td>1</td>\n      <td>2</td>\n      <td>3</td>\n      <td>4</td>\n      <td>hello</td>\n    </tr>\n    <tr>\n      <th>1</th>\n      <td>5</td>\n      <td>6</td>\n      <td>7</td>\n      <td>8</td>\n      <td>world</td>\n    </tr>\n    <tr>\n      <th>2</th>\n      <td>9</td>\n      <td>10</td>\n      <td>11</td>\n      <td>12</td>\n      <td>foo</td>\n    </tr>\n  </tbody>\n</table>\n</div>"
          },
          "metadata": {}
        }
      ],
      "execution_count": 16,
      "metadata": {
        "collapsed": true,
        "jupyter": {
          "source_hidden": false,
          "outputs_hidden": false
        },
        "nteract": {
          "transient": {
            "deleting": false
          }
        },
        "gather": {
          "logged": 1606224835762
        }
      }
    },
    {
      "cell_type": "code",
      "source": [
        "#como utilizar uma das colunas como coluna de index\n",
        "names = ['a', 'b', 'c', 'd', 'message']\n",
        "pd.read_csv('examples/ex2.csv', names=names, index_col='message')"
      ],
      "outputs": [
        {
          "output_type": "execute_result",
          "execution_count": 18,
          "data": {
            "text/plain": "         a   b   c   d\nmessage               \nhello    1   2   3   4\nworld    5   6   7   8\nfoo      9  10  11  12",
            "text/html": "<div>\n<style scoped>\n    .dataframe tbody tr th:only-of-type {\n        vertical-align: middle;\n    }\n\n    .dataframe tbody tr th {\n        vertical-align: top;\n    }\n\n    .dataframe thead th {\n        text-align: right;\n    }\n</style>\n<table border=\"1\" class=\"dataframe\">\n  <thead>\n    <tr style=\"text-align: right;\">\n      <th></th>\n      <th>a</th>\n      <th>b</th>\n      <th>c</th>\n      <th>d</th>\n    </tr>\n    <tr>\n      <th>message</th>\n      <th></th>\n      <th></th>\n      <th></th>\n      <th></th>\n    </tr>\n  </thead>\n  <tbody>\n    <tr>\n      <th>hello</th>\n      <td>1</td>\n      <td>2</td>\n      <td>3</td>\n      <td>4</td>\n    </tr>\n    <tr>\n      <th>world</th>\n      <td>5</td>\n      <td>6</td>\n      <td>7</td>\n      <td>8</td>\n    </tr>\n    <tr>\n      <th>foo</th>\n      <td>9</td>\n      <td>10</td>\n      <td>11</td>\n      <td>12</td>\n    </tr>\n  </tbody>\n</table>\n</div>"
          },
          "metadata": {}
        }
      ],
      "execution_count": 18,
      "metadata": {
        "collapsed": false,
        "deletable": true,
        "editable": true,
        "gather": {
          "logged": 1606224884858
        }
      }
    },
    {
      "cell_type": "code",
      "source": [
        "#índice hierárquico a partir de várias colunas\n",
        "!cat examples/csv_mindex.csv\n",
        "parsed = pd.read_csv('examples/csv_mindex.csv',\n",
        "                     index_col=['key1', 'key2'])\n",
        "parsed"
      ],
      "outputs": [
        {
          "output_type": "stream",
          "name": "stdout",
          "text": [
            "key1,key2,value1,value2\r",
            "\r\n",
            "one,a,1,2\r",
            "\r\n",
            "one,b,3,4\r",
            "\r\n",
            "one,c,5,6\r",
            "\r\n",
            "one,d,7,8\r",
            "\r\n",
            "two,a,9,10\r",
            "\r\n",
            "two,b,11,12\r",
            "\r\n",
            "two,c,13,14\r",
            "\r\n",
            "two,d,15,16\r",
            "\r\n"
          ]
        },
        {
          "output_type": "execute_result",
          "execution_count": 19,
          "data": {
            "text/plain": "           value1  value2\nkey1 key2                \none  a          1       2\n     b          3       4\n     c          5       6\n     d          7       8\ntwo  a          9      10\n     b         11      12\n     c         13      14\n     d         15      16",
            "text/html": "<div>\n<style scoped>\n    .dataframe tbody tr th:only-of-type {\n        vertical-align: middle;\n    }\n\n    .dataframe tbody tr th {\n        vertical-align: top;\n    }\n\n    .dataframe thead th {\n        text-align: right;\n    }\n</style>\n<table border=\"1\" class=\"dataframe\">\n  <thead>\n    <tr style=\"text-align: right;\">\n      <th></th>\n      <th></th>\n      <th>value1</th>\n      <th>value2</th>\n    </tr>\n    <tr>\n      <th>key1</th>\n      <th>key2</th>\n      <th></th>\n      <th></th>\n    </tr>\n  </thead>\n  <tbody>\n    <tr>\n      <th rowspan=\"4\" valign=\"top\">one</th>\n      <th>a</th>\n      <td>1</td>\n      <td>2</td>\n    </tr>\n    <tr>\n      <th>b</th>\n      <td>3</td>\n      <td>4</td>\n    </tr>\n    <tr>\n      <th>c</th>\n      <td>5</td>\n      <td>6</td>\n    </tr>\n    <tr>\n      <th>d</th>\n      <td>7</td>\n      <td>8</td>\n    </tr>\n    <tr>\n      <th rowspan=\"4\" valign=\"top\">two</th>\n      <th>a</th>\n      <td>9</td>\n      <td>10</td>\n    </tr>\n    <tr>\n      <th>b</th>\n      <td>11</td>\n      <td>12</td>\n    </tr>\n    <tr>\n      <th>c</th>\n      <td>13</td>\n      <td>14</td>\n    </tr>\n    <tr>\n      <th>d</th>\n      <td>15</td>\n      <td>16</td>\n    </tr>\n  </tbody>\n</table>\n</div>"
          },
          "metadata": {}
        }
      ],
      "execution_count": 19,
      "metadata": {
        "collapsed": false,
        "deletable": true,
        "editable": true,
        "gather": {
          "logged": 1606224913798
        }
      }
    },
    {
      "cell_type": "code",
      "source": [
        "#Em alguns casos, uma tabela pode não ter um delimitador fixo, \r\n",
        "#usando espaço em branco ou outro padrão para separar os campos.\r\n",
        "list(open('examples/ex3.txt'))"
      ],
      "outputs": [
        {
          "output_type": "execute_result",
          "execution_count": 23,
          "data": {
            "text/plain": "['            A         B         C\\n',\n 'aaa -0.264438 -1.026059 -0.619500\\n',\n 'bbb  0.927272  0.302904 -0.032399\\n',\n 'ccc -0.264273 -0.386314 -0.217601\\n',\n 'ddd -0.871858 -0.348382  1.100491\\n']"
          },
          "metadata": {}
        }
      ],
      "execution_count": 23,
      "metadata": {
        "collapsed": false,
        "deletable": true,
        "editable": true,
        "gather": {
          "logged": 1606226679284
        }
      }
    },
    {
      "cell_type": "code",
      "source": [
        "#essa, é possível passar uma expressão regular como um delimitador \n",
        "#para read_table. Nesse exemplo, podemos usar a expressão regular \\s+\n",
        "# a expressão \\s+ retorna as palavras retirando o espaço em branco\n",
        "result = pd.read_table('examples/ex3.txt', sep='\\s+')\n",
        "result"
      ],
      "outputs": [
        {
          "output_type": "execute_result",
          "execution_count": 3,
          "data": {
            "text/plain": "            A         B         C\naaa -0.264438 -1.026059 -0.619500\nbbb  0.927272  0.302904 -0.032399\nccc -0.264273 -0.386314 -0.217601\nddd -0.871858 -0.348382  1.100491",
            "text/html": "<div>\n<style scoped>\n    .dataframe tbody tr th:only-of-type {\n        vertical-align: middle;\n    }\n\n    .dataframe tbody tr th {\n        vertical-align: top;\n    }\n\n    .dataframe thead th {\n        text-align: right;\n    }\n</style>\n<table border=\"1\" class=\"dataframe\">\n  <thead>\n    <tr style=\"text-align: right;\">\n      <th></th>\n      <th>A</th>\n      <th>B</th>\n      <th>C</th>\n    </tr>\n  </thead>\n  <tbody>\n    <tr>\n      <th>aaa</th>\n      <td>-0.264438</td>\n      <td>-1.026059</td>\n      <td>-0.619500</td>\n    </tr>\n    <tr>\n      <th>bbb</th>\n      <td>0.927272</td>\n      <td>0.302904</td>\n      <td>-0.032399</td>\n    </tr>\n    <tr>\n      <th>ccc</th>\n      <td>-0.264273</td>\n      <td>-0.386314</td>\n      <td>-0.217601</td>\n    </tr>\n    <tr>\n      <th>ddd</th>\n      <td>-0.871858</td>\n      <td>-0.348382</td>\n      <td>1.100491</td>\n    </tr>\n  </tbody>\n</table>\n</div>"
          },
          "metadata": {}
        }
      ],
      "execution_count": 3,
      "metadata": {
        "collapsed": false,
        "deletable": true,
        "editable": true,
        "gather": {
          "logged": 1606323650166
        }
      }
    },
    {
      "cell_type": "code",
      "source": [
        "#ler o arquivo ignorando algumas linhas\n",
        "!cat examples/ex4.csv\n",
        "pd.read_csv('examples/ex4.csv', skiprows=[0, 2, 3])"
      ],
      "outputs": [
        {
          "output_type": "stream",
          "name": "stdout",
          "text": [
            "# hey!\r",
            "\r\n",
            "a,b,c,d,message\r",
            "\r\n",
            "# just wanted to make things more difficult for you\r",
            "\r\n",
            "# who reads CSV files with computers, anyway?\r",
            "\r\n",
            "1,2,3,4,hello\r",
            "\r\n",
            "5,6,7,8,world\r",
            "\r\n",
            "9,10,11,12,foo"
          ]
        },
        {
          "output_type": "execute_result",
          "execution_count": 5,
          "data": {
            "text/plain": "   a   b   c   d message\n0  1   2   3   4   hello\n1  5   6   7   8   world\n2  9  10  11  12     foo",
            "text/html": "<div>\n<style scoped>\n    .dataframe tbody tr th:only-of-type {\n        vertical-align: middle;\n    }\n\n    .dataframe tbody tr th {\n        vertical-align: top;\n    }\n\n    .dataframe thead th {\n        text-align: right;\n    }\n</style>\n<table border=\"1\" class=\"dataframe\">\n  <thead>\n    <tr style=\"text-align: right;\">\n      <th></th>\n      <th>a</th>\n      <th>b</th>\n      <th>c</th>\n      <th>d</th>\n      <th>message</th>\n    </tr>\n  </thead>\n  <tbody>\n    <tr>\n      <th>0</th>\n      <td>1</td>\n      <td>2</td>\n      <td>3</td>\n      <td>4</td>\n      <td>hello</td>\n    </tr>\n    <tr>\n      <th>1</th>\n      <td>5</td>\n      <td>6</td>\n      <td>7</td>\n      <td>8</td>\n      <td>world</td>\n    </tr>\n    <tr>\n      <th>2</th>\n      <td>9</td>\n      <td>10</td>\n      <td>11</td>\n      <td>12</td>\n      <td>foo</td>\n    </tr>\n  </tbody>\n</table>\n</div>"
          },
          "metadata": {}
        }
      ],
      "execution_count": 5,
      "metadata": {
        "collapsed": false,
        "deletable": true,
        "editable": true,
        "gather": {
          "logged": 1606313292822
        }
      }
    },
    {
      "cell_type": "code",
      "source": [
        "!cat examples/ex5.csv\n",
        "result = pd.read_csv('examples/ex5.csv')\n",
        "result\n",
        "pd.isnull(result)"
      ],
      "outputs": [
        {
          "output_type": "stream",
          "name": "stdout",
          "text": [
            "something,a,b,c,d,message\r",
            "\r\n",
            "one,1,2,3,4,NA\r",
            "\r\n",
            "two,5,6,,8,world\r",
            "\r\n",
            "three,9,10,11,12,foo"
          ]
        },
        {
          "output_type": "execute_result",
          "execution_count": 6,
          "data": {
            "text/plain": "   something      a      b      c      d  message\n0      False  False  False  False  False     True\n1      False  False  False   True  False    False\n2      False  False  False  False  False    False",
            "text/html": "<div>\n<style scoped>\n    .dataframe tbody tr th:only-of-type {\n        vertical-align: middle;\n    }\n\n    .dataframe tbody tr th {\n        vertical-align: top;\n    }\n\n    .dataframe thead th {\n        text-align: right;\n    }\n</style>\n<table border=\"1\" class=\"dataframe\">\n  <thead>\n    <tr style=\"text-align: right;\">\n      <th></th>\n      <th>something</th>\n      <th>a</th>\n      <th>b</th>\n      <th>c</th>\n      <th>d</th>\n      <th>message</th>\n    </tr>\n  </thead>\n  <tbody>\n    <tr>\n      <th>0</th>\n      <td>False</td>\n      <td>False</td>\n      <td>False</td>\n      <td>False</td>\n      <td>False</td>\n      <td>True</td>\n    </tr>\n    <tr>\n      <th>1</th>\n      <td>False</td>\n      <td>False</td>\n      <td>False</td>\n      <td>True</td>\n      <td>False</td>\n      <td>False</td>\n    </tr>\n    <tr>\n      <th>2</th>\n      <td>False</td>\n      <td>False</td>\n      <td>False</td>\n      <td>False</td>\n      <td>False</td>\n      <td>False</td>\n    </tr>\n  </tbody>\n</table>\n</div>"
          },
          "metadata": {}
        }
      ],
      "execution_count": 6,
      "metadata": {
        "collapsed": false,
        "deletable": true,
        "editable": true,
        "gather": {
          "logged": 1606313332646
        }
      }
    },
    {
      "cell_type": "code",
      "source": [
        "#A opção na_values pode aceitar uma lista ou um conjunto de \n",
        "#strings a serem considerados como valores ausentes:\n",
        "result = pd.read_csv('examples/ex5.csv', na_values=['NULL'])\n",
        "result"
      ],
      "outputs": [
        {
          "output_type": "execute_result",
          "execution_count": 9,
          "data": {
            "text/plain": "  something  a   b     c   d message\n0       one  1   2   3.0   4     NaN\n1       two  5   6   NaN   8   world\n2     three  9  10  11.0  12     foo",
            "text/html": "<div>\n<style scoped>\n    .dataframe tbody tr th:only-of-type {\n        vertical-align: middle;\n    }\n\n    .dataframe tbody tr th {\n        vertical-align: top;\n    }\n\n    .dataframe thead th {\n        text-align: right;\n    }\n</style>\n<table border=\"1\" class=\"dataframe\">\n  <thead>\n    <tr style=\"text-align: right;\">\n      <th></th>\n      <th>something</th>\n      <th>a</th>\n      <th>b</th>\n      <th>c</th>\n      <th>d</th>\n      <th>message</th>\n    </tr>\n  </thead>\n  <tbody>\n    <tr>\n      <th>0</th>\n      <td>one</td>\n      <td>1</td>\n      <td>2</td>\n      <td>3.0</td>\n      <td>4</td>\n      <td>NaN</td>\n    </tr>\n    <tr>\n      <th>1</th>\n      <td>two</td>\n      <td>5</td>\n      <td>6</td>\n      <td>NaN</td>\n      <td>8</td>\n      <td>world</td>\n    </tr>\n    <tr>\n      <th>2</th>\n      <td>three</td>\n      <td>9</td>\n      <td>10</td>\n      <td>11.0</td>\n      <td>12</td>\n      <td>foo</td>\n    </tr>\n  </tbody>\n</table>\n</div>"
          },
          "metadata": {}
        }
      ],
      "execution_count": 9,
      "metadata": {
        "collapsed": false,
        "deletable": true,
        "editable": true,
        "gather": {
          "logged": 1606313751106
        }
      }
    },
    {
      "cell_type": "code",
      "source": [
        "#os valores considerados nulos podem ser definidos por coluna\n",
        "sentinels = {'message': ['foo', 'NA'], 'something': ['two']}\n",
        "pd.read_csv('examples/ex5.csv', na_values=sentinels)"
      ],
      "outputs": [
        {
          "output_type": "execute_result",
          "execution_count": 10,
          "data": {
            "text/plain": "  something  a   b     c   d message\n0       one  1   2   3.0   4     NaN\n1       NaN  5   6   NaN   8   world\n2     three  9  10  11.0  12     NaN",
            "text/html": "<div>\n<style scoped>\n    .dataframe tbody tr th:only-of-type {\n        vertical-align: middle;\n    }\n\n    .dataframe tbody tr th {\n        vertical-align: top;\n    }\n\n    .dataframe thead th {\n        text-align: right;\n    }\n</style>\n<table border=\"1\" class=\"dataframe\">\n  <thead>\n    <tr style=\"text-align: right;\">\n      <th></th>\n      <th>something</th>\n      <th>a</th>\n      <th>b</th>\n      <th>c</th>\n      <th>d</th>\n      <th>message</th>\n    </tr>\n  </thead>\n  <tbody>\n    <tr>\n      <th>0</th>\n      <td>one</td>\n      <td>1</td>\n      <td>2</td>\n      <td>3.0</td>\n      <td>4</td>\n      <td>NaN</td>\n    </tr>\n    <tr>\n      <th>1</th>\n      <td>NaN</td>\n      <td>5</td>\n      <td>6</td>\n      <td>NaN</td>\n      <td>8</td>\n      <td>world</td>\n    </tr>\n    <tr>\n      <th>2</th>\n      <td>three</td>\n      <td>9</td>\n      <td>10</td>\n      <td>11.0</td>\n      <td>12</td>\n      <td>NaN</td>\n    </tr>\n  </tbody>\n</table>\n</div>"
          },
          "metadata": {}
        }
      ],
      "execution_count": 10,
      "metadata": {
        "collapsed": false,
        "deletable": true,
        "editable": true,
        "gather": {
          "logged": 1606313883381
        }
      }
    },
    {
      "cell_type": "markdown",
      "source": [
        "| Argumento | |Descrição | \r\n",
        "|-----------|-|----------|\r\n",
        "|Path| |String que indica o local no sistema de arquivos, o URL ou um objeto do tipo arquivo|\r\n",
        "|sep ou delimiter| |Sequência de caracteres ou uma expressão regular a ser usada para separar campos em cada linha|\r\n",
        "|header| |Número da linha a ser usada como nomes de coluna; o default é 0 (primeira linha), mas deverá ser None se não houver linha de cabeçalho|\r\n",
        "|index_col| |Números ou nomes de coluna a serem usados como índice das linhas no resultado; pode ser um único nome/número ou uma lista deles se for um índice hierárquico|\r\n",
        "|names| |Lista de nomes de colunas para o resultado; pode ser combinado com header=None|\r\n",
        "|skiprows| |Número de linhas a serem ignoradas no início do arquivo ou lista de números de linhas (começando de 0) a serem ignoradas.|\r\n",
        "|na_values| |Sequência de valores a serem substituídos por NA.|\r\n",
        "|comment| |Caractere(s) para separar comentários no final das linhas|\r\n",
        "|parse_dates| |Tenta fazer parse de dados para datetime; o default é False. Se for True, tentará fazer parse de todas as colunas. Caso contrário, poderá especificar uma lista de números ou nomes de colunas para o parse. Se o elemento da lista for uma tupla ou uma lista, combinará várias colunas e fará o parse para data (por exemplo, se a data/hora estiverem separadas em duas colunas).|\r\n",
        "|keep_date_col| |Se as colunas forem reunidas para parse de data, mantém as colunas unidas; o default é False.|\r\n",
        "|converters| |Dicionário contendo o número ou o nome de colunas mapeados para funções (por exemplo, {'foo': f} aplica a função f em todos os valores da coluna 'foo').|\r\n",
        "|dayfirst| |Ao fazer parsing de datas potencialmente ambíguas, trata-as como estando no formato internacional (por exemplo, 7/6/2012 -> 7 de junho de 2012); o default é False.|\r\n",
        "|date_parser| |Função a ser usada para parse de datas.|\r\n",
        "|nrows| |Número de linhas a serem lidas no início do arquivo.|"
      ],
      "metadata": {
        "nteract": {
          "transient": {
            "deleting": false
          }
        }
      }
    },
    {
      "cell_type": "markdown",
      "source": [
        "### Reading Text Files in Pieces"
      ],
      "metadata": {
        "deletable": true,
        "editable": true
      }
    },
    {
      "cell_type": "code",
      "source": [
        "#Altera a configuração do pandas para mostrar apenas as 10 linhas\r\n",
        "pd.options.display.max_rows = 10"
      ],
      "outputs": [],
      "execution_count": 16,
      "metadata": {
        "collapsed": false,
        "deletable": true,
        "editable": true,
        "gather": {
          "logged": 1606314500122
        }
      }
    },
    {
      "cell_type": "code",
      "source": [
        "result = pd.read_csv('examples/ex6.csv')\n",
        "result"
      ],
      "outputs": [
        {
          "output_type": "execute_result",
          "execution_count": 17,
          "data": {
            "text/plain": "           one       two     three      four key\n0     0.467976 -0.038649 -0.295344 -1.824726   L\n1    -0.358893  1.404453  0.704965 -0.200638   B\n2    -0.501840  0.659254 -0.421691 -0.057688   G\n3     0.204886  1.074134  1.388361 -0.982404   R\n4     0.354628 -0.133116  0.283763 -0.837063   Q\n...        ...       ...       ...       ...  ..\n9995  2.311896 -0.417070 -1.409599 -0.515821   L\n9996 -0.479893 -0.650419  0.745152 -0.646038   E\n9997  0.523331  0.787112  0.486066  1.093156   K\n9998 -0.362559  0.598894 -1.843201  0.887292   G\n9999 -0.096376 -1.012999 -0.657431 -0.573315   0\n\n[10000 rows x 5 columns]",
            "text/html": "<div>\n<style scoped>\n    .dataframe tbody tr th:only-of-type {\n        vertical-align: middle;\n    }\n\n    .dataframe tbody tr th {\n        vertical-align: top;\n    }\n\n    .dataframe thead th {\n        text-align: right;\n    }\n</style>\n<table border=\"1\" class=\"dataframe\">\n  <thead>\n    <tr style=\"text-align: right;\">\n      <th></th>\n      <th>one</th>\n      <th>two</th>\n      <th>three</th>\n      <th>four</th>\n      <th>key</th>\n    </tr>\n  </thead>\n  <tbody>\n    <tr>\n      <th>0</th>\n      <td>0.467976</td>\n      <td>-0.038649</td>\n      <td>-0.295344</td>\n      <td>-1.824726</td>\n      <td>L</td>\n    </tr>\n    <tr>\n      <th>1</th>\n      <td>-0.358893</td>\n      <td>1.404453</td>\n      <td>0.704965</td>\n      <td>-0.200638</td>\n      <td>B</td>\n    </tr>\n    <tr>\n      <th>2</th>\n      <td>-0.501840</td>\n      <td>0.659254</td>\n      <td>-0.421691</td>\n      <td>-0.057688</td>\n      <td>G</td>\n    </tr>\n    <tr>\n      <th>3</th>\n      <td>0.204886</td>\n      <td>1.074134</td>\n      <td>1.388361</td>\n      <td>-0.982404</td>\n      <td>R</td>\n    </tr>\n    <tr>\n      <th>4</th>\n      <td>0.354628</td>\n      <td>-0.133116</td>\n      <td>0.283763</td>\n      <td>-0.837063</td>\n      <td>Q</td>\n    </tr>\n    <tr>\n      <th>...</th>\n      <td>...</td>\n      <td>...</td>\n      <td>...</td>\n      <td>...</td>\n      <td>...</td>\n    </tr>\n    <tr>\n      <th>9995</th>\n      <td>2.311896</td>\n      <td>-0.417070</td>\n      <td>-1.409599</td>\n      <td>-0.515821</td>\n      <td>L</td>\n    </tr>\n    <tr>\n      <th>9996</th>\n      <td>-0.479893</td>\n      <td>-0.650419</td>\n      <td>0.745152</td>\n      <td>-0.646038</td>\n      <td>E</td>\n    </tr>\n    <tr>\n      <th>9997</th>\n      <td>0.523331</td>\n      <td>0.787112</td>\n      <td>0.486066</td>\n      <td>1.093156</td>\n      <td>K</td>\n    </tr>\n    <tr>\n      <th>9998</th>\n      <td>-0.362559</td>\n      <td>0.598894</td>\n      <td>-1.843201</td>\n      <td>0.887292</td>\n      <td>G</td>\n    </tr>\n    <tr>\n      <th>9999</th>\n      <td>-0.096376</td>\n      <td>-1.012999</td>\n      <td>-0.657431</td>\n      <td>-0.573315</td>\n      <td>0</td>\n    </tr>\n  </tbody>\n</table>\n<p>10000 rows × 5 columns</p>\n</div>"
          },
          "metadata": {}
        }
      ],
      "execution_count": 17,
      "metadata": {
        "collapsed": false,
        "deletable": true,
        "editable": true,
        "gather": {
          "logged": 1606314502916
        }
      }
    },
    {
      "cell_type": "code",
      "source": [
        "#Especificando o número máximo de linhas que será lido\r\n",
        "pd.read_csv('examples/ex6.csv', nrows=5)"
      ],
      "outputs": [
        {
          "output_type": "execute_result",
          "execution_count": 19,
          "data": {
            "text/plain": "        one       two     three      four key\n0  0.467976 -0.038649 -0.295344 -1.824726   L\n1 -0.358893  1.404453  0.704965 -0.200638   B\n2 -0.501840  0.659254 -0.421691 -0.057688   G\n3  0.204886  1.074134  1.388361 -0.982404   R\n4  0.354628 -0.133116  0.283763 -0.837063   Q",
            "text/html": "<div>\n<style scoped>\n    .dataframe tbody tr th:only-of-type {\n        vertical-align: middle;\n    }\n\n    .dataframe tbody tr th {\n        vertical-align: top;\n    }\n\n    .dataframe thead th {\n        text-align: right;\n    }\n</style>\n<table border=\"1\" class=\"dataframe\">\n  <thead>\n    <tr style=\"text-align: right;\">\n      <th></th>\n      <th>one</th>\n      <th>two</th>\n      <th>three</th>\n      <th>four</th>\n      <th>key</th>\n    </tr>\n  </thead>\n  <tbody>\n    <tr>\n      <th>0</th>\n      <td>0.467976</td>\n      <td>-0.038649</td>\n      <td>-0.295344</td>\n      <td>-1.824726</td>\n      <td>L</td>\n    </tr>\n    <tr>\n      <th>1</th>\n      <td>-0.358893</td>\n      <td>1.404453</td>\n      <td>0.704965</td>\n      <td>-0.200638</td>\n      <td>B</td>\n    </tr>\n    <tr>\n      <th>2</th>\n      <td>-0.501840</td>\n      <td>0.659254</td>\n      <td>-0.421691</td>\n      <td>-0.057688</td>\n      <td>G</td>\n    </tr>\n    <tr>\n      <th>3</th>\n      <td>0.204886</td>\n      <td>1.074134</td>\n      <td>1.388361</td>\n      <td>-0.982404</td>\n      <td>R</td>\n    </tr>\n    <tr>\n      <th>4</th>\n      <td>0.354628</td>\n      <td>-0.133116</td>\n      <td>0.283763</td>\n      <td>-0.837063</td>\n      <td>Q</td>\n    </tr>\n  </tbody>\n</table>\n</div>"
          },
          "metadata": {}
        }
      ],
      "execution_count": 19,
      "metadata": {
        "collapsed": false,
        "deletable": true,
        "editable": true,
        "gather": {
          "logged": 1606314553423
        }
      }
    },
    {
      "cell_type": "code",
      "source": [
        "#leitura do arquivo por partes\n",
        "chunker = pd.read_csv('examples/ex6.csv', chunksize=1000)\n",
        "chunker"
      ],
      "outputs": [
        {
          "output_type": "execute_result",
          "execution_count": 20,
          "data": {
            "text/plain": "<pandas.io.parsers.TextFileReader at 0x7f659d5e6d68>"
          },
          "metadata": {}
        }
      ],
      "execution_count": 20,
      "metadata": {
        "collapsed": false,
        "deletable": true,
        "editable": true,
        "gather": {
          "logged": 1606314583081
        }
      }
    },
    {
      "cell_type": "code",
      "source": [
        "chunker = pd.read_csv('examples/ex6.csv', chunksize=1000)\n",
        "\n",
        "tot = pd.Series([])\n",
        "for piece in chunker:\n",
        "    tot = tot.add(piece['key'].value_counts(), fill_value=0)\n",
        "\n",
        "tot = tot.sort_values(ascending=False)"
      ],
      "outputs": [],
      "execution_count": 26,
      "metadata": {
        "collapsed": false,
        "deletable": true,
        "editable": true,
        "gather": {
          "logged": 1606315120595
        }
      }
    },
    {
      "cell_type": "code",
      "source": [
        "tot[:10]"
      ],
      "outputs": [
        {
          "output_type": "execute_result",
          "execution_count": 28,
          "data": {
            "text/plain": "E    368.0\nX    364.0\nL    346.0\nO    343.0\nQ    340.0\nM    338.0\nJ    337.0\nF    335.0\nK    334.0\nH    330.0\ndtype: float64"
          },
          "metadata": {}
        }
      ],
      "execution_count": 28,
      "metadata": {
        "collapsed": false,
        "deletable": true,
        "editable": true,
        "gather": {
          "logged": 1606315137136
        }
      }
    },
    {
      "cell_type": "markdown",
      "source": [
        "### Writing Data to Text Format"
      ],
      "metadata": {
        "deletable": true,
        "editable": true
      }
    },
    {
      "cell_type": "code",
      "source": [
        "data = pd.read_csv('examples/ex5.csv')\n",
        "data"
      ],
      "outputs": [
        {
          "output_type": "execute_result",
          "execution_count": 3,
          "data": {
            "text/plain": "  something  a   b     c   d message\n0       one  1   2   3.0   4     NaN\n1       two  5   6   NaN   8   world\n2     three  9  10  11.0  12     foo",
            "text/html": "<div>\n<style scoped>\n    .dataframe tbody tr th:only-of-type {\n        vertical-align: middle;\n    }\n\n    .dataframe tbody tr th {\n        vertical-align: top;\n    }\n\n    .dataframe thead th {\n        text-align: right;\n    }\n</style>\n<table border=\"1\" class=\"dataframe\">\n  <thead>\n    <tr style=\"text-align: right;\">\n      <th></th>\n      <th>something</th>\n      <th>a</th>\n      <th>b</th>\n      <th>c</th>\n      <th>d</th>\n      <th>message</th>\n    </tr>\n  </thead>\n  <tbody>\n    <tr>\n      <th>0</th>\n      <td>one</td>\n      <td>1</td>\n      <td>2</td>\n      <td>3.0</td>\n      <td>4</td>\n      <td>NaN</td>\n    </tr>\n    <tr>\n      <th>1</th>\n      <td>two</td>\n      <td>5</td>\n      <td>6</td>\n      <td>NaN</td>\n      <td>8</td>\n      <td>world</td>\n    </tr>\n    <tr>\n      <th>2</th>\n      <td>three</td>\n      <td>9</td>\n      <td>10</td>\n      <td>11.0</td>\n      <td>12</td>\n      <td>foo</td>\n    </tr>\n  </tbody>\n</table>\n</div>"
          },
          "metadata": {}
        }
      ],
      "execution_count": 3,
      "metadata": {
        "collapsed": false,
        "deletable": true,
        "editable": true,
        "gather": {
          "logged": 1606347068350
        }
      }
    },
    {
      "cell_type": "code",
      "source": [
        "data.to_csv('examples/out.csv')\n",
        "!cat examples/out.csv"
      ],
      "outputs": [
        {
          "output_type": "stream",
          "name": "stdout",
          "text": [
            ",something,a,b,c,d,message\r\n",
            "0,one,1,2,3.0,4,\r\n",
            "1,two,5,6,,8,world\r\n",
            "2,three,9,10,11.0,12,foo\r\n"
          ]
        }
      ],
      "execution_count": 4,
      "metadata": {
        "collapsed": false,
        "deletable": true,
        "editable": true,
        "gather": {
          "logged": 1606347071947
        }
      }
    },
    {
      "cell_type": "code",
      "source": [
        "#escrevendo para a saída padrão stdout\n",
        "import sys\n",
        "data.to_csv(sys.stdout, sep='|')"
      ],
      "outputs": [
        {
          "output_type": "stream",
          "name": "stdout",
          "text": [
            "|something|a|b|c|d|message\n",
            "0|one|1|2|3.0|4|\n",
            "1|two|5|6||8|world\n",
            "2|three|9|10|11.0|12|foo\n"
          ]
        }
      ],
      "execution_count": 5,
      "metadata": {
        "collapsed": false,
        "deletable": true,
        "editable": true,
        "gather": {
          "logged": 1606347074761
        }
      }
    },
    {
      "cell_type": "code",
      "source": [
        "#Valores ausentes aparecem como strings vazias na \r\n",
        "#saída. Você pode representá-las com outro valor\r\n",
        "data.to_csv(sys.stdout, na_rep='NULL')"
      ],
      "outputs": [
        {
          "output_type": "stream",
          "name": "stdout",
          "text": [
            ",something,a,b,c,d,message\n",
            "0,one,1,2,3.0,4,NULL\n",
            "1,two,5,6,NULL,8,world\n",
            "2,three,9,10,11.0,12,foo\n"
          ]
        }
      ],
      "execution_count": 6,
      "metadata": {
        "collapsed": false,
        "deletable": true,
        "editable": true,
        "gather": {
          "logged": 1606347077282
        }
      }
    },
    {
      "cell_type": "code",
      "source": [
        "data.to_csv(sys.stdout, index=False, header=False)"
      ],
      "outputs": [
        {
          "output_type": "stream",
          "name": "stdout",
          "text": [
            "one,1,2,3.0,4,\n",
            "two,5,6,,8,world\n",
            "three,9,10,11.0,12,foo\n"
          ]
        }
      ],
      "execution_count": 7,
      "metadata": {
        "collapsed": false,
        "deletable": true,
        "editable": true,
        "gather": {
          "logged": 1606347080281
        }
      }
    },
    {
      "cell_type": "code",
      "source": [
        "data.to_csv(sys.stdout, index=False, columns=['a', 'b', 'c'])"
      ],
      "outputs": [
        {
          "output_type": "stream",
          "name": "stdout",
          "text": [
            "a,b,c\n",
            "1,2,3.0\n",
            "5,6,\n",
            "9,10,11.0\n"
          ]
        }
      ],
      "execution_count": 8,
      "metadata": {
        "collapsed": false,
        "deletable": true,
        "editable": true,
        "gather": {
          "logged": 1606347157616
        }
      }
    },
    {
      "cell_type": "markdown",
      "source": [
        "### Working with Delimited Formats"
      ],
      "metadata": {
        "deletable": true,
        "editable": true
      }
    },
    {
      "cell_type": "code",
      "source": [
        "!cat examples/ex7.csv"
      ],
      "outputs": [
        {
          "output_type": "stream",
          "name": "stdout",
          "text": [
            "\"a\",\"b\",\"c\"\r",
            "\r\n",
            "\"1\",\"2\",\"3\"\r",
            "\r\n",
            "\"1\",\"2\",\"3\"\r",
            "\r\n"
          ]
        }
      ],
      "execution_count": 10,
      "metadata": {
        "collapsed": false,
        "deletable": true,
        "editable": true
      }
    },
    {
      "cell_type": "code",
      "source": [
        "import csv\n",
        "f = open('examples/ex7.csv')\n",
        "\n",
        "reader = csv.reader(f)"
      ],
      "outputs": [],
      "execution_count": 21,
      "metadata": {
        "collapsed": false,
        "deletable": true,
        "editable": true,
        "gather": {
          "logged": 1606348061130
        }
      }
    },
    {
      "cell_type": "code",
      "source": [
        "for line in reader:\n",
        "    print(line)"
      ],
      "outputs": [
        {
          "output_type": "stream",
          "name": "stdout",
          "text": [
            "['a', 'b', 'c']\n",
            "['1', '2', '3']\n",
            "['1', '2', '3']\n"
          ]
        }
      ],
      "execution_count": 22,
      "metadata": {
        "collapsed": false,
        "deletable": true,
        "editable": true,
        "gather": {
          "logged": 1606348062845
        }
      }
    },
    {
      "cell_type": "code",
      "source": [
        "with open('examples/ex7.csv') as f:\n",
        "    lines = list(csv.reader(f))"
      ],
      "outputs": [],
      "execution_count": 23,
      "metadata": {
        "collapsed": false,
        "deletable": true,
        "editable": true,
        "gather": {
          "logged": 1606348065115
        }
      }
    },
    {
      "cell_type": "code",
      "source": [
        "header, values = lines[0], lines[1:]"
      ],
      "outputs": [],
      "execution_count": 24,
      "metadata": {
        "collapsed": false,
        "deletable": true,
        "editable": true,
        "gather": {
          "logged": 1606348066661
        }
      }
    },
    {
      "cell_type": "code",
      "source": [
        "header"
      ],
      "outputs": [
        {
          "output_type": "execute_result",
          "execution_count": 25,
          "data": {
            "text/plain": "['a', 'b', 'c']"
          },
          "metadata": {}
        }
      ],
      "execution_count": 25,
      "metadata": {
        "collapsed": true,
        "jupyter": {
          "source_hidden": false,
          "outputs_hidden": false
        },
        "nteract": {
          "transient": {
            "deleting": false
          }
        },
        "gather": {
          "logged": 1606348067560
        }
      }
    },
    {
      "cell_type": "code",
      "source": [
        "values"
      ],
      "outputs": [
        {
          "output_type": "execute_result",
          "execution_count": 26,
          "data": {
            "text/plain": "[['1', '2', '3'], ['1', '2', '3']]"
          },
          "metadata": {}
        }
      ],
      "execution_count": 26,
      "metadata": {
        "collapsed": true,
        "jupyter": {
          "source_hidden": false,
          "outputs_hidden": false
        },
        "nteract": {
          "transient": {
            "deleting": false
          }
        },
        "gather": {
          "logged": 1606348068764
        }
      }
    },
    {
      "cell_type": "code",
      "source": [
        "#Então podemos criar um dicionário de colunas de dados usando uma dictionary \n",
        "#comprehension e a expressão zip(*values), \n",
        "#que faz a transposição das linhas para as colunas:\n",
        "\n",
        "data_dict = {h: v for h, v in zip(header, zip(*values))}\n",
        "data_dict"
      ],
      "outputs": [
        {
          "output_type": "execute_result",
          "execution_count": 27,
          "data": {
            "text/plain": "{'a': ('1', '1'), 'b': ('2', '2'), 'c': ('3', '3')}"
          },
          "metadata": {}
        }
      ],
      "execution_count": 27,
      "metadata": {
        "collapsed": false,
        "deletable": true,
        "editable": true,
        "gather": {
          "logged": 1606348071482
        }
      }
    },
    {
      "cell_type": "markdown",
      "source": [
        "|Argumento| | Descrição|\r\n",
        "|---------|-|----------|\r\n",
        "|delimiter| |String de um caractere para separar os campos; o default é ','.|\r\n",
        "|lineterminator| |Finalizador de linha para escrita; o default é '\\r\\n'. O reader ignora isso e reconhece finalizadores de linha em plataformas diferentes.| \r\n",
        "|quotechar| |Caractere de aspas para campos com caracteres especiais (como um delimitador); o default é '\"'.|\r\n",
        "|quoting| |Convenção para aspas. As opções incluem csv.QUOTE_ALL (aspas em todos os campos), csv.QUOTE_MINIMAL (somente campos com caracteres especiais, como o delimitador), csv.QUOTE_NONNUMERIC e csv.QUOTE_NONE (sem aspas). Consulte a documentação de Python para ver todos os detalhes. O default é QUOTE_MINIMAL.|\r\n",
        "|skipinitialspace| |Ignora espaços em branco depois de cada delimitador; o default é False.|\r\n",
        "|doublequote| |Como lidar com o caractere de aspas em um campo; se for True, é duplo (consulte a documentação online para ver todos os detalhes e o comportamento).|\r\n",
        "|escapechar| |String para escapar o delimitador se quoting estiver definido com csv.QUOTE_NONE; o default é desativado.|"
      ],
      "metadata": {
        "nteract": {
          "transient": {
            "deleting": false
          }
        }
      }
    },
    {
      "cell_type": "markdown",
      "source": [
        "### JSON Data"
      ],
      "metadata": {
        "deletable": true,
        "editable": true
      }
    },
    {
      "cell_type": "code",
      "source": [
        "obj = \"\"\"\n",
        "{\"name\": \"Wes\",\n",
        " \"places_lived\": [\"United States\", \"Spain\", \"Germany\"],\n",
        " \"pet\": null,\n",
        " \"siblings\": [{\"name\": \"Scott\", \"age\": 30, \"pets\": [\"Zeus\", \"Zuko\"]},\n",
        "              {\"name\": \"Katie\", \"age\": 38,\n",
        "               \"pets\": [\"Sixes\", \"Stache\", \"Cisco\"]}]\n",
        "}\n",
        "\"\"\""
      ],
      "outputs": [],
      "execution_count": 31,
      "metadata": {
        "collapsed": false,
        "deletable": true,
        "editable": true,
        "gather": {
          "logged": 1606351233838
        }
      }
    },
    {
      "cell_type": "code",
      "source": [
        "import json\n",
        "result = json.loads(obj)\n",
        "result"
      ],
      "outputs": [
        {
          "output_type": "execute_result",
          "execution_count": 32,
          "data": {
            "text/plain": "{'name': 'Wes',\n 'places_lived': ['United States', 'Spain', 'Germany'],\n 'pet': None,\n 'siblings': [{'name': 'Scott', 'age': 30, 'pets': ['Zeus', 'Zuko']},\n  {'name': 'Katie', 'age': 38, 'pets': ['Sixes', 'Stache', 'Cisco']}]}"
          },
          "metadata": {}
        }
      ],
      "execution_count": 32,
      "metadata": {
        "collapsed": false,
        "deletable": true,
        "editable": true,
        "gather": {
          "logged": 1606351236328
        }
      }
    },
    {
      "cell_type": "code",
      "source": [
        "asjson = json.dumps(result)"
      ],
      "outputs": [],
      "execution_count": 33,
      "metadata": {
        "collapsed": false,
        "deletable": true,
        "editable": true,
        "gather": {
          "logged": 1606351241881
        }
      }
    },
    {
      "cell_type": "code",
      "source": [
        "siblings = pd.DataFrame(result['siblings'], columns=['name', 'age'])\n",
        "siblings"
      ],
      "outputs": [
        {
          "output_type": "execute_result",
          "execution_count": 34,
          "data": {
            "text/plain": "    name  age\n0  Scott   30\n1  Katie   38",
            "text/html": "<div>\n<style scoped>\n    .dataframe tbody tr th:only-of-type {\n        vertical-align: middle;\n    }\n\n    .dataframe tbody tr th {\n        vertical-align: top;\n    }\n\n    .dataframe thead th {\n        text-align: right;\n    }\n</style>\n<table border=\"1\" class=\"dataframe\">\n  <thead>\n    <tr style=\"text-align: right;\">\n      <th></th>\n      <th>name</th>\n      <th>age</th>\n    </tr>\n  </thead>\n  <tbody>\n    <tr>\n      <th>0</th>\n      <td>Scott</td>\n      <td>30</td>\n    </tr>\n    <tr>\n      <th>1</th>\n      <td>Katie</td>\n      <td>38</td>\n    </tr>\n  </tbody>\n</table>\n</div>"
          },
          "metadata": {}
        }
      ],
      "execution_count": 34,
      "metadata": {
        "collapsed": false,
        "deletable": true,
        "editable": true,
        "gather": {
          "logged": 1606351244480
        }
      }
    },
    {
      "cell_type": "code",
      "source": [
        "!cat examples/example.json"
      ],
      "outputs": [
        {
          "output_type": "stream",
          "name": "stdout",
          "text": [
            "[{\"a\": 1, \"b\": 2, \"c\": 3},\r",
            "\r\n",
            " {\"a\": 4, \"b\": 5, \"c\": 6},\r",
            "\r\n",
            " {\"a\": 7, \"b\": 8, \"c\": 9}]\r",
            "\r\n"
          ]
        }
      ],
      "execution_count": 35,
      "metadata": {
        "collapsed": false,
        "deletable": true,
        "editable": true
      }
    },
    {
      "cell_type": "code",
      "source": [
        "data = pd.read_json('examples/example.json')\n",
        "data"
      ],
      "outputs": [
        {
          "output_type": "execute_result",
          "execution_count": 36,
          "data": {
            "text/plain": "   a  b  c\n0  1  2  3\n1  4  5  6\n2  7  8  9",
            "text/html": "<div>\n<style scoped>\n    .dataframe tbody tr th:only-of-type {\n        vertical-align: middle;\n    }\n\n    .dataframe tbody tr th {\n        vertical-align: top;\n    }\n\n    .dataframe thead th {\n        text-align: right;\n    }\n</style>\n<table border=\"1\" class=\"dataframe\">\n  <thead>\n    <tr style=\"text-align: right;\">\n      <th></th>\n      <th>a</th>\n      <th>b</th>\n      <th>c</th>\n    </tr>\n  </thead>\n  <tbody>\n    <tr>\n      <th>0</th>\n      <td>1</td>\n      <td>2</td>\n      <td>3</td>\n    </tr>\n    <tr>\n      <th>1</th>\n      <td>4</td>\n      <td>5</td>\n      <td>6</td>\n    </tr>\n    <tr>\n      <th>2</th>\n      <td>7</td>\n      <td>8</td>\n      <td>9</td>\n    </tr>\n  </tbody>\n</table>\n</div>"
          },
          "metadata": {}
        }
      ],
      "execution_count": 36,
      "metadata": {
        "collapsed": false,
        "deletable": true,
        "editable": true,
        "gather": {
          "logged": 1606351286810
        }
      }
    },
    {
      "cell_type": "code",
      "source": [
        "print(data.to_json())\n",
        "print(data.to_json(orient='records'))"
      ],
      "outputs": [
        {
          "output_type": "stream",
          "name": "stdout",
          "text": [
            "{\"a\":{\"0\":1,\"1\":4,\"2\":7},\"b\":{\"0\":2,\"1\":5,\"2\":8},\"c\":{\"0\":3,\"1\":6,\"2\":9}}\n",
            "[{\"a\":1,\"b\":2,\"c\":3},{\"a\":4,\"b\":5,\"c\":6},{\"a\":7,\"b\":8,\"c\":9}]\n"
          ]
        }
      ],
      "execution_count": 37,
      "metadata": {
        "collapsed": false,
        "deletable": true,
        "editable": true,
        "gather": {
          "logged": 1606351290658
        }
      }
    },
    {
      "cell_type": "markdown",
      "source": [
        "### XML and HTML: Web Scraping"
      ],
      "metadata": {
        "deletable": true,
        "editable": true
      }
    },
    {
      "cell_type": "code",
      "source": [
        "tables = pd.read_html('examples/fdic_failed_bank_list.html')\n",
        "len(tables)\n",
        "failures = tables[0]\n",
        "failures.head()"
      ],
      "outputs": [
        {
          "output_type": "execute_result",
          "execution_count": 38,
          "data": {
            "text/plain": "                      Bank Name             City  ST   CERT  \\\n0                   Allied Bank         Mulberry  AR     91   \n1  The Woodbury Banking Company         Woodbury  GA  11297   \n2        First CornerStone Bank  King of Prussia  PA  35312   \n3            Trust Company Bank          Memphis  TN   9956   \n4    North Milwaukee State Bank        Milwaukee  WI  20364   \n\n                 Acquiring Institution        Closing Date       Updated Date  \n0                         Today's Bank  September 23, 2016  November 17, 2016  \n1                          United Bank     August 19, 2016  November 17, 2016  \n2  First-Citizens Bank & Trust Company         May 6, 2016  September 6, 2016  \n3           The Bank of Fayette County      April 29, 2016  September 6, 2016  \n4  First-Citizens Bank & Trust Company      March 11, 2016      June 16, 2016  ",
            "text/html": "<div>\n<style scoped>\n    .dataframe tbody tr th:only-of-type {\n        vertical-align: middle;\n    }\n\n    .dataframe tbody tr th {\n        vertical-align: top;\n    }\n\n    .dataframe thead th {\n        text-align: right;\n    }\n</style>\n<table border=\"1\" class=\"dataframe\">\n  <thead>\n    <tr style=\"text-align: right;\">\n      <th></th>\n      <th>Bank Name</th>\n      <th>City</th>\n      <th>ST</th>\n      <th>CERT</th>\n      <th>Acquiring Institution</th>\n      <th>Closing Date</th>\n      <th>Updated Date</th>\n    </tr>\n  </thead>\n  <tbody>\n    <tr>\n      <th>0</th>\n      <td>Allied Bank</td>\n      <td>Mulberry</td>\n      <td>AR</td>\n      <td>91</td>\n      <td>Today's Bank</td>\n      <td>September 23, 2016</td>\n      <td>November 17, 2016</td>\n    </tr>\n    <tr>\n      <th>1</th>\n      <td>The Woodbury Banking Company</td>\n      <td>Woodbury</td>\n      <td>GA</td>\n      <td>11297</td>\n      <td>United Bank</td>\n      <td>August 19, 2016</td>\n      <td>November 17, 2016</td>\n    </tr>\n    <tr>\n      <th>2</th>\n      <td>First CornerStone Bank</td>\n      <td>King of Prussia</td>\n      <td>PA</td>\n      <td>35312</td>\n      <td>First-Citizens Bank &amp; Trust Company</td>\n      <td>May 6, 2016</td>\n      <td>September 6, 2016</td>\n    </tr>\n    <tr>\n      <th>3</th>\n      <td>Trust Company Bank</td>\n      <td>Memphis</td>\n      <td>TN</td>\n      <td>9956</td>\n      <td>The Bank of Fayette County</td>\n      <td>April 29, 2016</td>\n      <td>September 6, 2016</td>\n    </tr>\n    <tr>\n      <th>4</th>\n      <td>North Milwaukee State Bank</td>\n      <td>Milwaukee</td>\n      <td>WI</td>\n      <td>20364</td>\n      <td>First-Citizens Bank &amp; Trust Company</td>\n      <td>March 11, 2016</td>\n      <td>June 16, 2016</td>\n    </tr>\n  </tbody>\n</table>\n</div>"
          },
          "metadata": {}
        }
      ],
      "execution_count": 38,
      "metadata": {
        "collapsed": false,
        "deletable": true,
        "editable": true,
        "gather": {
          "logged": 1606351573180
        }
      }
    },
    {
      "cell_type": "code",
      "source": [
        "close_timestamps = pd.to_datetime(failures['Closing Date'])\n",
        "close_timestamps.dt.year.value_counts()"
      ],
      "outputs": [
        {
          "output_type": "execute_result",
          "execution_count": 39,
          "data": {
            "text/plain": "2010    157\n2009    140\n2011     92\n2012     51\n2008     25\n2013     24\n2014     18\n2002     11\n2015      8\n2016      5\n2004      4\n2001      4\n2007      3\n2003      3\n2000      2\nName: Closing Date, dtype: int64"
          },
          "metadata": {}
        }
      ],
      "execution_count": 39,
      "metadata": {
        "collapsed": false,
        "deletable": true,
        "editable": true,
        "gather": {
          "logged": 1606351590862
        }
      }
    },
    {
      "cell_type": "markdown",
      "source": [
        "#### Parsing XML with lxml.objectify"
      ],
      "metadata": {
        "deletable": true,
        "editable": true
      }
    },
    {
      "cell_type": "markdown",
      "source": [
        "<INDICATOR>\n",
        "  <INDICATOR_SEQ>373889</INDICATOR_SEQ>\n",
        "  <PARENT_SEQ></PARENT_SEQ>\n",
        "  <AGENCY_NAME>Metro-North Railroad</AGENCY_NAME>\n",
        "  <INDICATOR_NAME>Escalator Availability</INDICATOR_NAME>\n",
        "  <DESCRIPTION>Percent of the time that escalators are operational\n",
        "  systemwide. The availability rate is based on physical observations performed\n",
        "  the morning of regular business days only. This is a new indicator the agency\n",
        "  began reporting in 2009.</DESCRIPTION>\n",
        "  <PERIOD_YEAR>2011</PERIOD_YEAR>\n",
        "  <PERIOD_MONTH>12</PERIOD_MONTH>\n",
        "  <CATEGORY>Service Indicators</CATEGORY>\n",
        "  <FREQUENCY>M</FREQUENCY>\n",
        "  <DESIRED_CHANGE>U</DESIRED_CHANGE>\n",
        "  <INDICATOR_UNIT>%</INDICATOR_UNIT>\n",
        "  <DECIMAL_PLACES>1</DECIMAL_PLACES>\n",
        "  <YTD_TARGET>97.00</YTD_TARGET>\n",
        "  <YTD_ACTUAL></YTD_ACTUAL>\n",
        "  <MONTHLY_TARGET>97.00</MONTHLY_TARGET>\n",
        "  <MONTHLY_ACTUAL></MONTHLY_ACTUAL>\n",
        "</INDICATOR>"
      ],
      "metadata": {
        "deletable": true,
        "editable": true
      }
    },
    {
      "cell_type": "code",
      "source": [
        "from lxml import objectify\n",
        "\n",
        "path = 'datasets/mta_perf/Performance_MNR.xml'\n",
        "parsed = objectify.parse(open(path))\n",
        "root = parsed.getroot()"
      ],
      "outputs": [],
      "execution_count": 41,
      "metadata": {
        "collapsed": false,
        "deletable": true,
        "editable": true,
        "gather": {
          "logged": 1606354000268
        }
      }
    },
    {
      "cell_type": "code",
      "source": [
        "data = []\n",
        "\n",
        "skip_fields = ['PARENT_SEQ', 'INDICATOR_SEQ',\n",
        "               'DESIRED_CHANGE', 'DECIMAL_PLACES']\n",
        "\n",
        "for elt in root.INDICATOR:\n",
        "    el_data = {}\n",
        "    for child in elt.getchildren():\n",
        "        if child.tag in skip_fields:\n",
        "            continue\n",
        "        el_data[child.tag] = child.pyval\n",
        "    data.append(el_data)"
      ],
      "outputs": [],
      "execution_count": 42,
      "metadata": {
        "collapsed": false,
        "deletable": true,
        "editable": true,
        "gather": {
          "logged": 1606354027569
        }
      }
    },
    {
      "cell_type": "code",
      "source": [
        "perf = pd.DataFrame(data)\n",
        "perf.head()"
      ],
      "outputs": [
        {
          "output_type": "execute_result",
          "execution_count": 43,
          "data": {
            "text/plain": "            AGENCY_NAME                        INDICATOR_NAME  \\\n0  Metro-North Railroad  On-Time Performance (West of Hudson)   \n1  Metro-North Railroad  On-Time Performance (West of Hudson)   \n2  Metro-North Railroad  On-Time Performance (West of Hudson)   \n3  Metro-North Railroad  On-Time Performance (West of Hudson)   \n4  Metro-North Railroad  On-Time Performance (West of Hudson)   \n\n                                         DESCRIPTION  PERIOD_YEAR  \\\n0  Percent of commuter trains that arrive at thei...         2008   \n1  Percent of commuter trains that arrive at thei...         2008   \n2  Percent of commuter trains that arrive at thei...         2008   \n3  Percent of commuter trains that arrive at thei...         2008   \n4  Percent of commuter trains that arrive at thei...         2008   \n\n   PERIOD_MONTH            CATEGORY FREQUENCY INDICATOR_UNIT YTD_TARGET  \\\n0             1  Service Indicators         M              %         95   \n1             2  Service Indicators         M              %         95   \n2             3  Service Indicators         M              %         95   \n3             4  Service Indicators         M              %         95   \n4             5  Service Indicators         M              %         95   \n\n  YTD_ACTUAL MONTHLY_TARGET MONTHLY_ACTUAL  \n0       96.9             95           96.9  \n1         96             95             95  \n2       96.3             95           96.9  \n3       96.8             95           98.3  \n4       96.6             95           95.8  ",
            "text/html": "<div>\n<style scoped>\n    .dataframe tbody tr th:only-of-type {\n        vertical-align: middle;\n    }\n\n    .dataframe tbody tr th {\n        vertical-align: top;\n    }\n\n    .dataframe thead th {\n        text-align: right;\n    }\n</style>\n<table border=\"1\" class=\"dataframe\">\n  <thead>\n    <tr style=\"text-align: right;\">\n      <th></th>\n      <th>AGENCY_NAME</th>\n      <th>INDICATOR_NAME</th>\n      <th>DESCRIPTION</th>\n      <th>PERIOD_YEAR</th>\n      <th>PERIOD_MONTH</th>\n      <th>CATEGORY</th>\n      <th>FREQUENCY</th>\n      <th>INDICATOR_UNIT</th>\n      <th>YTD_TARGET</th>\n      <th>YTD_ACTUAL</th>\n      <th>MONTHLY_TARGET</th>\n      <th>MONTHLY_ACTUAL</th>\n    </tr>\n  </thead>\n  <tbody>\n    <tr>\n      <th>0</th>\n      <td>Metro-North Railroad</td>\n      <td>On-Time Performance (West of Hudson)</td>\n      <td>Percent of commuter trains that arrive at thei...</td>\n      <td>2008</td>\n      <td>1</td>\n      <td>Service Indicators</td>\n      <td>M</td>\n      <td>%</td>\n      <td>95</td>\n      <td>96.9</td>\n      <td>95</td>\n      <td>96.9</td>\n    </tr>\n    <tr>\n      <th>1</th>\n      <td>Metro-North Railroad</td>\n      <td>On-Time Performance (West of Hudson)</td>\n      <td>Percent of commuter trains that arrive at thei...</td>\n      <td>2008</td>\n      <td>2</td>\n      <td>Service Indicators</td>\n      <td>M</td>\n      <td>%</td>\n      <td>95</td>\n      <td>96</td>\n      <td>95</td>\n      <td>95</td>\n    </tr>\n    <tr>\n      <th>2</th>\n      <td>Metro-North Railroad</td>\n      <td>On-Time Performance (West of Hudson)</td>\n      <td>Percent of commuter trains that arrive at thei...</td>\n      <td>2008</td>\n      <td>3</td>\n      <td>Service Indicators</td>\n      <td>M</td>\n      <td>%</td>\n      <td>95</td>\n      <td>96.3</td>\n      <td>95</td>\n      <td>96.9</td>\n    </tr>\n    <tr>\n      <th>3</th>\n      <td>Metro-North Railroad</td>\n      <td>On-Time Performance (West of Hudson)</td>\n      <td>Percent of commuter trains that arrive at thei...</td>\n      <td>2008</td>\n      <td>4</td>\n      <td>Service Indicators</td>\n      <td>M</td>\n      <td>%</td>\n      <td>95</td>\n      <td>96.8</td>\n      <td>95</td>\n      <td>98.3</td>\n    </tr>\n    <tr>\n      <th>4</th>\n      <td>Metro-North Railroad</td>\n      <td>On-Time Performance (West of Hudson)</td>\n      <td>Percent of commuter trains that arrive at thei...</td>\n      <td>2008</td>\n      <td>5</td>\n      <td>Service Indicators</td>\n      <td>M</td>\n      <td>%</td>\n      <td>95</td>\n      <td>96.6</td>\n      <td>95</td>\n      <td>95.8</td>\n    </tr>\n  </tbody>\n</table>\n</div>"
          },
          "metadata": {}
        }
      ],
      "execution_count": 43,
      "metadata": {
        "collapsed": false,
        "deletable": true,
        "editable": true,
        "gather": {
          "logged": 1606354029100
        }
      }
    },
    {
      "cell_type": "code",
      "source": [
        "from io import StringIO\n",
        "tag = '<a href=\"http://www.google.com\">Google</a>'\n",
        "root = objectify.parse(StringIO(tag)).getroot()"
      ],
      "outputs": [],
      "execution_count": 44,
      "metadata": {
        "collapsed": false,
        "deletable": true,
        "editable": true,
        "gather": {
          "logged": 1606354033444
        }
      }
    },
    {
      "cell_type": "code",
      "source": [
        "root\n",
        "root.get('href')\n",
        "root.text"
      ],
      "outputs": [
        {
          "output_type": "execute_result",
          "execution_count": 45,
          "data": {
            "text/plain": "'Google'"
          },
          "metadata": {}
        }
      ],
      "execution_count": 45,
      "metadata": {
        "collapsed": false,
        "deletable": true,
        "editable": true,
        "gather": {
          "logged": 1606354037243
        }
      }
    },
    {
      "cell_type": "markdown",
      "source": [
        "## Binary Data Formats"
      ],
      "metadata": {
        "deletable": true,
        "editable": true
      }
    },
    {
      "cell_type": "code",
      "source": [
        "frame = pd.read_csv('examples/ex1.csv')\n",
        "frame\n",
        "frame.to_pickle('examples/frame_pickle')"
      ],
      "outputs": [],
      "execution_count": 46,
      "metadata": {
        "collapsed": false,
        "deletable": true,
        "editable": true,
        "gather": {
          "logged": 1606354115924
        }
      }
    },
    {
      "cell_type": "code",
      "source": [
        "pd.read_pickle('examples/frame_pickle')"
      ],
      "outputs": [
        {
          "output_type": "execute_result",
          "execution_count": 47,
          "data": {
            "text/plain": "   a   b   c   d message\n0  1   2   3   4   hello\n1  5   6   7   8   world\n2  9  10  11  12     foo",
            "text/html": "<div>\n<style scoped>\n    .dataframe tbody tr th:only-of-type {\n        vertical-align: middle;\n    }\n\n    .dataframe tbody tr th {\n        vertical-align: top;\n    }\n\n    .dataframe thead th {\n        text-align: right;\n    }\n</style>\n<table border=\"1\" class=\"dataframe\">\n  <thead>\n    <tr style=\"text-align: right;\">\n      <th></th>\n      <th>a</th>\n      <th>b</th>\n      <th>c</th>\n      <th>d</th>\n      <th>message</th>\n    </tr>\n  </thead>\n  <tbody>\n    <tr>\n      <th>0</th>\n      <td>1</td>\n      <td>2</td>\n      <td>3</td>\n      <td>4</td>\n      <td>hello</td>\n    </tr>\n    <tr>\n      <th>1</th>\n      <td>5</td>\n      <td>6</td>\n      <td>7</td>\n      <td>8</td>\n      <td>world</td>\n    </tr>\n    <tr>\n      <th>2</th>\n      <td>9</td>\n      <td>10</td>\n      <td>11</td>\n      <td>12</td>\n      <td>foo</td>\n    </tr>\n  </tbody>\n</table>\n</div>"
          },
          "metadata": {}
        }
      ],
      "execution_count": 47,
      "metadata": {
        "collapsed": false,
        "deletable": true,
        "editable": true,
        "gather": {
          "logged": 1606354118890
        }
      }
    },
    {
      "cell_type": "code",
      "source": [
        "!rm examples/frame_pickle"
      ],
      "outputs": [],
      "execution_count": null,
      "metadata": {
        "collapsed": false,
        "deletable": true,
        "editable": true
      }
    },
    {
      "cell_type": "markdown",
      "source": [
        "### Using HDF5 Format"
      ],
      "metadata": {
        "deletable": true,
        "editable": true
      }
    },
    {
      "cell_type": "code",
      "source": [
        "!pip install tables"
      ],
      "outputs": [
        {
          "output_type": "stream",
          "name": "stdout",
          "text": [
            "Collecting tables\n",
            "  Downloading tables-3.6.1-cp36-cp36m-manylinux1_x86_64.whl (4.3 MB)\n",
            "\u001b[K     |████████████████████████████████| 4.3 MB 17.0 MB/s eta 0:00:01\n",
            "\u001b[?25hRequirement already satisfied: numexpr>=2.6.2 in /anaconda/envs/azureml_py36/lib/python3.6/site-packages (from tables) (2.7.1)\n",
            "Requirement already satisfied: numpy>=1.9.3 in /anaconda/envs/azureml_py36/lib/python3.6/site-packages (from tables) (1.18.5)\n",
            "Installing collected packages: tables\n",
            "Successfully installed tables-3.6.1\n"
          ]
        }
      ],
      "execution_count": 49,
      "metadata": {
        "collapsed": true,
        "jupyter": {
          "source_hidden": false,
          "outputs_hidden": false
        },
        "nteract": {
          "transient": {
            "deleting": false
          }
        }
      }
    },
    {
      "cell_type": "code",
      "source": [
        "frame = pd.DataFrame({'a': np.random.randn(100)})\n",
        "store = pd.HDFStore('mydata.h5')\n",
        "store['obj1'] = frame\n",
        "store['obj1_col'] = frame['a']\n",
        "store"
      ],
      "outputs": [
        {
          "output_type": "execute_result",
          "execution_count": 50,
          "data": {
            "text/plain": "<class 'pandas.io.pytables.HDFStore'>\nFile path: mydata.h5"
          },
          "metadata": {}
        }
      ],
      "execution_count": 50,
      "metadata": {
        "collapsed": false,
        "deletable": true,
        "editable": true,
        "gather": {
          "logged": 1606354262895
        }
      }
    },
    {
      "cell_type": "code",
      "source": [
        "store['obj1']"
      ],
      "outputs": [
        {
          "output_type": "execute_result",
          "execution_count": 51,
          "data": {
            "text/plain": "           a\n0  -1.565657\n1  -0.562540\n2  -0.032664\n3  -0.929006\n4  -0.482573\n..       ...\n95  0.910983\n96 -1.020903\n97 -1.413416\n98  1.296608\n99  0.252275\n\n[100 rows x 1 columns]",
            "text/html": "<div>\n<style scoped>\n    .dataframe tbody tr th:only-of-type {\n        vertical-align: middle;\n    }\n\n    .dataframe tbody tr th {\n        vertical-align: top;\n    }\n\n    .dataframe thead th {\n        text-align: right;\n    }\n</style>\n<table border=\"1\" class=\"dataframe\">\n  <thead>\n    <tr style=\"text-align: right;\">\n      <th></th>\n      <th>a</th>\n    </tr>\n  </thead>\n  <tbody>\n    <tr>\n      <th>0</th>\n      <td>-1.565657</td>\n    </tr>\n    <tr>\n      <th>1</th>\n      <td>-0.562540</td>\n    </tr>\n    <tr>\n      <th>2</th>\n      <td>-0.032664</td>\n    </tr>\n    <tr>\n      <th>3</th>\n      <td>-0.929006</td>\n    </tr>\n    <tr>\n      <th>4</th>\n      <td>-0.482573</td>\n    </tr>\n    <tr>\n      <th>...</th>\n      <td>...</td>\n    </tr>\n    <tr>\n      <th>95</th>\n      <td>0.910983</td>\n    </tr>\n    <tr>\n      <th>96</th>\n      <td>-1.020903</td>\n    </tr>\n    <tr>\n      <th>97</th>\n      <td>-1.413416</td>\n    </tr>\n    <tr>\n      <th>98</th>\n      <td>1.296608</td>\n    </tr>\n    <tr>\n      <th>99</th>\n      <td>0.252275</td>\n    </tr>\n  </tbody>\n</table>\n<p>100 rows × 1 columns</p>\n</div>"
          },
          "metadata": {}
        }
      ],
      "execution_count": 51,
      "metadata": {
        "collapsed": false,
        "deletable": true,
        "editable": true,
        "gather": {
          "logged": 1606354267517
        }
      }
    },
    {
      "cell_type": "code",
      "source": [
        "store.put('obj2', frame, format='table')\n",
        "store.select('obj2', where=['index >= 10 and index <= 15'])\n",
        "store.close()"
      ],
      "outputs": [],
      "execution_count": 52,
      "metadata": {
        "collapsed": false,
        "deletable": true,
        "editable": true,
        "gather": {
          "logged": 1606354275020
        }
      }
    },
    {
      "cell_type": "code",
      "source": [
        "frame.to_hdf('mydata.h5', 'obj3', format='table')\n",
        "pd.read_hdf('mydata.h5', 'obj3', where=['index < 5'])"
      ],
      "outputs": [
        {
          "output_type": "execute_result",
          "execution_count": 53,
          "data": {
            "text/plain": "          a\n0 -1.565657\n1 -0.562540\n2 -0.032664\n3 -0.929006\n4 -0.482573",
            "text/html": "<div>\n<style scoped>\n    .dataframe tbody tr th:only-of-type {\n        vertical-align: middle;\n    }\n\n    .dataframe tbody tr th {\n        vertical-align: top;\n    }\n\n    .dataframe thead th {\n        text-align: right;\n    }\n</style>\n<table border=\"1\" class=\"dataframe\">\n  <thead>\n    <tr style=\"text-align: right;\">\n      <th></th>\n      <th>a</th>\n    </tr>\n  </thead>\n  <tbody>\n    <tr>\n      <th>0</th>\n      <td>-1.565657</td>\n    </tr>\n    <tr>\n      <th>1</th>\n      <td>-0.562540</td>\n    </tr>\n    <tr>\n      <th>2</th>\n      <td>-0.032664</td>\n    </tr>\n    <tr>\n      <th>3</th>\n      <td>-0.929006</td>\n    </tr>\n    <tr>\n      <th>4</th>\n      <td>-0.482573</td>\n    </tr>\n  </tbody>\n</table>\n</div>"
          },
          "metadata": {}
        }
      ],
      "execution_count": 53,
      "metadata": {
        "collapsed": false,
        "deletable": true,
        "editable": true,
        "gather": {
          "logged": 1606354280442
        }
      }
    },
    {
      "cell_type": "code",
      "source": [
        "os.remove('mydata.h5')"
      ],
      "outputs": [],
      "execution_count": 54,
      "metadata": {
        "collapsed": false,
        "deletable": true,
        "editable": true,
        "gather": {
          "logged": 1606354286732
        }
      }
    },
    {
      "cell_type": "markdown",
      "source": [
        "### Reading Microsoft Excel Files"
      ],
      "metadata": {
        "deletable": true,
        "editable": true
      }
    },
    {
      "cell_type": "code",
      "source": [
        "!pip install xlrd"
      ],
      "outputs": [
        {
          "output_type": "stream",
          "name": "stdout",
          "text": [
            "Collecting xlrd\n",
            "  Downloading xlrd-1.2.0-py2.py3-none-any.whl (103 kB)\n",
            "\u001b[K     |████████████████████████████████| 103 kB 15.7 MB/s eta 0:00:01\n",
            "\u001b[?25hInstalling collected packages: xlrd\n",
            "Successfully installed xlrd-1.2.0\n"
          ]
        }
      ],
      "execution_count": 56,
      "metadata": {
        "collapsed": true,
        "jupyter": {
          "source_hidden": false,
          "outputs_hidden": false
        },
        "nteract": {
          "transient": {
            "deleting": false
          }
        }
      }
    },
    {
      "cell_type": "code",
      "source": [
        "xlsx = pd.ExcelFile('examples/ex1.xlsx')"
      ],
      "outputs": [],
      "execution_count": 57,
      "metadata": {
        "collapsed": false,
        "deletable": true,
        "editable": true,
        "gather": {
          "logged": 1606354381438
        }
      }
    },
    {
      "cell_type": "code",
      "source": [
        "pd.read_excel(xlsx, 'Sheet1')"
      ],
      "outputs": [
        {
          "output_type": "execute_result",
          "execution_count": 58,
          "data": {
            "text/plain": "   Unnamed: 0  a   b   c   d message\n0           0  1   2   3   4   hello\n1           1  5   6   7   8   world\n2           2  9  10  11  12     foo",
            "text/html": "<div>\n<style scoped>\n    .dataframe tbody tr th:only-of-type {\n        vertical-align: middle;\n    }\n\n    .dataframe tbody tr th {\n        vertical-align: top;\n    }\n\n    .dataframe thead th {\n        text-align: right;\n    }\n</style>\n<table border=\"1\" class=\"dataframe\">\n  <thead>\n    <tr style=\"text-align: right;\">\n      <th></th>\n      <th>Unnamed: 0</th>\n      <th>a</th>\n      <th>b</th>\n      <th>c</th>\n      <th>d</th>\n      <th>message</th>\n    </tr>\n  </thead>\n  <tbody>\n    <tr>\n      <th>0</th>\n      <td>0</td>\n      <td>1</td>\n      <td>2</td>\n      <td>3</td>\n      <td>4</td>\n      <td>hello</td>\n    </tr>\n    <tr>\n      <th>1</th>\n      <td>1</td>\n      <td>5</td>\n      <td>6</td>\n      <td>7</td>\n      <td>8</td>\n      <td>world</td>\n    </tr>\n    <tr>\n      <th>2</th>\n      <td>2</td>\n      <td>9</td>\n      <td>10</td>\n      <td>11</td>\n      <td>12</td>\n      <td>foo</td>\n    </tr>\n  </tbody>\n</table>\n</div>"
          },
          "metadata": {}
        }
      ],
      "execution_count": 58,
      "metadata": {
        "collapsed": false,
        "deletable": true,
        "editable": true,
        "gather": {
          "logged": 1606354384370
        }
      }
    },
    {
      "cell_type": "code",
      "source": [
        "frame = pd.read_excel('examples/ex1.xlsx', 'Sheet1')\n",
        "frame"
      ],
      "outputs": [
        {
          "output_type": "execute_result",
          "execution_count": 59,
          "data": {
            "text/plain": "   Unnamed: 0  a   b   c   d message\n0           0  1   2   3   4   hello\n1           1  5   6   7   8   world\n2           2  9  10  11  12     foo",
            "text/html": "<div>\n<style scoped>\n    .dataframe tbody tr th:only-of-type {\n        vertical-align: middle;\n    }\n\n    .dataframe tbody tr th {\n        vertical-align: top;\n    }\n\n    .dataframe thead th {\n        text-align: right;\n    }\n</style>\n<table border=\"1\" class=\"dataframe\">\n  <thead>\n    <tr style=\"text-align: right;\">\n      <th></th>\n      <th>Unnamed: 0</th>\n      <th>a</th>\n      <th>b</th>\n      <th>c</th>\n      <th>d</th>\n      <th>message</th>\n    </tr>\n  </thead>\n  <tbody>\n    <tr>\n      <th>0</th>\n      <td>0</td>\n      <td>1</td>\n      <td>2</td>\n      <td>3</td>\n      <td>4</td>\n      <td>hello</td>\n    </tr>\n    <tr>\n      <th>1</th>\n      <td>1</td>\n      <td>5</td>\n      <td>6</td>\n      <td>7</td>\n      <td>8</td>\n      <td>world</td>\n    </tr>\n    <tr>\n      <th>2</th>\n      <td>2</td>\n      <td>9</td>\n      <td>10</td>\n      <td>11</td>\n      <td>12</td>\n      <td>foo</td>\n    </tr>\n  </tbody>\n</table>\n</div>"
          },
          "metadata": {}
        }
      ],
      "execution_count": 59,
      "metadata": {
        "collapsed": false,
        "deletable": true,
        "editable": true,
        "gather": {
          "logged": 1606354390062
        }
      }
    },
    {
      "cell_type": "code",
      "source": [
        "!pip install openpyxl"
      ],
      "outputs": [
        {
          "output_type": "stream",
          "name": "stdout",
          "text": [
            "Collecting openpyxl\n",
            "  Downloading openpyxl-3.0.5-py2.py3-none-any.whl (242 kB)\n",
            "\u001b[K     |████████████████████████████████| 242 kB 14.0 MB/s eta 0:00:01\n",
            "\u001b[?25hCollecting et-xmlfile\n",
            "  Downloading et_xmlfile-1.0.1.tar.gz (8.4 kB)\n",
            "Collecting jdcal\n",
            "  Downloading jdcal-1.4.1-py2.py3-none-any.whl (9.5 kB)\n",
            "Building wheels for collected packages: et-xmlfile\n",
            "  Building wheel for et-xmlfile (setup.py) ... \u001b[?25l-\b \b\\\b \bdone\n",
            "\u001b[?25h  Created wheel for et-xmlfile: filename=et_xmlfile-1.0.1-py3-none-any.whl size=8917 sha256=512a508cb63a36c7cd3849a952ab2a2dbfd94be5c2ff2b99969ca6bf2eca2ced\n",
            "  Stored in directory: /home/azureuser/.cache/pip/wheels/ef/92/e0/956c00decf3091294b8800d9104f6169a1adacfaafd122ed42\n",
            "Successfully built et-xmlfile\n",
            "Installing collected packages: et-xmlfile, jdcal, openpyxl\n",
            "Successfully installed et-xmlfile-1.0.1 jdcal-1.4.1 openpyxl-3.0.5\n"
          ]
        }
      ],
      "execution_count": 61,
      "metadata": {
        "collapsed": true,
        "jupyter": {
          "source_hidden": false,
          "outputs_hidden": false
        },
        "nteract": {
          "transient": {
            "deleting": false
          }
        }
      }
    },
    {
      "cell_type": "code",
      "source": [
        "writer = pd.ExcelWriter('examples/ex2.xlsx')\n",
        "frame.to_excel(writer, 'Sheet1')\n",
        "writer.save()"
      ],
      "outputs": [],
      "execution_count": 62,
      "metadata": {
        "collapsed": false,
        "deletable": true,
        "editable": true,
        "gather": {
          "logged": 1606354481735
        }
      }
    },
    {
      "cell_type": "code",
      "source": [
        "frame.to_excel('examples/ex2.xlsx')"
      ],
      "outputs": [],
      "execution_count": 65,
      "metadata": {
        "collapsed": false,
        "deletable": true,
        "editable": true,
        "gather": {
          "logged": 1606354494579
        }
      }
    },
    {
      "cell_type": "code",
      "source": [
        "!rm examples/ex2.xlsx"
      ],
      "outputs": [],
      "execution_count": 66,
      "metadata": {
        "collapsed": false,
        "deletable": true,
        "editable": true
      }
    },
    {
      "cell_type": "markdown",
      "source": [
        "## Interacting with Web APIs"
      ],
      "metadata": {
        "deletable": true,
        "editable": true
      }
    },
    {
      "cell_type": "code",
      "source": [
        "import requests\n",
        "url = 'https://api.github.com/repos/pandas-dev/pandas/issues'\n",
        "resp = requests.get(url)\n",
        "resp"
      ],
      "outputs": [
        {
          "output_type": "execute_result",
          "execution_count": 67,
          "data": {
            "text/plain": "<Response [200]>"
          },
          "metadata": {}
        }
      ],
      "execution_count": 67,
      "metadata": {
        "collapsed": false,
        "deletable": true,
        "editable": true,
        "gather": {
          "logged": 1606354514047
        }
      }
    },
    {
      "cell_type": "code",
      "source": [
        "data = resp.json()\n",
        "data[0]['title']"
      ],
      "outputs": [
        {
          "output_type": "execute_result",
          "execution_count": 68,
          "data": {
            "text/plain": "'PERF: fix regression in tz_convert_from_utc'"
          },
          "metadata": {}
        }
      ],
      "execution_count": 68,
      "metadata": {
        "collapsed": false,
        "deletable": true,
        "editable": true,
        "gather": {
          "logged": 1606354516926
        }
      }
    },
    {
      "cell_type": "code",
      "source": [
        "issues = pd.DataFrame(data, columns=['number', 'title',\n",
        "                                     'labels', 'state'])\n",
        "issues"
      ],
      "outputs": [
        {
          "output_type": "execute_result",
          "execution_count": 69,
          "data": {
            "text/plain": "    number                                              title  \\\n0    38074        PERF: fix regression in tz_convert_from_utc   \n1    38073            BUG: Series.where casting dt64 to int64   \n2    38072             TST/REF: take things out of Base tests   \n3    38071  BUG: DataFrame.loc returning empty result with...   \n4    38070  BUG: Index.drop raising Error when Index has d...   \n5    38068  ENH: NDArrayBackedExtensionArray.__array_funct...   \n6    38067      DOC: Include missing holiday observance rules   \n7    38066                                         RLS: 1.1.5   \n8    38065     ENH: Add get_window method on a rolling object   \n9    38064                      DOC: tidy 1.1.5 release notes   \n10   38063  <NA> and NaN evaluate differently in equality ...   \n11   38062               DOC: move info docs to DataFrameInfo   \n12   38057  PERF: fix regression in creation of resulting ...   \n13   38054              TST: tighten assert_index_equal calls   \n14   38053  BUG: calling at[] on a Series with a single-le...   \n15   38052  BUG: get_indexer_non_unique not excluding bool...   \n16   38051         BUG: Index.drop raises on non-unique Index   \n17   38049  REF: share argmax axis validation test across ...   \n18   38048  ENH: adding support for Py3.6+ memory tracing ...   \n19   38047  DOC: Remove repeated words and wrong /it's/ usage   \n20   38046    BUG: BDay() offsetting not behaving as expected   \n21   38045          CLN: dont mix Int64Index into PeriodIndex   \n22   38044               CLN: Remove .values from groupby.sem   \n23   38043              TYP: Add cast to ABC Index-like types   \n24   38042                 ENH: groupby.apply axis=1 behavior   \n25   38040  BUG: Series constructor drops nanoseconds of T...   \n26   38039      Is possible pass `Series` to `groupby.head` ?   \n27   38038     REGR: Performance regression on RollingGroupby   \n28   38037        KeyError in datetime pandas due to Big Sur?   \n29   38034              ENH: preserve RangeIndex in factorize   \n\n                                               labels state  \n0   [{'id': 8935311, 'node_id': 'MDU6TGFiZWw4OTM1M...  open  \n1                                                  []  open  \n2                                                  []  open  \n3   [{'id': 2822098, 'node_id': 'MDU6TGFiZWwyODIyM...  open  \n4   [{'id': 1218227310, 'node_id': 'MDU6TGFiZWwxMj...  open  \n5                                                  []  open  \n6   [{'id': 134699, 'node_id': 'MDU6TGFiZWwxMzQ2OT...  open  \n7   [{'id': 131473665, 'node_id': 'MDU6TGFiZWwxMzE...  open  \n8   [{'id': 76812, 'node_id': 'MDU6TGFiZWw3NjgxMg=...  open  \n9   [{'id': 134699, 'node_id': 'MDU6TGFiZWwxMzQ2OT...  open  \n10                                                 []  open  \n11                                                 []  open  \n12  [{'id': 233160, 'node_id': 'MDU6TGFiZWwyMzMxNj...  open  \n13                                                 []  open  \n14  [{'id': 76811, 'node_id': 'MDU6TGFiZWw3NjgxMQ=...  open  \n15                                                 []  open  \n16  [{'id': 76811, 'node_id': 'MDU6TGFiZWw3NjgxMQ=...  open  \n17                                                 []  open  \n18                                                 []  open  \n19                                                 []  open  \n20  [{'id': 53181044, 'node_id': 'MDU6TGFiZWw1MzE4...  open  \n21                                                 []  open  \n22  [{'id': 211029535, 'node_id': 'MDU6TGFiZWwyMTE...  open  \n23                                                 []  open  \n24  [{'id': 1741841389, 'node_id': 'MDU6TGFiZWwxNz...  open  \n25                                                 []  open  \n26  [{'id': 233160, 'node_id': 'MDU6TGFiZWwyMzMxNj...  open  \n27  [{'id': 8935311, 'node_id': 'MDU6TGFiZWw4OTM1M...  open  \n28                                                 []  open  \n29                                                 []  open  ",
            "text/html": "<div>\n<style scoped>\n    .dataframe tbody tr th:only-of-type {\n        vertical-align: middle;\n    }\n\n    .dataframe tbody tr th {\n        vertical-align: top;\n    }\n\n    .dataframe thead th {\n        text-align: right;\n    }\n</style>\n<table border=\"1\" class=\"dataframe\">\n  <thead>\n    <tr style=\"text-align: right;\">\n      <th></th>\n      <th>number</th>\n      <th>title</th>\n      <th>labels</th>\n      <th>state</th>\n    </tr>\n  </thead>\n  <tbody>\n    <tr>\n      <th>0</th>\n      <td>38074</td>\n      <td>PERF: fix regression in tz_convert_from_utc</td>\n      <td>[{'id': 8935311, 'node_id': 'MDU6TGFiZWw4OTM1M...</td>\n      <td>open</td>\n    </tr>\n    <tr>\n      <th>1</th>\n      <td>38073</td>\n      <td>BUG: Series.where casting dt64 to int64</td>\n      <td>[]</td>\n      <td>open</td>\n    </tr>\n    <tr>\n      <th>2</th>\n      <td>38072</td>\n      <td>TST/REF: take things out of Base tests</td>\n      <td>[]</td>\n      <td>open</td>\n    </tr>\n    <tr>\n      <th>3</th>\n      <td>38071</td>\n      <td>BUG: DataFrame.loc returning empty result with...</td>\n      <td>[{'id': 2822098, 'node_id': 'MDU6TGFiZWwyODIyM...</td>\n      <td>open</td>\n    </tr>\n    <tr>\n      <th>4</th>\n      <td>38070</td>\n      <td>BUG: Index.drop raising Error when Index has d...</td>\n      <td>[{'id': 1218227310, 'node_id': 'MDU6TGFiZWwxMj...</td>\n      <td>open</td>\n    </tr>\n    <tr>\n      <th>5</th>\n      <td>38068</td>\n      <td>ENH: NDArrayBackedExtensionArray.__array_funct...</td>\n      <td>[]</td>\n      <td>open</td>\n    </tr>\n    <tr>\n      <th>6</th>\n      <td>38067</td>\n      <td>DOC: Include missing holiday observance rules</td>\n      <td>[{'id': 134699, 'node_id': 'MDU6TGFiZWwxMzQ2OT...</td>\n      <td>open</td>\n    </tr>\n    <tr>\n      <th>7</th>\n      <td>38066</td>\n      <td>RLS: 1.1.5</td>\n      <td>[{'id': 131473665, 'node_id': 'MDU6TGFiZWwxMzE...</td>\n      <td>open</td>\n    </tr>\n    <tr>\n      <th>8</th>\n      <td>38065</td>\n      <td>ENH: Add get_window method on a rolling object</td>\n      <td>[{'id': 76812, 'node_id': 'MDU6TGFiZWw3NjgxMg=...</td>\n      <td>open</td>\n    </tr>\n    <tr>\n      <th>9</th>\n      <td>38064</td>\n      <td>DOC: tidy 1.1.5 release notes</td>\n      <td>[{'id': 134699, 'node_id': 'MDU6TGFiZWwxMzQ2OT...</td>\n      <td>open</td>\n    </tr>\n    <tr>\n      <th>10</th>\n      <td>38063</td>\n      <td>&lt;NA&gt; and NaN evaluate differently in equality ...</td>\n      <td>[]</td>\n      <td>open</td>\n    </tr>\n    <tr>\n      <th>11</th>\n      <td>38062</td>\n      <td>DOC: move info docs to DataFrameInfo</td>\n      <td>[]</td>\n      <td>open</td>\n    </tr>\n    <tr>\n      <th>12</th>\n      <td>38057</td>\n      <td>PERF: fix regression in creation of resulting ...</td>\n      <td>[{'id': 233160, 'node_id': 'MDU6TGFiZWwyMzMxNj...</td>\n      <td>open</td>\n    </tr>\n    <tr>\n      <th>13</th>\n      <td>38054</td>\n      <td>TST: tighten assert_index_equal calls</td>\n      <td>[]</td>\n      <td>open</td>\n    </tr>\n    <tr>\n      <th>14</th>\n      <td>38053</td>\n      <td>BUG: calling at[] on a Series with a single-le...</td>\n      <td>[{'id': 76811, 'node_id': 'MDU6TGFiZWw3NjgxMQ=...</td>\n      <td>open</td>\n    </tr>\n    <tr>\n      <th>15</th>\n      <td>38052</td>\n      <td>BUG: get_indexer_non_unique not excluding bool...</td>\n      <td>[]</td>\n      <td>open</td>\n    </tr>\n    <tr>\n      <th>16</th>\n      <td>38051</td>\n      <td>BUG: Index.drop raises on non-unique Index</td>\n      <td>[{'id': 76811, 'node_id': 'MDU6TGFiZWw3NjgxMQ=...</td>\n      <td>open</td>\n    </tr>\n    <tr>\n      <th>17</th>\n      <td>38049</td>\n      <td>REF: share argmax axis validation test across ...</td>\n      <td>[]</td>\n      <td>open</td>\n    </tr>\n    <tr>\n      <th>18</th>\n      <td>38048</td>\n      <td>ENH: adding support for Py3.6+ memory tracing ...</td>\n      <td>[]</td>\n      <td>open</td>\n    </tr>\n    <tr>\n      <th>19</th>\n      <td>38047</td>\n      <td>DOC: Remove repeated words and wrong /it's/ usage</td>\n      <td>[]</td>\n      <td>open</td>\n    </tr>\n    <tr>\n      <th>20</th>\n      <td>38046</td>\n      <td>BUG: BDay() offsetting not behaving as expected</td>\n      <td>[{'id': 53181044, 'node_id': 'MDU6TGFiZWw1MzE4...</td>\n      <td>open</td>\n    </tr>\n    <tr>\n      <th>21</th>\n      <td>38045</td>\n      <td>CLN: dont mix Int64Index into PeriodIndex</td>\n      <td>[]</td>\n      <td>open</td>\n    </tr>\n    <tr>\n      <th>22</th>\n      <td>38044</td>\n      <td>CLN: Remove .values from groupby.sem</td>\n      <td>[{'id': 211029535, 'node_id': 'MDU6TGFiZWwyMTE...</td>\n      <td>open</td>\n    </tr>\n    <tr>\n      <th>23</th>\n      <td>38043</td>\n      <td>TYP: Add cast to ABC Index-like types</td>\n      <td>[]</td>\n      <td>open</td>\n    </tr>\n    <tr>\n      <th>24</th>\n      <td>38042</td>\n      <td>ENH: groupby.apply axis=1 behavior</td>\n      <td>[{'id': 1741841389, 'node_id': 'MDU6TGFiZWwxNz...</td>\n      <td>open</td>\n    </tr>\n    <tr>\n      <th>25</th>\n      <td>38040</td>\n      <td>BUG: Series constructor drops nanoseconds of T...</td>\n      <td>[]</td>\n      <td>open</td>\n    </tr>\n    <tr>\n      <th>26</th>\n      <td>38039</td>\n      <td>Is possible pass `Series` to `groupby.head` ?</td>\n      <td>[{'id': 233160, 'node_id': 'MDU6TGFiZWwyMzMxNj...</td>\n      <td>open</td>\n    </tr>\n    <tr>\n      <th>27</th>\n      <td>38038</td>\n      <td>REGR: Performance regression on RollingGroupby</td>\n      <td>[{'id': 8935311, 'node_id': 'MDU6TGFiZWw4OTM1M...</td>\n      <td>open</td>\n    </tr>\n    <tr>\n      <th>28</th>\n      <td>38037</td>\n      <td>KeyError in datetime pandas due to Big Sur?</td>\n      <td>[]</td>\n      <td>open</td>\n    </tr>\n    <tr>\n      <th>29</th>\n      <td>38034</td>\n      <td>ENH: preserve RangeIndex in factorize</td>\n      <td>[]</td>\n      <td>open</td>\n    </tr>\n  </tbody>\n</table>\n</div>"
          },
          "metadata": {}
        }
      ],
      "execution_count": 69,
      "metadata": {
        "collapsed": false,
        "deletable": true,
        "editable": true,
        "gather": {
          "logged": 1606354524908
        }
      }
    },
    {
      "cell_type": "markdown",
      "source": [
        "## Interacting with Databases"
      ],
      "metadata": {
        "deletable": true,
        "editable": true
      }
    },
    {
      "cell_type": "code",
      "source": [
        "import sqlite3\n",
        "query = \"\"\"\n",
        "CREATE TABLE test\n",
        "(a VARCHAR(20), b VARCHAR(20),\n",
        " c REAL,        d INTEGER\n",
        ");\"\"\"\n",
        "#con = sqlite3.connect('mydata.sqlite')\n",
        "con = sqlite3.connect('file:cachedb?mode=memory&cache=shared')\n",
        "cursor = con.cursor()\n",
        "cursor.execute(query)\n",
        "con.commit()"
      ],
      "outputs": [
        {
          "output_type": "error",
          "ename": "OperationalError",
          "evalue": "database is locked",
          "traceback": [
            "\u001b[0;31m---------------------------------------------------------------------------\u001b[0m",
            "\u001b[0;31mOperationalError\u001b[0m                          Traceback (most recent call last)",
            "\u001b[0;32m<ipython-input-5-affe00914db3>\u001b[0m in \u001b[0;36m<module>\u001b[0;34m\u001b[0m\n\u001b[1;32m      8\u001b[0m \u001b[0mcon\u001b[0m \u001b[0;34m=\u001b[0m \u001b[0msqlite3\u001b[0m\u001b[0;34m.\u001b[0m\u001b[0mconnect\u001b[0m\u001b[0;34m(\u001b[0m\u001b[0;34m'file:cachedb?mode=memory&cache=shared'\u001b[0m\u001b[0;34m)\u001b[0m\u001b[0;34m\u001b[0m\u001b[0;34m\u001b[0m\u001b[0m\n\u001b[1;32m      9\u001b[0m \u001b[0mcursor\u001b[0m \u001b[0;34m=\u001b[0m \u001b[0mcon\u001b[0m\u001b[0;34m.\u001b[0m\u001b[0mcursor\u001b[0m\u001b[0;34m(\u001b[0m\u001b[0;34m)\u001b[0m\u001b[0;34m\u001b[0m\u001b[0;34m\u001b[0m\u001b[0m\n\u001b[0;32m---> 10\u001b[0;31m \u001b[0mcursor\u001b[0m\u001b[0;34m.\u001b[0m\u001b[0mexecute\u001b[0m\u001b[0;34m(\u001b[0m\u001b[0mquery\u001b[0m\u001b[0;34m)\u001b[0m\u001b[0;34m\u001b[0m\u001b[0;34m\u001b[0m\u001b[0m\n\u001b[0m\u001b[1;32m     11\u001b[0m \u001b[0mcon\u001b[0m\u001b[0;34m.\u001b[0m\u001b[0mcommit\u001b[0m\u001b[0;34m(\u001b[0m\u001b[0;34m)\u001b[0m\u001b[0;34m\u001b[0m\u001b[0;34m\u001b[0m\u001b[0m\n",
            "\u001b[0;31mOperationalError\u001b[0m: database is locked"
          ]
        }
      ],
      "execution_count": 5,
      "metadata": {
        "collapsed": false,
        "deletable": true,
        "editable": true
      }
    },
    {
      "cell_type": "code",
      "source": [
        "data = [('Atlanta', 'Georgia', 1.25, 6),\n",
        "        ('Tallahassee', 'Florida', 2.6, 3),\n",
        "        ('Sacramento', 'California', 1.7, 5)]\n",
        "stmt = \"INSERT INTO test VALUES(?, ?, ?, ?)\"\n",
        "con.executemany(stmt, data)\n",
        "con.commit()"
      ],
      "outputs": [],
      "execution_count": null,
      "metadata": {
        "collapsed": false,
        "deletable": true,
        "editable": true
      }
    },
    {
      "cell_type": "code",
      "source": [
        "cursor = con.execute('select * from test')\n",
        "rows = cursor.fetchall()\n",
        "rows"
      ],
      "outputs": [],
      "execution_count": null,
      "metadata": {
        "collapsed": false,
        "deletable": true,
        "editable": true
      }
    },
    {
      "cell_type": "code",
      "source": [
        "cursor.description\n",
        "pd.DataFrame(rows, columns=[x[0] for x in cursor.description])"
      ],
      "outputs": [],
      "execution_count": null,
      "metadata": {
        "collapsed": false,
        "deletable": true,
        "editable": true
      }
    },
    {
      "cell_type": "code",
      "source": [
        "import sqlalchemy as sqla\n",
        "db = sqla.create_engine('sqlite:///mydata.sqlite')\n",
        "pd.read_sql('select * from test', db)"
      ],
      "outputs": [],
      "execution_count": null,
      "metadata": {
        "collapsed": false,
        "deletable": true,
        "editable": true
      }
    },
    {
      "cell_type": "code",
      "source": [
        "!rm mydata.sqlite"
      ],
      "outputs": [],
      "execution_count": null,
      "metadata": {
        "collapsed": false,
        "deletable": true,
        "editable": true
      }
    }
  ],
  "metadata": {
    "kernelspec": {
      "name": "python3",
      "language": "python",
      "display_name": "Python 3"
    },
    "language_info": {
      "name": "python",
      "version": "3.6.9",
      "mimetype": "text/x-python",
      "codemirror_mode": {
        "name": "ipython",
        "version": 3
      },
      "pygments_lexer": "ipython3",
      "nbconvert_exporter": "python",
      "file_extension": ".py"
    },
    "kernel_info": {
      "name": "python3"
    },
    "nteract": {
      "version": "nteract-front-end@1.0.0"
    }
  },
  "nbformat": 4,
  "nbformat_minor": 0
}